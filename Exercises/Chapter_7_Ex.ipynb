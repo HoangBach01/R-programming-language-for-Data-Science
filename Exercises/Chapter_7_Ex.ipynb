{
 "cells": [
  {
   "cell_type": "markdown",
   "metadata": {},
   "source": [
    "## Ex2"
   ]
  },
  {
   "cell_type": "code",
   "execution_count": 13,
   "metadata": {},
   "outputs": [
    {
     "data": {
      "text/html": [
       "<table class=\"dataframe\">\n",
       "<caption>A matrix: 4 × 3 of type int</caption>\n",
       "<thead>\n",
       "\t<tr><th></th><th scope=col>x</th><th scope=col>y</th><th scope=col>z</th></tr>\n",
       "</thead>\n",
       "<tbody>\n",
       "\t<tr><th scope=row>a</th><td>1</td><td>5</td><td> 9</td></tr>\n",
       "\t<tr><th scope=row>b</th><td>2</td><td>6</td><td>10</td></tr>\n",
       "\t<tr><th scope=row>c</th><td>3</td><td>7</td><td>11</td></tr>\n",
       "\t<tr><th scope=row>d</th><td>4</td><td>8</td><td>12</td></tr>\n",
       "</tbody>\n",
       "</table>\n"
      ],
      "text/latex": [
       "A matrix: 4 × 3 of type int\n",
       "\\begin{tabular}{r|lll}\n",
       "  & x & y & z\\\\\n",
       "\\hline\n",
       "\ta & 1 & 5 &  9\\\\\n",
       "\tb & 2 & 6 & 10\\\\\n",
       "\tc & 3 & 7 & 11\\\\\n",
       "\td & 4 & 8 & 12\\\\\n",
       "\\end{tabular}\n"
      ],
      "text/markdown": [
       "\n",
       "A matrix: 4 × 3 of type int\n",
       "\n",
       "| <!--/--> | x | y | z |\n",
       "|---|---|---|---|\n",
       "| a | 1 | 5 |  9 |\n",
       "| b | 2 | 6 | 10 |\n",
       "| c | 3 | 7 | 11 |\n",
       "| d | 4 | 8 | 12 |\n",
       "\n"
      ],
      "text/plain": [
       "  x y z \n",
       "a 1 5  9\n",
       "b 2 6 10\n",
       "c 3 7 11\n",
       "d 4 8 12"
      ]
     },
     "metadata": {},
     "output_type": "display_data"
    },
    {
     "data": {
      "text/html": [
       "<table class=\"dataframe\">\n",
       "<caption>A matrix: 3 × 4 of type int</caption>\n",
       "<thead>\n",
       "\t<tr><th></th><th scope=col>a</th><th scope=col>b</th><th scope=col>c</th><th scope=col>d</th></tr>\n",
       "</thead>\n",
       "<tbody>\n",
       "\t<tr><th scope=row>x</th><td>1</td><td> 2</td><td> 3</td><td> 4</td></tr>\n",
       "\t<tr><th scope=row>y</th><td>5</td><td> 6</td><td> 7</td><td> 8</td></tr>\n",
       "\t<tr><th scope=row>z</th><td>9</td><td>10</td><td>11</td><td>12</td></tr>\n",
       "</tbody>\n",
       "</table>\n"
      ],
      "text/latex": [
       "A matrix: 3 × 4 of type int\n",
       "\\begin{tabular}{r|llll}\n",
       "  & a & b & c & d\\\\\n",
       "\\hline\n",
       "\tx & 1 &  2 &  3 &  4\\\\\n",
       "\ty & 5 &  6 &  7 &  8\\\\\n",
       "\tz & 9 & 10 & 11 & 12\\\\\n",
       "\\end{tabular}\n"
      ],
      "text/markdown": [
       "\n",
       "A matrix: 3 × 4 of type int\n",
       "\n",
       "| <!--/--> | a | b | c | d |\n",
       "|---|---|---|---|---|\n",
       "| x | 1 |  2 |  3 |  4 |\n",
       "| y | 5 |  6 |  7 |  8 |\n",
       "| z | 9 | 10 | 11 | 12 |\n",
       "\n"
      ],
      "text/plain": [
       "  a b  c  d \n",
       "x 1  2  3  4\n",
       "y 5  6  7  8\n",
       "z 9 10 11 12"
      ]
     },
     "metadata": {},
     "output_type": "display_data"
    },
    {
     "data": {
      "text/html": [
       "<table class=\"dataframe\">\n",
       "<caption>A matrix: 3 × 3 of type int</caption>\n",
       "<thead>\n",
       "\t<tr><th></th><th scope=col>x</th><th scope=col>y</th><th scope=col>z</th></tr>\n",
       "</thead>\n",
       "<tbody>\n",
       "\t<tr><th scope=row>b</th><td>2</td><td>6</td><td>10</td></tr>\n",
       "\t<tr><th scope=row>c</th><td>3</td><td>7</td><td>11</td></tr>\n",
       "\t<tr><th scope=row>d</th><td>4</td><td>8</td><td>12</td></tr>\n",
       "</tbody>\n",
       "</table>\n"
      ],
      "text/latex": [
       "A matrix: 3 × 3 of type int\n",
       "\\begin{tabular}{r|lll}\n",
       "  & x & y & z\\\\\n",
       "\\hline\n",
       "\tb & 2 & 6 & 10\\\\\n",
       "\tc & 3 & 7 & 11\\\\\n",
       "\td & 4 & 8 & 12\\\\\n",
       "\\end{tabular}\n"
      ],
      "text/markdown": [
       "\n",
       "A matrix: 3 × 3 of type int\n",
       "\n",
       "| <!--/--> | x | y | z |\n",
       "|---|---|---|---|\n",
       "| b | 2 | 6 | 10 |\n",
       "| c | 3 | 7 | 11 |\n",
       "| d | 4 | 8 | 12 |\n",
       "\n"
      ],
      "text/plain": [
       "  x y z \n",
       "b 2 6 10\n",
       "c 3 7 11\n",
       "d 4 8 12"
      ]
     },
     "metadata": {},
     "output_type": "display_data"
    }
   ],
   "source": [
    "row_names = c('a', 'b', 'c', 'd')\n",
    "col_names = c('x', 'y', 'z')\n",
    "matrix_b = matrix(data = c(1:12), nrow=4, dimnames=list(row_names, col_names))\n",
    "matrix_b\n",
    "t(matrix_b)\n",
    "sub_b = matrix_b[2:4,]\n",
    "sub_b"
   ]
  },
  {
   "cell_type": "code",
   "execution_count": 14,
   "metadata": {},
   "outputs": [
    {
     "data": {
      "text/html": [
       "<table class=\"dataframe\">\n",
       "<caption>A matrix: 3 × 3 of type int</caption>\n",
       "<thead>\n",
       "\t<tr><th></th><th scope=col>x</th><th scope=col>y</th><th scope=col>z</th></tr>\n",
       "</thead>\n",
       "<tbody>\n",
       "\t<tr><th scope=row>a</th><td>1</td><td>4</td><td>7</td></tr>\n",
       "\t<tr><th scope=row>b</th><td>2</td><td>5</td><td>8</td></tr>\n",
       "\t<tr><th scope=row>c</th><td>3</td><td>6</td><td>9</td></tr>\n",
       "</tbody>\n",
       "</table>\n"
      ],
      "text/latex": [
       "A matrix: 3 × 3 of type int\n",
       "\\begin{tabular}{r|lll}\n",
       "  & x & y & z\\\\\n",
       "\\hline\n",
       "\ta & 1 & 4 & 7\\\\\n",
       "\tb & 2 & 5 & 8\\\\\n",
       "\tc & 3 & 6 & 9\\\\\n",
       "\\end{tabular}\n"
      ],
      "text/markdown": [
       "\n",
       "A matrix: 3 × 3 of type int\n",
       "\n",
       "| <!--/--> | x | y | z |\n",
       "|---|---|---|---|\n",
       "| a | 1 | 4 | 7 |\n",
       "| b | 2 | 5 | 8 |\n",
       "| c | 3 | 6 | 9 |\n",
       "\n"
      ],
      "text/plain": [
       "  x y z\n",
       "a 1 4 7\n",
       "b 2 5 8\n",
       "c 3 6 9"
      ]
     },
     "metadata": {},
     "output_type": "display_data"
    },
    {
     "data": {
      "text/html": [
       "<table class=\"dataframe\">\n",
       "<caption>A matrix: 3 × 3 of type dbl</caption>\n",
       "<thead>\n",
       "\t<tr><th></th><th scope=col>x</th><th scope=col>y</th><th scope=col>z</th></tr>\n",
       "</thead>\n",
       "<tbody>\n",
       "\t<tr><th scope=row>a</th><td>3</td><td>12</td><td>21</td></tr>\n",
       "\t<tr><th scope=row>b</th><td>6</td><td>15</td><td>24</td></tr>\n",
       "\t<tr><th scope=row>c</th><td>9</td><td>18</td><td>27</td></tr>\n",
       "</tbody>\n",
       "</table>\n"
      ],
      "text/latex": [
       "A matrix: 3 × 3 of type dbl\n",
       "\\begin{tabular}{r|lll}\n",
       "  & x & y & z\\\\\n",
       "\\hline\n",
       "\ta & 3 & 12 & 21\\\\\n",
       "\tb & 6 & 15 & 24\\\\\n",
       "\tc & 9 & 18 & 27\\\\\n",
       "\\end{tabular}\n"
      ],
      "text/markdown": [
       "\n",
       "A matrix: 3 × 3 of type dbl\n",
       "\n",
       "| <!--/--> | x | y | z |\n",
       "|---|---|---|---|\n",
       "| a | 3 | 12 | 21 |\n",
       "| b | 6 | 15 | 24 |\n",
       "| c | 9 | 18 | 27 |\n",
       "\n"
      ],
      "text/plain": [
       "  x y  z \n",
       "a 3 12 21\n",
       "b 6 15 24\n",
       "c 9 18 27"
      ]
     },
     "metadata": {},
     "output_type": "display_data"
    },
    {
     "data": {
      "text/html": [
       "<table class=\"dataframe\">\n",
       "<caption>A matrix: 3 × 3 of type int</caption>\n",
       "<thead>\n",
       "\t<tr><th></th><th scope=col>x</th><th scope=col>y</th><th scope=col>z</th></tr>\n",
       "</thead>\n",
       "<tbody>\n",
       "\t<tr><th scope=row>a</th><td>3</td><td>10</td><td>17</td></tr>\n",
       "\t<tr><th scope=row>b</th><td>5</td><td>12</td><td>19</td></tr>\n",
       "\t<tr><th scope=row>c</th><td>7</td><td>14</td><td>21</td></tr>\n",
       "</tbody>\n",
       "</table>\n"
      ],
      "text/latex": [
       "A matrix: 3 × 3 of type int\n",
       "\\begin{tabular}{r|lll}\n",
       "  & x & y & z\\\\\n",
       "\\hline\n",
       "\ta & 3 & 10 & 17\\\\\n",
       "\tb & 5 & 12 & 19\\\\\n",
       "\tc & 7 & 14 & 21\\\\\n",
       "\\end{tabular}\n"
      ],
      "text/markdown": [
       "\n",
       "A matrix: 3 × 3 of type int\n",
       "\n",
       "| <!--/--> | x | y | z |\n",
       "|---|---|---|---|\n",
       "| a | 3 | 10 | 17 |\n",
       "| b | 5 | 12 | 19 |\n",
       "| c | 7 | 14 | 21 |\n",
       "\n"
      ],
      "text/plain": [
       "  x y  z \n",
       "a 3 10 17\n",
       "b 5 12 19\n",
       "c 7 14 21"
      ]
     },
     "metadata": {},
     "output_type": "display_data"
    },
    {
     "data": {
      "text/html": [
       "<table class=\"dataframe\">\n",
       "<caption>A matrix: 3 × 3 of type int</caption>\n",
       "<thead>\n",
       "\t<tr><th></th><th scope=col>x</th><th scope=col>y</th><th scope=col>z</th></tr>\n",
       "</thead>\n",
       "<tbody>\n",
       "\t<tr><th scope=row>a</th><td>-1</td><td>-2</td><td>-3</td></tr>\n",
       "\t<tr><th scope=row>b</th><td>-1</td><td>-2</td><td>-3</td></tr>\n",
       "\t<tr><th scope=row>c</th><td>-1</td><td>-2</td><td>-3</td></tr>\n",
       "</tbody>\n",
       "</table>\n"
      ],
      "text/latex": [
       "A matrix: 3 × 3 of type int\n",
       "\\begin{tabular}{r|lll}\n",
       "  & x & y & z\\\\\n",
       "\\hline\n",
       "\ta & -1 & -2 & -3\\\\\n",
       "\tb & -1 & -2 & -3\\\\\n",
       "\tc & -1 & -2 & -3\\\\\n",
       "\\end{tabular}\n"
      ],
      "text/markdown": [
       "\n",
       "A matrix: 3 × 3 of type int\n",
       "\n",
       "| <!--/--> | x | y | z |\n",
       "|---|---|---|---|\n",
       "| a | -1 | -2 | -3 |\n",
       "| b | -1 | -2 | -3 |\n",
       "| c | -1 | -2 | -3 |\n",
       "\n"
      ],
      "text/plain": [
       "  x  y  z \n",
       "a -1 -2 -3\n",
       "b -1 -2 -3\n",
       "c -1 -2 -3"
      ]
     },
     "metadata": {},
     "output_type": "display_data"
    }
   ],
   "source": [
    "row_names = c('a', 'b', 'c')\n",
    "col_names = c('x', 'y', 'z')\n",
    "matrix_a = matrix(data = c(1:9), nrow=3, dimnames=list(row_names, col_names))\n",
    "matrix_a\n",
    "matrix_a * 3\n",
    "matrix_a + sub_b\n",
    "matrix_a - sub_b"
   ]
  },
  {
   "cell_type": "markdown",
   "metadata": {},
   "source": [
    "## Ex7"
   ]
  },
  {
   "cell_type": "code",
   "execution_count": 2,
   "metadata": {},
   "outputs": [
    {
     "name": "stdout",
     "output_type": "stream",
     "text": [
      "$year\n",
      " [1] 2008 2009 2010 2011 2012 2013 2014 2015 2016 2017 2018\n",
      "\n",
      "$month\n",
      " [1]  1  2  3  4  5  6  7  8  9 10 11 12\n",
      "\n",
      "$day\n",
      " [1]  1  2  3  4  5  6  7  8  9 10 11 12 13 14 15 16 17 18 19 20 21 22 23 24 25\n",
      "[26] 26 27 28 29 30 31\n",
      "\n"
     ]
    }
   ],
   "source": [
    "year = c(2008:2018)\n",
    "month = c(1:12)\n",
    "day = c(1:31)\n",
    "\n",
    "year_month_day.list = list('year'=year, 'month'=month, 'day'=day)\n",
    "print(year_month_day.list)"
   ]
  },
  {
   "cell_type": "code",
   "execution_count": 3,
   "metadata": {},
   "outputs": [
    {
     "name": "stdout",
     "output_type": "stream",
     "text": [
      "$year\n",
      " [1] 2010 2011 2012 2013 2014 2015 2016 2017 2018 2019 2020\n",
      "\n",
      "$month\n",
      " [1]  1  2  3  4  5  6  7  8  9 10 11 12\n",
      "\n",
      "$day\n",
      " [1]  1  2  3  4  5  6  7  8  9 10 11 12 13 14 15 16 17 18 19 20 21 22 23 24 25\n",
      "[26] 26 27 28 29 30 31\n",
      "\n"
     ]
    }
   ],
   "source": [
    "year_month_day.list$year = c(2010:2020)\n",
    "print(year_month_day.list)"
   ]
  },
  {
   "cell_type": "code",
   "execution_count": 4,
   "metadata": {},
   "outputs": [
    {
     "name": "stdout",
     "output_type": "stream",
     "text": [
      "$year\n",
      " [1] 2011 2012 2013 2014 2015 2016 2017 2018 2019 2020\n",
      "\n",
      "$month\n",
      " [1]  1  2  3  4  5  6  7  8  9 10 11 12\n",
      "\n",
      "$day\n",
      " [1]  1  2  3  4  5  6  7  8  9 10 11 12 13 14 15 16 17 18 19 20 21 22 23 24 25\n",
      "[26] 26 27 28 29 30 31\n",
      "\n"
     ]
    }
   ],
   "source": [
    "year_month_day.list$year = year_month_day.list$year[-1]\n",
    "print(year_month_day.list)"
   ]
  },
  {
   "cell_type": "code",
   "execution_count": 5,
   "metadata": {},
   "outputs": [
    {
     "name": "stdout",
     "output_type": "stream",
     "text": [
      "$`x*2`\n",
      "[1]  2  6  8 14 22 36 58\n",
      "\n",
      "$`x/2`\n",
      "[1]  0.5  1.5  2.0  3.5  5.5  9.0 14.5\n",
      "\n",
      "$`sqrt(x)`\n",
      "[1] 1.000000 1.732051 2.000000 2.645751 3.316625 4.242641 5.385165\n",
      "\n"
     ]
    }
   ],
   "source": [
    "x = c(1, 3, 4, 7, 11, 18, 29)\n",
    "cal.list = list('x*2'=x*2, 'x/2'=x/2, 'sqrt(x)'=sqrt(x))\n",
    "print(cal.list)"
   ]
  },
  {
   "cell_type": "code",
   "execution_count": 8,
   "metadata": {},
   "outputs": [
    {
     "data": {
      "text/html": [
       "<style>\n",
       ".list-inline {list-style: none; margin:0; padding: 0}\n",
       ".list-inline>li {display: inline-block}\n",
       ".list-inline>li:not(:last-child)::after {content: \"\\00b7\"; padding: 0 .5ex}\n",
       "</style>\n",
       "<ol class=list-inline><li>2</li><li>2.64575131106459</li><li>3.3166247903554</li></ol>\n"
      ],
      "text/latex": [
       "\\begin{enumerate*}\n",
       "\\item 2\n",
       "\\item 2.64575131106459\n",
       "\\item 3.3166247903554\n",
       "\\end{enumerate*}\n"
      ],
      "text/markdown": [
       "1. 2\n",
       "2. 2.64575131106459\n",
       "3. 3.3166247903554\n",
       "\n",
       "\n"
      ],
      "text/plain": [
       "[1] 2.000000 2.645751 3.316625"
      ]
     },
     "metadata": {},
     "output_type": "display_data"
    }
   ],
   "source": [
    "cal.list$'sqrt(x)'[3:5]"
   ]
  },
  {
   "cell_type": "code",
   "execution_count": 9,
   "metadata": {},
   "outputs": [
    {
     "name": "stdout",
     "output_type": "stream",
     "text": [
      "$year\n",
      " [1] 2011 2012 2013 2014 2015 2016 2017 2018 2019 2020\n",
      "\n",
      "$month\n",
      " [1]  1  2  3  4  5  6  7  8  9 10 11 12\n",
      "\n",
      "$day\n",
      " [1]  1  2  3  4  5  6  7  8  9 10 11 12 13 14 15 16 17 18 19 20 21 22 23 24 25\n",
      "[26] 26 27 28 29 30 31\n",
      "\n",
      "$`x*2`\n",
      "[1]  2  6  8 14 22 36 58\n",
      "\n",
      "$`x/2`\n",
      "[1]  0.5  1.5  2.0  3.5  5.5  9.0 14.5\n",
      "\n",
      "$`sqrt(x)`\n",
      "[1] 1.000000 1.732051 2.000000 2.645751 3.316625 4.242641 5.385165\n",
      "\n"
     ]
    }
   ],
   "source": [
    "year_month_day_cal.list = c(year_month_day.list, cal.list)\n",
    "print(year_month_day_cal.list)"
   ]
  },
  {
   "cell_type": "code",
   "execution_count": 10,
   "metadata": {},
   "outputs": [
    {
     "name": "stdout",
     "output_type": "stream",
     "text": [
      "$year\n",
      " [1] 2011 2012 2013 2014 2015 2016 2017 2018 2019 2020\n",
      "\n",
      "$`x*2`\n",
      "[1]  2  6  8 14 22 36 58\n",
      "\n",
      "$day\n",
      " [1]  1  2  3  4  5  6  7  8  9 10 11 12 13 14 15 16 17 18 19 20 21 22 23 24 25\n",
      "[26] 26 27 28 29 30 31\n",
      "\n"
     ]
    }
   ],
   "source": [
    "year_x2_day = year_month_day_cal.list[c('year', 'x*2', 'day')]\n",
    "print(year_x2_day)"
   ]
  },
  {
   "cell_type": "code",
   "execution_count": 11,
   "metadata": {},
   "outputs": [
    {
     "data": {
      "text/html": [
       "7"
      ],
      "text/latex": [
       "7"
      ],
      "text/markdown": [
       "7"
      ],
      "text/plain": [
       "[1] 7"
      ]
     },
     "metadata": {},
     "output_type": "display_data"
    }
   ],
   "source": [
    "length(year_x2_day$'x*2')"
   ]
  },
  {
   "cell_type": "code",
   "execution_count": 12,
   "metadata": {},
   "outputs": [
    {
     "data": {
      "text/html": [
       "10"
      ],
      "text/latex": [
       "10"
      ],
      "text/markdown": [
       "10"
      ],
      "text/plain": [
       "[1] 10"
      ]
     },
     "metadata": {},
     "output_type": "display_data"
    }
   ],
   "source": [
    "year_x2_day$year"
   ]
  },
  {
   "cell_type": "code",
   "execution_count": null,
   "metadata": {},
   "outputs": [],
   "source": []
  }
 ],
 "metadata": {
  "kernelspec": {
   "display_name": "R",
   "language": "R",
   "name": "ir"
  },
  "language_info": {
   "codemirror_mode": "r",
   "file_extension": ".r",
   "mimetype": "text/x-r-source",
   "name": "R",
   "pygments_lexer": "r",
   "version": "4.1.0"
  }
 },
 "nbformat": 4,
 "nbformat_minor": 4
}
