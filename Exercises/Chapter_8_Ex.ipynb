{
 "cells": [
  {
   "cell_type": "markdown",
   "metadata": {},
   "source": [
    "## Ex5"
   ]
  },
  {
   "cell_type": "code",
   "execution_count": 1,
   "metadata": {},
   "outputs": [
    {
     "name": "stderr",
     "output_type": "stream",
     "text": [
      "── \u001b[1mAttaching packages\u001b[22m ─────────────────────────────────────── tidyverse 1.3.1 ──\n",
      "\n",
      "\u001b[32m✔\u001b[39m \u001b[34mggplot2\u001b[39m 3.3.5     \u001b[32m✔\u001b[39m \u001b[34mpurrr  \u001b[39m 0.3.4\n",
      "\u001b[32m✔\u001b[39m \u001b[34mtibble \u001b[39m 3.1.2     \u001b[32m✔\u001b[39m \u001b[34mdplyr  \u001b[39m 1.0.7\n",
      "\u001b[32m✔\u001b[39m \u001b[34mtidyr  \u001b[39m 1.1.3     \u001b[32m✔\u001b[39m \u001b[34mstringr\u001b[39m 1.4.0\n",
      "\u001b[32m✔\u001b[39m \u001b[34mreadr  \u001b[39m 1.4.0     \u001b[32m✔\u001b[39m \u001b[34mforcats\u001b[39m 0.5.1\n",
      "\n",
      "── \u001b[1mConflicts\u001b[22m ────────────────────────────────────────── tidyverse_conflicts() ──\n",
      "\u001b[31m✖\u001b[39m \u001b[34mdplyr\u001b[39m::\u001b[32mfilter()\u001b[39m masks \u001b[34mstats\u001b[39m::filter()\n",
      "\u001b[31m✖\u001b[39m \u001b[34mdplyr\u001b[39m::\u001b[32mlag()\u001b[39m    masks \u001b[34mstats\u001b[39m::lag()\n",
      "\n"
     ]
    }
   ],
   "source": [
    "library(tidyverse)"
   ]
  },
  {
   "cell_type": "code",
   "execution_count": 3,
   "metadata": {},
   "outputs": [
    {
     "data": {
      "text/html": [
       "<table class=\"dataframe\">\n",
       "<caption>A data.frame: 6 × 11</caption>\n",
       "<thead>\n",
       "\t<tr><th></th><th scope=col>id</th><th scope=col>gender</th><th scope=col>height</th><th scope=col>weight</th><th scope=col>bmi</th><th scope=col>age</th><th scope=col>bmc</th><th scope=col>bmd</th><th scope=col>fat</th><th scope=col>lean</th><th scope=col>pcfat</th></tr>\n",
       "\t<tr><th></th><th scope=col>&lt;int&gt;</th><th scope=col>&lt;chr&gt;</th><th scope=col>&lt;int&gt;</th><th scope=col>&lt;int&gt;</th><th scope=col>&lt;dbl&gt;</th><th scope=col>&lt;int&gt;</th><th scope=col>&lt;int&gt;</th><th scope=col>&lt;dbl&gt;</th><th scope=col>&lt;int&gt;</th><th scope=col>&lt;int&gt;</th><th scope=col>&lt;dbl&gt;</th></tr>\n",
       "</thead>\n",
       "<tbody>\n",
       "\t<tr><th scope=row>1</th><td>1</td><td>F</td><td>150</td><td>49</td><td>21.8</td><td>53</td><td>1312</td><td>0.88</td><td>17802</td><td>28600</td><td>37.3</td></tr>\n",
       "\t<tr><th scope=row>2</th><td>2</td><td>M</td><td>165</td><td>52</td><td>19.1</td><td>65</td><td>1309</td><td>0.84</td><td> 8381</td><td>40229</td><td>16.8</td></tr>\n",
       "\t<tr><th scope=row>3</th><td>3</td><td>F</td><td>157</td><td>57</td><td>23.1</td><td>64</td><td>1230</td><td>0.84</td><td>19221</td><td>36057</td><td>34.0</td></tr>\n",
       "\t<tr><th scope=row>4</th><td>4</td><td>F</td><td>156</td><td>53</td><td>21.8</td><td>56</td><td>1171</td><td>0.80</td><td>17472</td><td>33094</td><td>33.8</td></tr>\n",
       "\t<tr><th scope=row>5</th><td>5</td><td>M</td><td>160</td><td>51</td><td>19.9</td><td>54</td><td>1681</td><td>0.98</td><td> 7336</td><td>40621</td><td>14.8</td></tr>\n",
       "\t<tr><th scope=row>6</th><td>6</td><td>F</td><td>153</td><td>47</td><td>20.1</td><td>52</td><td>1358</td><td>0.91</td><td>14904</td><td>30068</td><td>32.2</td></tr>\n",
       "</tbody>\n",
       "</table>\n"
      ],
      "text/latex": [
       "A data.frame: 6 × 11\n",
       "\\begin{tabular}{r|lllllllllll}\n",
       "  & id & gender & height & weight & bmi & age & bmc & bmd & fat & lean & pcfat\\\\\n",
       "  & <int> & <chr> & <int> & <int> & <dbl> & <int> & <int> & <dbl> & <int> & <int> & <dbl>\\\\\n",
       "\\hline\n",
       "\t1 & 1 & F & 150 & 49 & 21.8 & 53 & 1312 & 0.88 & 17802 & 28600 & 37.3\\\\\n",
       "\t2 & 2 & M & 165 & 52 & 19.1 & 65 & 1309 & 0.84 &  8381 & 40229 & 16.8\\\\\n",
       "\t3 & 3 & F & 157 & 57 & 23.1 & 64 & 1230 & 0.84 & 19221 & 36057 & 34.0\\\\\n",
       "\t4 & 4 & F & 156 & 53 & 21.8 & 56 & 1171 & 0.80 & 17472 & 33094 & 33.8\\\\\n",
       "\t5 & 5 & M & 160 & 51 & 19.9 & 54 & 1681 & 0.98 &  7336 & 40621 & 14.8\\\\\n",
       "\t6 & 6 & F & 153 & 47 & 20.1 & 52 & 1358 & 0.91 & 14904 & 30068 & 32.2\\\\\n",
       "\\end{tabular}\n"
      ],
      "text/markdown": [
       "\n",
       "A data.frame: 6 × 11\n",
       "\n",
       "| <!--/--> | id &lt;int&gt; | gender &lt;chr&gt; | height &lt;int&gt; | weight &lt;int&gt; | bmi &lt;dbl&gt; | age &lt;int&gt; | bmc &lt;int&gt; | bmd &lt;dbl&gt; | fat &lt;int&gt; | lean &lt;int&gt; | pcfat &lt;dbl&gt; |\n",
       "|---|---|---|---|---|---|---|---|---|---|---|---|\n",
       "| 1 | 1 | F | 150 | 49 | 21.8 | 53 | 1312 | 0.88 | 17802 | 28600 | 37.3 |\n",
       "| 2 | 2 | M | 165 | 52 | 19.1 | 65 | 1309 | 0.84 |  8381 | 40229 | 16.8 |\n",
       "| 3 | 3 | F | 157 | 57 | 23.1 | 64 | 1230 | 0.84 | 19221 | 36057 | 34.0 |\n",
       "| 4 | 4 | F | 156 | 53 | 21.8 | 56 | 1171 | 0.80 | 17472 | 33094 | 33.8 |\n",
       "| 5 | 5 | M | 160 | 51 | 19.9 | 54 | 1681 | 0.98 |  7336 | 40621 | 14.8 |\n",
       "| 6 | 6 | F | 153 | 47 | 20.1 | 52 | 1358 | 0.91 | 14904 | 30068 | 32.2 |\n",
       "\n"
      ],
      "text/plain": [
       "  id gender height weight bmi  age bmc  bmd  fat   lean  pcfat\n",
       "1 1  F      150    49     21.8 53  1312 0.88 17802 28600 37.3 \n",
       "2 2  M      165    52     19.1 65  1309 0.84  8381 40229 16.8 \n",
       "3 3  F      157    57     23.1 64  1230 0.84 19221 36057 34.0 \n",
       "4 4  F      156    53     21.8 56  1171 0.80 17472 33094 33.8 \n",
       "5 5  M      160    51     19.9 54  1681 0.98  7336 40621 14.8 \n",
       "6 6  F      153    47     20.1 52  1358 0.91 14904 30068 32.2 "
      ]
     },
     "metadata": {},
     "output_type": "display_data"
    }
   ],
   "source": [
    "data = read.csv('Obesity_data.csv')\n",
    "head(data)"
   ]
  },
  {
   "cell_type": "code",
   "execution_count": 5,
   "metadata": {},
   "outputs": [
    {
     "data": {
      "text/html": [
       "<table class=\"dataframe\">\n",
       "<caption>A data.frame: 6 × 5</caption>\n",
       "<thead>\n",
       "\t<tr><th></th><th scope=col>gender</th><th scope=col>height</th><th scope=col>weight</th><th scope=col>bmi</th><th scope=col>age</th></tr>\n",
       "\t<tr><th></th><th scope=col>&lt;chr&gt;</th><th scope=col>&lt;int&gt;</th><th scope=col>&lt;int&gt;</th><th scope=col>&lt;dbl&gt;</th><th scope=col>&lt;int&gt;</th></tr>\n",
       "</thead>\n",
       "<tbody>\n",
       "\t<tr><th scope=row>1</th><td>F</td><td>150</td><td>49</td><td>21.8</td><td>53</td></tr>\n",
       "\t<tr><th scope=row>2</th><td>M</td><td>165</td><td>52</td><td>19.1</td><td>65</td></tr>\n",
       "\t<tr><th scope=row>3</th><td>F</td><td>157</td><td>57</td><td>23.1</td><td>64</td></tr>\n",
       "\t<tr><th scope=row>4</th><td>F</td><td>156</td><td>53</td><td>21.8</td><td>56</td></tr>\n",
       "\t<tr><th scope=row>5</th><td>M</td><td>160</td><td>51</td><td>19.9</td><td>54</td></tr>\n",
       "\t<tr><th scope=row>6</th><td>F</td><td>153</td><td>47</td><td>20.1</td><td>52</td></tr>\n",
       "</tbody>\n",
       "</table>\n"
      ],
      "text/latex": [
       "A data.frame: 6 × 5\n",
       "\\begin{tabular}{r|lllll}\n",
       "  & gender & height & weight & bmi & age\\\\\n",
       "  & <chr> & <int> & <int> & <dbl> & <int>\\\\\n",
       "\\hline\n",
       "\t1 & F & 150 & 49 & 21.8 & 53\\\\\n",
       "\t2 & M & 165 & 52 & 19.1 & 65\\\\\n",
       "\t3 & F & 157 & 57 & 23.1 & 64\\\\\n",
       "\t4 & F & 156 & 53 & 21.8 & 56\\\\\n",
       "\t5 & M & 160 & 51 & 19.9 & 54\\\\\n",
       "\t6 & F & 153 & 47 & 20.1 & 52\\\\\n",
       "\\end{tabular}\n"
      ],
      "text/markdown": [
       "\n",
       "A data.frame: 6 × 5\n",
       "\n",
       "| <!--/--> | gender &lt;chr&gt; | height &lt;int&gt; | weight &lt;int&gt; | bmi &lt;dbl&gt; | age &lt;int&gt; |\n",
       "|---|---|---|---|---|---|\n",
       "| 1 | F | 150 | 49 | 21.8 | 53 |\n",
       "| 2 | M | 165 | 52 | 19.1 | 65 |\n",
       "| 3 | F | 157 | 57 | 23.1 | 64 |\n",
       "| 4 | F | 156 | 53 | 21.8 | 56 |\n",
       "| 5 | M | 160 | 51 | 19.9 | 54 |\n",
       "| 6 | F | 153 | 47 | 20.1 | 52 |\n",
       "\n"
      ],
      "text/plain": [
       "  gender height weight bmi  age\n",
       "1 F      150    49     21.8 53 \n",
       "2 M      165    52     19.1 65 \n",
       "3 F      157    57     23.1 64 \n",
       "4 F      156    53     21.8 56 \n",
       "5 M      160    51     19.9 54 \n",
       "6 F      153    47     20.1 52 "
      ]
     },
     "metadata": {},
     "output_type": "display_data"
    }
   ],
   "source": [
    "data1 = select(data, c(2, 3, 4, 5, 6))\n",
    "head(data1)"
   ]
  },
  {
   "cell_type": "code",
   "execution_count": 7,
   "metadata": {},
   "outputs": [
    {
     "data": {
      "text/html": [
       "<table class=\"dataframe\">\n",
       "<caption>A data.frame: 6 × 5</caption>\n",
       "<thead>\n",
       "\t<tr><th></th><th scope=col>gender</th><th scope=col>height</th><th scope=col>weight</th><th scope=col>bmi</th><th scope=col>age</th></tr>\n",
       "\t<tr><th></th><th scope=col>&lt;chr&gt;</th><th scope=col>&lt;int&gt;</th><th scope=col>&lt;int&gt;</th><th scope=col>&lt;dbl&gt;</th><th scope=col>&lt;int&gt;</th></tr>\n",
       "</thead>\n",
       "<tbody>\n",
       "\t<tr><th scope=row>1</th><td>F</td><td>150</td><td>49</td><td>21.8</td><td>53</td></tr>\n",
       "\t<tr><th scope=row>2</th><td>M</td><td>165</td><td>52</td><td>19.1</td><td>65</td></tr>\n",
       "\t<tr><th scope=row>3</th><td>F</td><td>157</td><td>57</td><td>23.1</td><td>64</td></tr>\n",
       "\t<tr><th scope=row>4</th><td>F</td><td>156</td><td>53</td><td>21.8</td><td>56</td></tr>\n",
       "\t<tr><th scope=row>5</th><td>M</td><td>160</td><td>51</td><td>19.9</td><td>54</td></tr>\n",
       "\t<tr><th scope=row>6</th><td>F</td><td>153</td><td>47</td><td>20.1</td><td>52</td></tr>\n",
       "</tbody>\n",
       "</table>\n"
      ],
      "text/latex": [
       "A data.frame: 6 × 5\n",
       "\\begin{tabular}{r|lllll}\n",
       "  & gender & height & weight & bmi & age\\\\\n",
       "  & <chr> & <int> & <int> & <dbl> & <int>\\\\\n",
       "\\hline\n",
       "\t1 & F & 150 & 49 & 21.8 & 53\\\\\n",
       "\t2 & M & 165 & 52 & 19.1 & 65\\\\\n",
       "\t3 & F & 157 & 57 & 23.1 & 64\\\\\n",
       "\t4 & F & 156 & 53 & 21.8 & 56\\\\\n",
       "\t5 & M & 160 & 51 & 19.9 & 54\\\\\n",
       "\t6 & F & 153 & 47 & 20.1 & 52\\\\\n",
       "\\end{tabular}\n"
      ],
      "text/markdown": [
       "\n",
       "A data.frame: 6 × 5\n",
       "\n",
       "| <!--/--> | gender &lt;chr&gt; | height &lt;int&gt; | weight &lt;int&gt; | bmi &lt;dbl&gt; | age &lt;int&gt; |\n",
       "|---|---|---|---|---|---|\n",
       "| 1 | F | 150 | 49 | 21.8 | 53 |\n",
       "| 2 | M | 165 | 52 | 19.1 | 65 |\n",
       "| 3 | F | 157 | 57 | 23.1 | 64 |\n",
       "| 4 | F | 156 | 53 | 21.8 | 56 |\n",
       "| 5 | M | 160 | 51 | 19.9 | 54 |\n",
       "| 6 | F | 153 | 47 | 20.1 | 52 |\n",
       "\n"
      ],
      "text/plain": [
       "  gender height weight bmi  age\n",
       "1 F      150    49     21.8 53 \n",
       "2 M      165    52     19.1 65 \n",
       "3 F      157    57     23.1 64 \n",
       "4 F      156    53     21.8 56 \n",
       "5 M      160    51     19.9 54 \n",
       "6 F      153    47     20.1 52 "
      ]
     },
     "metadata": {},
     "output_type": "display_data"
    }
   ],
   "source": [
    "data11 = select(data, c(gender, height, weight, bmi, age))\n",
    "head(data11)"
   ]
  },
  {
   "cell_type": "code",
   "execution_count": 9,
   "metadata": {},
   "outputs": [
    {
     "data": {
      "text/html": [
       "<table class=\"dataframe\">\n",
       "<caption>A data.frame: 6 × 5</caption>\n",
       "<thead>\n",
       "\t<tr><th></th><th scope=col>gender</th><th scope=col>height</th><th scope=col>weight</th><th scope=col>bmi</th><th scope=col>age</th></tr>\n",
       "\t<tr><th></th><th scope=col>&lt;chr&gt;</th><th scope=col>&lt;int&gt;</th><th scope=col>&lt;int&gt;</th><th scope=col>&lt;dbl&gt;</th><th scope=col>&lt;int&gt;</th></tr>\n",
       "</thead>\n",
       "<tbody>\n",
       "\t<tr><th scope=row>1</th><td>F</td><td>150</td><td>49</td><td>21.8</td><td>53</td></tr>\n",
       "\t<tr><th scope=row>2</th><td>M</td><td>165</td><td>52</td><td>19.1</td><td>65</td></tr>\n",
       "\t<tr><th scope=row>3</th><td>F</td><td>157</td><td>57</td><td>23.1</td><td>64</td></tr>\n",
       "\t<tr><th scope=row>4</th><td>F</td><td>156</td><td>53</td><td>21.8</td><td>56</td></tr>\n",
       "\t<tr><th scope=row>5</th><td>M</td><td>160</td><td>51</td><td>19.9</td><td>54</td></tr>\n",
       "\t<tr><th scope=row>6</th><td>F</td><td>153</td><td>47</td><td>20.1</td><td>52</td></tr>\n",
       "</tbody>\n",
       "</table>\n"
      ],
      "text/latex": [
       "A data.frame: 6 × 5\n",
       "\\begin{tabular}{r|lllll}\n",
       "  & gender & height & weight & bmi & age\\\\\n",
       "  & <chr> & <int> & <int> & <dbl> & <int>\\\\\n",
       "\\hline\n",
       "\t1 & F & 150 & 49 & 21.8 & 53\\\\\n",
       "\t2 & M & 165 & 52 & 19.1 & 65\\\\\n",
       "\t3 & F & 157 & 57 & 23.1 & 64\\\\\n",
       "\t4 & F & 156 & 53 & 21.8 & 56\\\\\n",
       "\t5 & M & 160 & 51 & 19.9 & 54\\\\\n",
       "\t6 & F & 153 & 47 & 20.1 & 52\\\\\n",
       "\\end{tabular}\n"
      ],
      "text/markdown": [
       "\n",
       "A data.frame: 6 × 5\n",
       "\n",
       "| <!--/--> | gender &lt;chr&gt; | height &lt;int&gt; | weight &lt;int&gt; | bmi &lt;dbl&gt; | age &lt;int&gt; |\n",
       "|---|---|---|---|---|---|\n",
       "| 1 | F | 150 | 49 | 21.8 | 53 |\n",
       "| 2 | M | 165 | 52 | 19.1 | 65 |\n",
       "| 3 | F | 157 | 57 | 23.1 | 64 |\n",
       "| 4 | F | 156 | 53 | 21.8 | 56 |\n",
       "| 5 | M | 160 | 51 | 19.9 | 54 |\n",
       "| 6 | F | 153 | 47 | 20.1 | 52 |\n",
       "\n"
      ],
      "text/plain": [
       "  gender height weight bmi  age\n",
       "1 F      150    49     21.8 53 \n",
       "2 M      165    52     19.1 65 \n",
       "3 F      157    57     23.1 64 \n",
       "4 F      156    53     21.8 56 \n",
       "5 M      160    51     19.9 54 \n",
       "6 F      153    47     20.1 52 "
      ]
     },
     "metadata": {},
     "output_type": "display_data"
    }
   ],
   "source": [
    "data2 = filter(data1, bmi >= 18.5, bmi <=24.9)\n",
    "head(data2)"
   ]
  },
  {
   "cell_type": "code",
   "execution_count": 10,
   "metadata": {},
   "outputs": [
    {
     "name": "stdout",
     "output_type": "stream",
     "text": [
      "[1] \"Rows have bmi >= 18.5 and <= 24.9:  865\"\n"
     ]
    }
   ],
   "source": [
    "print(paste('Rows have bmi >= 18.5 and <= 24.9: ', nrow(data2)))"
   ]
  },
  {
   "cell_type": "code",
   "execution_count": 14,
   "metadata": {},
   "outputs": [
    {
     "data": {
      "text/html": [
       "<table class=\"dataframe\">\n",
       "<caption>A data.frame: 6 × 6</caption>\n",
       "<thead>\n",
       "\t<tr><th></th><th scope=col>gender</th><th scope=col>height</th><th scope=col>weight</th><th scope=col>bmi</th><th scope=col>age</th><th scope=col>height_m</th></tr>\n",
       "\t<tr><th></th><th scope=col>&lt;chr&gt;</th><th scope=col>&lt;int&gt;</th><th scope=col>&lt;int&gt;</th><th scope=col>&lt;dbl&gt;</th><th scope=col>&lt;int&gt;</th><th scope=col>&lt;dbl&gt;</th></tr>\n",
       "</thead>\n",
       "<tbody>\n",
       "\t<tr><th scope=row>1</th><td>F</td><td>150</td><td>49</td><td>21.8</td><td>53</td><td>1.50</td></tr>\n",
       "\t<tr><th scope=row>2</th><td>M</td><td>165</td><td>52</td><td>19.1</td><td>65</td><td>1.65</td></tr>\n",
       "\t<tr><th scope=row>3</th><td>F</td><td>157</td><td>57</td><td>23.1</td><td>64</td><td>1.57</td></tr>\n",
       "\t<tr><th scope=row>4</th><td>F</td><td>156</td><td>53</td><td>21.8</td><td>56</td><td>1.56</td></tr>\n",
       "\t<tr><th scope=row>5</th><td>M</td><td>160</td><td>51</td><td>19.9</td><td>54</td><td>1.60</td></tr>\n",
       "\t<tr><th scope=row>6</th><td>F</td><td>153</td><td>47</td><td>20.1</td><td>52</td><td>1.53</td></tr>\n",
       "</tbody>\n",
       "</table>\n"
      ],
      "text/latex": [
       "A data.frame: 6 × 6\n",
       "\\begin{tabular}{r|llllll}\n",
       "  & gender & height & weight & bmi & age & height\\_m\\\\\n",
       "  & <chr> & <int> & <int> & <dbl> & <int> & <dbl>\\\\\n",
       "\\hline\n",
       "\t1 & F & 150 & 49 & 21.8 & 53 & 1.50\\\\\n",
       "\t2 & M & 165 & 52 & 19.1 & 65 & 1.65\\\\\n",
       "\t3 & F & 157 & 57 & 23.1 & 64 & 1.57\\\\\n",
       "\t4 & F & 156 & 53 & 21.8 & 56 & 1.56\\\\\n",
       "\t5 & M & 160 & 51 & 19.9 & 54 & 1.60\\\\\n",
       "\t6 & F & 153 & 47 & 20.1 & 52 & 1.53\\\\\n",
       "\\end{tabular}\n"
      ],
      "text/markdown": [
       "\n",
       "A data.frame: 6 × 6\n",
       "\n",
       "| <!--/--> | gender &lt;chr&gt; | height &lt;int&gt; | weight &lt;int&gt; | bmi &lt;dbl&gt; | age &lt;int&gt; | height_m &lt;dbl&gt; |\n",
       "|---|---|---|---|---|---|---|\n",
       "| 1 | F | 150 | 49 | 21.8 | 53 | 1.50 |\n",
       "| 2 | M | 165 | 52 | 19.1 | 65 | 1.65 |\n",
       "| 3 | F | 157 | 57 | 23.1 | 64 | 1.57 |\n",
       "| 4 | F | 156 | 53 | 21.8 | 56 | 1.56 |\n",
       "| 5 | M | 160 | 51 | 19.9 | 54 | 1.60 |\n",
       "| 6 | F | 153 | 47 | 20.1 | 52 | 1.53 |\n",
       "\n"
      ],
      "text/plain": [
       "  gender height weight bmi  age height_m\n",
       "1 F      150    49     21.8 53  1.50    \n",
       "2 M      165    52     19.1 65  1.65    \n",
       "3 F      157    57     23.1 64  1.57    \n",
       "4 F      156    53     21.8 56  1.56    \n",
       "5 M      160    51     19.9 54  1.60    \n",
       "6 F      153    47     20.1 52  1.53    "
      ]
     },
     "metadata": {},
     "output_type": "display_data"
    }
   ],
   "source": [
    "data1 = mutate(data1, height_m = height/100)\n",
    "head(data1)"
   ]
  },
  {
   "cell_type": "code",
   "execution_count": 15,
   "metadata": {},
   "outputs": [
    {
     "data": {
      "text/html": [
       "<table class=\"dataframe\">\n",
       "<caption>A data.frame: 6 × 6</caption>\n",
       "<thead>\n",
       "\t<tr><th></th><th scope=col>gender</th><th scope=col>height</th><th scope=col>weight</th><th scope=col>bmi</th><th scope=col>age</th><th scope=col>height_m</th></tr>\n",
       "\t<tr><th></th><th scope=col>&lt;chr&gt;</th><th scope=col>&lt;int&gt;</th><th scope=col>&lt;int&gt;</th><th scope=col>&lt;dbl&gt;</th><th scope=col>&lt;int&gt;</th><th scope=col>&lt;dbl&gt;</th></tr>\n",
       "</thead>\n",
       "<tbody>\n",
       "\t<tr><th scope=row>1</th><td>M</td><td>162</td><td>38</td><td>14.5</td><td>55</td><td>1.62</td></tr>\n",
       "\t<tr><th scope=row>2</th><td>F</td><td>162</td><td>40</td><td>15.2</td><td>54</td><td>1.62</td></tr>\n",
       "\t<tr><th scope=row>3</th><td>F</td><td>151</td><td>35</td><td>15.4</td><td>33</td><td>1.51</td></tr>\n",
       "\t<tr><th scope=row>4</th><td>F</td><td>155</td><td>37</td><td>15.4</td><td>44</td><td>1.55</td></tr>\n",
       "\t<tr><th scope=row>5</th><td>F</td><td>150</td><td>35</td><td>15.6</td><td>24</td><td>1.50</td></tr>\n",
       "\t<tr><th scope=row>6</th><td>M</td><td>169</td><td>45</td><td>15.8</td><td>50</td><td>1.69</td></tr>\n",
       "</tbody>\n",
       "</table>\n"
      ],
      "text/latex": [
       "A data.frame: 6 × 6\n",
       "\\begin{tabular}{r|llllll}\n",
       "  & gender & height & weight & bmi & age & height\\_m\\\\\n",
       "  & <chr> & <int> & <int> & <dbl> & <int> & <dbl>\\\\\n",
       "\\hline\n",
       "\t1 & M & 162 & 38 & 14.5 & 55 & 1.62\\\\\n",
       "\t2 & F & 162 & 40 & 15.2 & 54 & 1.62\\\\\n",
       "\t3 & F & 151 & 35 & 15.4 & 33 & 1.51\\\\\n",
       "\t4 & F & 155 & 37 & 15.4 & 44 & 1.55\\\\\n",
       "\t5 & F & 150 & 35 & 15.6 & 24 & 1.50\\\\\n",
       "\t6 & M & 169 & 45 & 15.8 & 50 & 1.69\\\\\n",
       "\\end{tabular}\n"
      ],
      "text/markdown": [
       "\n",
       "A data.frame: 6 × 6\n",
       "\n",
       "| <!--/--> | gender &lt;chr&gt; | height &lt;int&gt; | weight &lt;int&gt; | bmi &lt;dbl&gt; | age &lt;int&gt; | height_m &lt;dbl&gt; |\n",
       "|---|---|---|---|---|---|---|\n",
       "| 1 | M | 162 | 38 | 14.5 | 55 | 1.62 |\n",
       "| 2 | F | 162 | 40 | 15.2 | 54 | 1.62 |\n",
       "| 3 | F | 151 | 35 | 15.4 | 33 | 1.51 |\n",
       "| 4 | F | 155 | 37 | 15.4 | 44 | 1.55 |\n",
       "| 5 | F | 150 | 35 | 15.6 | 24 | 1.50 |\n",
       "| 6 | M | 169 | 45 | 15.8 | 50 | 1.69 |\n",
       "\n"
      ],
      "text/plain": [
       "  gender height weight bmi  age height_m\n",
       "1 M      162    38     14.5 55  1.62    \n",
       "2 F      162    40     15.2 54  1.62    \n",
       "3 F      151    35     15.4 33  1.51    \n",
       "4 F      155    37     15.4 44  1.55    \n",
       "5 F      150    35     15.6 24  1.50    \n",
       "6 M      169    45     15.8 50  1.69    "
      ]
     },
     "metadata": {},
     "output_type": "display_data"
    }
   ],
   "source": [
    "head(arrange(data1, bmi))"
   ]
  },
  {
   "cell_type": "code",
   "execution_count": 16,
   "metadata": {},
   "outputs": [
    {
     "data": {
      "text/html": [
       "<table class=\"dataframe\">\n",
       "<caption>A tibble: 2 × 4</caption>\n",
       "<thead>\n",
       "\t<tr><th scope=col>gender</th><th scope=col>count</th><th scope=col>mean.height</th><th scope=col>mean.weight</th></tr>\n",
       "\t<tr><th scope=col>&lt;chr&gt;</th><th scope=col>&lt;int&gt;</th><th scope=col>&lt;dbl&gt;</th><th scope=col>&lt;dbl&gt;</th></tr>\n",
       "</thead>\n",
       "<tbody>\n",
       "\t<tr><td>F</td><td>862</td><td>153.2912</td><td>52.31090</td></tr>\n",
       "\t<tr><td>M</td><td>355</td><td>165.0592</td><td>62.02254</td></tr>\n",
       "</tbody>\n",
       "</table>\n"
      ],
      "text/latex": [
       "A tibble: 2 × 4\n",
       "\\begin{tabular}{llll}\n",
       " gender & count & mean.height & mean.weight\\\\\n",
       " <chr> & <int> & <dbl> & <dbl>\\\\\n",
       "\\hline\n",
       "\t F & 862 & 153.2912 & 52.31090\\\\\n",
       "\t M & 355 & 165.0592 & 62.02254\\\\\n",
       "\\end{tabular}\n"
      ],
      "text/markdown": [
       "\n",
       "A tibble: 2 × 4\n",
       "\n",
       "| gender &lt;chr&gt; | count &lt;int&gt; | mean.height &lt;dbl&gt; | mean.weight &lt;dbl&gt; |\n",
       "|---|---|---|---|\n",
       "| F | 862 | 153.2912 | 52.31090 |\n",
       "| M | 355 | 165.0592 | 62.02254 |\n",
       "\n"
      ],
      "text/plain": [
       "  gender count mean.height mean.weight\n",
       "1 F      862   153.2912    52.31090   \n",
       "2 M      355   165.0592    62.02254   "
      ]
     },
     "metadata": {},
     "output_type": "display_data"
    }
   ],
   "source": [
    "group = group_by(data1, gender)\n",
    "summary = summarize(group, \n",
    "                   count = n(),\n",
    "                   mean.height = mean(height, na.rm = T),\n",
    "                   mean.weight = mean(weight, na.rm = T))\n",
    "summary"
   ]
  },
  {
   "cell_type": "code",
   "execution_count": 17,
   "metadata": {},
   "outputs": [
    {
     "data": {
      "text/html": [
       "<table class=\"dataframe\">\n",
       "<caption>A data.frame: 2 × 2</caption>\n",
       "<thead>\n",
       "\t<tr><th scope=col>gender</th><th scope=col>n</th></tr>\n",
       "\t<tr><th scope=col>&lt;chr&gt;</th><th scope=col>&lt;int&gt;</th></tr>\n",
       "</thead>\n",
       "<tbody>\n",
       "\t<tr><td>F</td><td>862</td></tr>\n",
       "\t<tr><td>M</td><td>355</td></tr>\n",
       "</tbody>\n",
       "</table>\n"
      ],
      "text/latex": [
       "A data.frame: 2 × 2\n",
       "\\begin{tabular}{ll}\n",
       " gender & n\\\\\n",
       " <chr> & <int>\\\\\n",
       "\\hline\n",
       "\t F & 862\\\\\n",
       "\t M & 355\\\\\n",
       "\\end{tabular}\n"
      ],
      "text/markdown": [
       "\n",
       "A data.frame: 2 × 2\n",
       "\n",
       "| gender &lt;chr&gt; | n &lt;int&gt; |\n",
       "|---|---|\n",
       "| F | 862 |\n",
       "| M | 355 |\n",
       "\n"
      ],
      "text/plain": [
       "  gender n  \n",
       "1 F      862\n",
       "2 M      355"
      ]
     },
     "metadata": {},
     "output_type": "display_data"
    }
   ],
   "source": [
    "count(data1, gender)"
   ]
  },
  {
   "cell_type": "code",
   "execution_count": 20,
   "metadata": {},
   "outputs": [
    {
     "data": {
      "text/html": [
       "<table class=\"dataframe\">\n",
       "<caption>A data.frame: 6 × 3</caption>\n",
       "<thead>\n",
       "\t<tr><th></th><th scope=col>gender</th><th scope=col>age</th><th scope=col>n</th></tr>\n",
       "\t<tr><th></th><th scope=col>&lt;chr&gt;</th><th scope=col>&lt;int&gt;</th><th scope=col>&lt;int&gt;</th></tr>\n",
       "</thead>\n",
       "<tbody>\n",
       "\t<tr><th scope=row>1</th><td>F</td><td>14</td><td> 4</td></tr>\n",
       "\t<tr><th scope=row>2</th><td>F</td><td>16</td><td> 2</td></tr>\n",
       "\t<tr><th scope=row>3</th><td>F</td><td>18</td><td>10</td></tr>\n",
       "\t<tr><th scope=row>4</th><td>F</td><td>19</td><td>27</td></tr>\n",
       "\t<tr><th scope=row>5</th><td>F</td><td>20</td><td>13</td></tr>\n",
       "\t<tr><th scope=row>6</th><td>F</td><td>21</td><td> 8</td></tr>\n",
       "</tbody>\n",
       "</table>\n"
      ],
      "text/latex": [
       "A data.frame: 6 × 3\n",
       "\\begin{tabular}{r|lll}\n",
       "  & gender & age & n\\\\\n",
       "  & <chr> & <int> & <int>\\\\\n",
       "\\hline\n",
       "\t1 & F & 14 &  4\\\\\n",
       "\t2 & F & 16 &  2\\\\\n",
       "\t3 & F & 18 & 10\\\\\n",
       "\t4 & F & 19 & 27\\\\\n",
       "\t5 & F & 20 & 13\\\\\n",
       "\t6 & F & 21 &  8\\\\\n",
       "\\end{tabular}\n"
      ],
      "text/markdown": [
       "\n",
       "A data.frame: 6 × 3\n",
       "\n",
       "| <!--/--> | gender &lt;chr&gt; | age &lt;int&gt; | n &lt;int&gt; |\n",
       "|---|---|---|---|\n",
       "| 1 | F | 14 |  4 |\n",
       "| 2 | F | 16 |  2 |\n",
       "| 3 | F | 18 | 10 |\n",
       "| 4 | F | 19 | 27 |\n",
       "| 5 | F | 20 | 13 |\n",
       "| 6 | F | 21 |  8 |\n",
       "\n"
      ],
      "text/plain": [
       "  gender age n \n",
       "1 F      14   4\n",
       "2 F      16   2\n",
       "3 F      18  10\n",
       "4 F      19  27\n",
       "5 F      20  13\n",
       "6 F      21   8"
      ]
     },
     "metadata": {},
     "output_type": "display_data"
    }
   ],
   "source": [
    "group_gender_age = count(data1, gender, age)\n",
    "head(group_gender_age)"
   ]
  },
  {
   "cell_type": "code",
   "execution_count": 21,
   "metadata": {},
   "outputs": [
    {
     "data": {
      "text/html": [
       "<table class=\"dataframe\">\n",
       "<caption>A data.frame: 6 × 3</caption>\n",
       "<thead>\n",
       "\t<tr><th></th><th scope=col>gender</th><th scope=col>age</th><th scope=col>n</th></tr>\n",
       "\t<tr><th></th><th scope=col>&lt;chr&gt;</th><th scope=col>&lt;int&gt;</th><th scope=col>&lt;int&gt;</th></tr>\n",
       "</thead>\n",
       "<tbody>\n",
       "\t<tr><th scope=row>138</th><td>M</td><td>82</td><td>1</td></tr>\n",
       "\t<tr><th scope=row>139</th><td>M</td><td>83</td><td>1</td></tr>\n",
       "\t<tr><th scope=row>140</th><td>M</td><td>84</td><td>3</td></tr>\n",
       "\t<tr><th scope=row>141</th><td>M</td><td>85</td><td>1</td></tr>\n",
       "\t<tr><th scope=row>142</th><td>M</td><td>87</td><td>1</td></tr>\n",
       "\t<tr><th scope=row>143</th><td>M</td><td>88</td><td>1</td></tr>\n",
       "</tbody>\n",
       "</table>\n"
      ],
      "text/latex": [
       "A data.frame: 6 × 3\n",
       "\\begin{tabular}{r|lll}\n",
       "  & gender & age & n\\\\\n",
       "  & <chr> & <int> & <int>\\\\\n",
       "\\hline\n",
       "\t138 & M & 82 & 1\\\\\n",
       "\t139 & M & 83 & 1\\\\\n",
       "\t140 & M & 84 & 3\\\\\n",
       "\t141 & M & 85 & 1\\\\\n",
       "\t142 & M & 87 & 1\\\\\n",
       "\t143 & M & 88 & 1\\\\\n",
       "\\end{tabular}\n"
      ],
      "text/markdown": [
       "\n",
       "A data.frame: 6 × 3\n",
       "\n",
       "| <!--/--> | gender &lt;chr&gt; | age &lt;int&gt; | n &lt;int&gt; |\n",
       "|---|---|---|---|\n",
       "| 138 | M | 82 | 1 |\n",
       "| 139 | M | 83 | 1 |\n",
       "| 140 | M | 84 | 3 |\n",
       "| 141 | M | 85 | 1 |\n",
       "| 142 | M | 87 | 1 |\n",
       "| 143 | M | 88 | 1 |\n",
       "\n"
      ],
      "text/plain": [
       "    gender age n\n",
       "138 M      82  1\n",
       "139 M      83  1\n",
       "140 M      84  3\n",
       "141 M      85  1\n",
       "142 M      87  1\n",
       "143 M      88  1"
      ]
     },
     "metadata": {},
     "output_type": "display_data"
    }
   ],
   "source": [
    "tail(group_gender_age)"
   ]
  },
  {
   "cell_type": "code",
   "execution_count": 22,
   "metadata": {},
   "outputs": [
    {
     "data": {
      "text/html": [
       "<table class=\"dataframe\">\n",
       "<caption>A data.frame: 10 × 6</caption>\n",
       "<thead>\n",
       "\t<tr><th scope=col>gender</th><th scope=col>height</th><th scope=col>weight</th><th scope=col>bmi</th><th scope=col>age</th><th scope=col>height_m</th></tr>\n",
       "\t<tr><th scope=col>&lt;chr&gt;</th><th scope=col>&lt;int&gt;</th><th scope=col>&lt;int&gt;</th><th scope=col>&lt;dbl&gt;</th><th scope=col>&lt;int&gt;</th><th scope=col>&lt;dbl&gt;</th></tr>\n",
       "</thead>\n",
       "<tbody>\n",
       "\t<tr><td>F</td><td>158</td><td>54</td><td>21.6</td><td>22</td><td>1.58</td></tr>\n",
       "\t<tr><td>F</td><td>145</td><td>50</td><td>23.8</td><td>83</td><td>1.45</td></tr>\n",
       "\t<tr><td>M</td><td>164</td><td>72</td><td>26.8</td><td>43</td><td>1.64</td></tr>\n",
       "\t<tr><td>F</td><td>155</td><td>55</td><td>22.9</td><td>70</td><td>1.55</td></tr>\n",
       "\t<tr><td>M</td><td>160</td><td>55</td><td>21.5</td><td>75</td><td>1.60</td></tr>\n",
       "\t<tr><td>M</td><td>168</td><td>80</td><td>28.3</td><td>53</td><td>1.68</td></tr>\n",
       "\t<tr><td>M</td><td>166</td><td>56</td><td>20.3</td><td>31</td><td>1.66</td></tr>\n",
       "\t<tr><td>F</td><td>157</td><td>50</td><td>20.3</td><td>46</td><td>1.57</td></tr>\n",
       "\t<tr><td>M</td><td>168</td><td>61</td><td>21.6</td><td>51</td><td>1.68</td></tr>\n",
       "\t<tr><td>F</td><td>156</td><td>52</td><td>21.4</td><td>34</td><td>1.56</td></tr>\n",
       "</tbody>\n",
       "</table>\n"
      ],
      "text/latex": [
       "A data.frame: 10 × 6\n",
       "\\begin{tabular}{llllll}\n",
       " gender & height & weight & bmi & age & height\\_m\\\\\n",
       " <chr> & <int> & <int> & <dbl> & <int> & <dbl>\\\\\n",
       "\\hline\n",
       "\t F & 158 & 54 & 21.6 & 22 & 1.58\\\\\n",
       "\t F & 145 & 50 & 23.8 & 83 & 1.45\\\\\n",
       "\t M & 164 & 72 & 26.8 & 43 & 1.64\\\\\n",
       "\t F & 155 & 55 & 22.9 & 70 & 1.55\\\\\n",
       "\t M & 160 & 55 & 21.5 & 75 & 1.60\\\\\n",
       "\t M & 168 & 80 & 28.3 & 53 & 1.68\\\\\n",
       "\t M & 166 & 56 & 20.3 & 31 & 1.66\\\\\n",
       "\t F & 157 & 50 & 20.3 & 46 & 1.57\\\\\n",
       "\t M & 168 & 61 & 21.6 & 51 & 1.68\\\\\n",
       "\t F & 156 & 52 & 21.4 & 34 & 1.56\\\\\n",
       "\\end{tabular}\n"
      ],
      "text/markdown": [
       "\n",
       "A data.frame: 10 × 6\n",
       "\n",
       "| gender &lt;chr&gt; | height &lt;int&gt; | weight &lt;int&gt; | bmi &lt;dbl&gt; | age &lt;int&gt; | height_m &lt;dbl&gt; |\n",
       "|---|---|---|---|---|---|\n",
       "| F | 158 | 54 | 21.6 | 22 | 1.58 |\n",
       "| F | 145 | 50 | 23.8 | 83 | 1.45 |\n",
       "| M | 164 | 72 | 26.8 | 43 | 1.64 |\n",
       "| F | 155 | 55 | 22.9 | 70 | 1.55 |\n",
       "| M | 160 | 55 | 21.5 | 75 | 1.60 |\n",
       "| M | 168 | 80 | 28.3 | 53 | 1.68 |\n",
       "| M | 166 | 56 | 20.3 | 31 | 1.66 |\n",
       "| F | 157 | 50 | 20.3 | 46 | 1.57 |\n",
       "| M | 168 | 61 | 21.6 | 51 | 1.68 |\n",
       "| F | 156 | 52 | 21.4 | 34 | 1.56 |\n",
       "\n"
      ],
      "text/plain": [
       "   gender height weight bmi  age height_m\n",
       "1  F      158    54     21.6 22  1.58    \n",
       "2  F      145    50     23.8 83  1.45    \n",
       "3  M      164    72     26.8 43  1.64    \n",
       "4  F      155    55     22.9 70  1.55    \n",
       "5  M      160    55     21.5 75  1.60    \n",
       "6  M      168    80     28.3 53  1.68    \n",
       "7  M      166    56     20.3 31  1.66    \n",
       "8  F      157    50     20.3 46  1.57    \n",
       "9  M      168    61     21.6 51  1.68    \n",
       "10 F      156    52     21.4 34  1.56    "
      ]
     },
     "metadata": {},
     "output_type": "display_data"
    }
   ],
   "source": [
    "data3 = sample_n(data1, 10)\n",
    "data3"
   ]
  },
  {
   "cell_type": "code",
   "execution_count": 24,
   "metadata": {},
   "outputs": [
    {
     "data": {
      "text/html": [
       "<table class=\"dataframe\">\n",
       "<caption>A data.frame: 12 × 11</caption>\n",
       "<thead>\n",
       "\t<tr><th scope=col>id</th><th scope=col>gender</th><th scope=col>height</th><th scope=col>weight</th><th scope=col>bmi</th><th scope=col>age</th><th scope=col>bmc</th><th scope=col>bmd</th><th scope=col>fat</th><th scope=col>lean</th><th scope=col>pcfat</th></tr>\n",
       "\t<tr><th scope=col>&lt;int&gt;</th><th scope=col>&lt;chr&gt;</th><th scope=col>&lt;int&gt;</th><th scope=col>&lt;int&gt;</th><th scope=col>&lt;dbl&gt;</th><th scope=col>&lt;int&gt;</th><th scope=col>&lt;int&gt;</th><th scope=col>&lt;dbl&gt;</th><th scope=col>&lt;int&gt;</th><th scope=col>&lt;int&gt;</th><th scope=col>&lt;dbl&gt;</th></tr>\n",
       "</thead>\n",
       "<tbody>\n",
       "\t<tr><td> 511</td><td>M</td><td>175</td><td>71</td><td>23.2</td><td>19</td><td>2121</td><td>1.01</td><td>18540</td><td>47308</td><td>27.3</td></tr>\n",
       "\t<tr><td> 551</td><td>F</td><td>148</td><td>42</td><td>19.2</td><td>60</td><td>1127</td><td>0.81</td><td>13757</td><td>26727</td><td>33.1</td></tr>\n",
       "\t<tr><td> 957</td><td>M</td><td>167</td><td>62</td><td>22.2</td><td>36</td><td>2085</td><td>1.07</td><td>11416</td><td>47489</td><td>18.7</td></tr>\n",
       "\t<tr><td> 900</td><td>F</td><td>163</td><td>53</td><td>19.9</td><td>18</td><td>2103</td><td>1.13</td><td> 7531</td><td>41544</td><td>14.7</td></tr>\n",
       "\t<tr><td> 627</td><td>F</td><td>158</td><td>59</td><td>23.6</td><td>51</td><td>1693</td><td>1.00</td><td>20759</td><td>32585</td><td>37.7</td></tr>\n",
       "\t<tr><td> 484</td><td>F</td><td>155</td><td>63</td><td>26.2</td><td>62</td><td>1593</td><td>0.92</td><td>30182</td><td>34461</td><td>45.6</td></tr>\n",
       "\t<tr><td>1099</td><td>M</td><td>162</td><td>57</td><td>21.7</td><td>78</td><td>1769</td><td>1.02</td><td>14553</td><td>39266</td><td>26.2</td></tr>\n",
       "\t<tr><td> 277</td><td>F</td><td>155</td><td>42</td><td>17.5</td><td>43</td><td>2109</td><td>1.14</td><td>12794</td><td>40415</td><td>23.1</td></tr>\n",
       "\t<tr><td> 665</td><td>F</td><td>159</td><td>53</td><td>21.0</td><td>39</td><td>1871</td><td>1.02</td><td>14922</td><td>35096</td><td>28.8</td></tr>\n",
       "\t<tr><td>1194</td><td>F</td><td>155</td><td>65</td><td>27.1</td><td>42</td><td>2189</td><td>1.22</td><td>24374</td><td>37904</td><td>37.8</td></tr>\n",
       "\t<tr><td> 341</td><td>F</td><td>145</td><td>54</td><td>25.7</td><td>43</td><td>1879</td><td>1.15</td><td>20774</td><td>30401</td><td>39.2</td></tr>\n",
       "\t<tr><td>1147</td><td>F</td><td>158</td><td>50</td><td>20.0</td><td>55</td><td>1721</td><td>1.03</td><td> 7089</td><td>39823</td><td>14.6</td></tr>\n",
       "</tbody>\n",
       "</table>\n"
      ],
      "text/latex": [
       "A data.frame: 12 × 11\n",
       "\\begin{tabular}{lllllllllll}\n",
       " id & gender & height & weight & bmi & age & bmc & bmd & fat & lean & pcfat\\\\\n",
       " <int> & <chr> & <int> & <int> & <dbl> & <int> & <int> & <dbl> & <int> & <int> & <dbl>\\\\\n",
       "\\hline\n",
       "\t  511 & M & 175 & 71 & 23.2 & 19 & 2121 & 1.01 & 18540 & 47308 & 27.3\\\\\n",
       "\t  551 & F & 148 & 42 & 19.2 & 60 & 1127 & 0.81 & 13757 & 26727 & 33.1\\\\\n",
       "\t  957 & M & 167 & 62 & 22.2 & 36 & 2085 & 1.07 & 11416 & 47489 & 18.7\\\\\n",
       "\t  900 & F & 163 & 53 & 19.9 & 18 & 2103 & 1.13 &  7531 & 41544 & 14.7\\\\\n",
       "\t  627 & F & 158 & 59 & 23.6 & 51 & 1693 & 1.00 & 20759 & 32585 & 37.7\\\\\n",
       "\t  484 & F & 155 & 63 & 26.2 & 62 & 1593 & 0.92 & 30182 & 34461 & 45.6\\\\\n",
       "\t 1099 & M & 162 & 57 & 21.7 & 78 & 1769 & 1.02 & 14553 & 39266 & 26.2\\\\\n",
       "\t  277 & F & 155 & 42 & 17.5 & 43 & 2109 & 1.14 & 12794 & 40415 & 23.1\\\\\n",
       "\t  665 & F & 159 & 53 & 21.0 & 39 & 1871 & 1.02 & 14922 & 35096 & 28.8\\\\\n",
       "\t 1194 & F & 155 & 65 & 27.1 & 42 & 2189 & 1.22 & 24374 & 37904 & 37.8\\\\\n",
       "\t  341 & F & 145 & 54 & 25.7 & 43 & 1879 & 1.15 & 20774 & 30401 & 39.2\\\\\n",
       "\t 1147 & F & 158 & 50 & 20.0 & 55 & 1721 & 1.03 &  7089 & 39823 & 14.6\\\\\n",
       "\\end{tabular}\n"
      ],
      "text/markdown": [
       "\n",
       "A data.frame: 12 × 11\n",
       "\n",
       "| id &lt;int&gt; | gender &lt;chr&gt; | height &lt;int&gt; | weight &lt;int&gt; | bmi &lt;dbl&gt; | age &lt;int&gt; | bmc &lt;int&gt; | bmd &lt;dbl&gt; | fat &lt;int&gt; | lean &lt;int&gt; | pcfat &lt;dbl&gt; |\n",
       "|---|---|---|---|---|---|---|---|---|---|---|\n",
       "|  511 | M | 175 | 71 | 23.2 | 19 | 2121 | 1.01 | 18540 | 47308 | 27.3 |\n",
       "|  551 | F | 148 | 42 | 19.2 | 60 | 1127 | 0.81 | 13757 | 26727 | 33.1 |\n",
       "|  957 | M | 167 | 62 | 22.2 | 36 | 2085 | 1.07 | 11416 | 47489 | 18.7 |\n",
       "|  900 | F | 163 | 53 | 19.9 | 18 | 2103 | 1.13 |  7531 | 41544 | 14.7 |\n",
       "|  627 | F | 158 | 59 | 23.6 | 51 | 1693 | 1.00 | 20759 | 32585 | 37.7 |\n",
       "|  484 | F | 155 | 63 | 26.2 | 62 | 1593 | 0.92 | 30182 | 34461 | 45.6 |\n",
       "| 1099 | M | 162 | 57 | 21.7 | 78 | 1769 | 1.02 | 14553 | 39266 | 26.2 |\n",
       "|  277 | F | 155 | 42 | 17.5 | 43 | 2109 | 1.14 | 12794 | 40415 | 23.1 |\n",
       "|  665 | F | 159 | 53 | 21.0 | 39 | 1871 | 1.02 | 14922 | 35096 | 28.8 |\n",
       "| 1194 | F | 155 | 65 | 27.1 | 42 | 2189 | 1.22 | 24374 | 37904 | 37.8 |\n",
       "|  341 | F | 145 | 54 | 25.7 | 43 | 1879 | 1.15 | 20774 | 30401 | 39.2 |\n",
       "| 1147 | F | 158 | 50 | 20.0 | 55 | 1721 | 1.03 |  7089 | 39823 | 14.6 |\n",
       "\n"
      ],
      "text/plain": [
       "   id   gender height weight bmi  age bmc  bmd  fat   lean  pcfat\n",
       "1   511 M      175    71     23.2 19  2121 1.01 18540 47308 27.3 \n",
       "2   551 F      148    42     19.2 60  1127 0.81 13757 26727 33.1 \n",
       "3   957 M      167    62     22.2 36  2085 1.07 11416 47489 18.7 \n",
       "4   900 F      163    53     19.9 18  2103 1.13  7531 41544 14.7 \n",
       "5   627 F      158    59     23.6 51  1693 1.00 20759 32585 37.7 \n",
       "6   484 F      155    63     26.2 62  1593 0.92 30182 34461 45.6 \n",
       "7  1099 M      162    57     21.7 78  1769 1.02 14553 39266 26.2 \n",
       "8   277 F      155    42     17.5 43  2109 1.14 12794 40415 23.1 \n",
       "9   665 F      159    53     21.0 39  1871 1.02 14922 35096 28.8 \n",
       "10 1194 F      155    65     27.1 42  2189 1.22 24374 37904 37.8 \n",
       "11  341 F      145    54     25.7 43  1879 1.15 20774 30401 39.2 \n",
       "12 1147 F      158    50     20.0 55  1721 1.03  7089 39823 14.6 "
      ]
     },
     "metadata": {},
     "output_type": "display_data"
    }
   ],
   "source": [
    "data4 = sample_frac(data, 0.01)\n",
    "data4"
   ]
  },
  {
   "cell_type": "code",
   "execution_count": null,
   "metadata": {},
   "outputs": [],
   "source": []
  }
 ],
 "metadata": {
  "kernelspec": {
   "display_name": "R",
   "language": "R",
   "name": "ir"
  },
  "language_info": {
   "codemirror_mode": "r",
   "file_extension": ".r",
   "mimetype": "text/x-r-source",
   "name": "R",
   "pygments_lexer": "r",
   "version": "4.1.0"
  }
 },
 "nbformat": 4,
 "nbformat_minor": 4
}
