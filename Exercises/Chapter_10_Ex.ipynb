{
 "cells": [
  {
   "cell_type": "markdown",
   "metadata": {},
   "source": [
    "# Ex1"
   ]
  },
  {
   "cell_type": "code",
   "execution_count": 33,
   "metadata": {},
   "outputs": [
    {
     "name": "stderr",
     "output_type": "stream",
     "text": [
      "── \u001b[1mAttaching packages\u001b[22m ─────────────────────────────────────── tidyverse 1.3.1 ──\n",
      "\n",
      "\u001b[32m✔\u001b[39m \u001b[34mggplot2\u001b[39m 3.3.5     \u001b[32m✔\u001b[39m \u001b[34mpurrr  \u001b[39m 0.3.4\n",
      "\u001b[32m✔\u001b[39m \u001b[34mtibble \u001b[39m 3.1.2     \u001b[32m✔\u001b[39m \u001b[34mdplyr  \u001b[39m 1.0.7\n",
      "\u001b[32m✔\u001b[39m \u001b[34mtidyr  \u001b[39m 1.1.3     \u001b[32m✔\u001b[39m \u001b[34mstringr\u001b[39m 1.4.0\n",
      "\u001b[32m✔\u001b[39m \u001b[34mreadr  \u001b[39m 1.4.0     \u001b[32m✔\u001b[39m \u001b[34mforcats\u001b[39m 0.5.1\n",
      "\n",
      "── \u001b[1mConflicts\u001b[22m ────────────────────────────────────────── tidyverse_conflicts() ──\n",
      "\u001b[31m✖\u001b[39m \u001b[34mdplyr\u001b[39m::\u001b[32mfilter()\u001b[39m masks \u001b[34mstats\u001b[39m::filter()\n",
      "\u001b[31m✖\u001b[39m \u001b[34mdplyr\u001b[39m::\u001b[32mlag()\u001b[39m    masks \u001b[34mstats\u001b[39m::lag()\n",
      "\n"
     ]
    }
   ],
   "source": [
    "library('XML')\n",
    "library('methods')\n",
    "library('tidyverse')"
   ]
  },
  {
   "cell_type": "code",
   "execution_count": 2,
   "metadata": {},
   "outputs": [],
   "source": [
    "url = 'http://www.w3schools.com/xml/plant_catalog.xml'\n",
    "download.file(url, destfile = 'Du_lieu_new/plant_catalog.xml')"
   ]
  },
  {
   "cell_type": "code",
   "execution_count": 4,
   "metadata": {},
   "outputs": [
    {
     "data": {
      "text/html": [
       "<table class=\"dataframe\">\n",
       "<caption>A data.frame: 6 × 6</caption>\n",
       "<thead>\n",
       "\t<tr><th></th><th scope=col>COMMON</th><th scope=col>BOTANICAL</th><th scope=col>ZONE</th><th scope=col>LIGHT</th><th scope=col>PRICE</th><th scope=col>AVAILABILITY</th></tr>\n",
       "\t<tr><th></th><th scope=col>&lt;chr&gt;</th><th scope=col>&lt;chr&gt;</th><th scope=col>&lt;chr&gt;</th><th scope=col>&lt;chr&gt;</th><th scope=col>&lt;chr&gt;</th><th scope=col>&lt;chr&gt;</th></tr>\n",
       "</thead>\n",
       "<tbody>\n",
       "\t<tr><th scope=row>1</th><td>Bloodroot          </td><td>Sanguinaria canadensis</td><td>4</td><td>Mostly Shady</td><td>$2.44</td><td>031599</td></tr>\n",
       "\t<tr><th scope=row>2</th><td>Columbine          </td><td>Aquilegia canadensis  </td><td>3</td><td>Mostly Shady</td><td>$9.37</td><td>030699</td></tr>\n",
       "\t<tr><th scope=row>3</th><td>Marsh Marigold     </td><td>Caltha palustris      </td><td>4</td><td>Mostly Sunny</td><td>$6.81</td><td>051799</td></tr>\n",
       "\t<tr><th scope=row>4</th><td>Cowslip            </td><td>Caltha palustris      </td><td>4</td><td>Mostly Shady</td><td>$9.90</td><td>030699</td></tr>\n",
       "\t<tr><th scope=row>5</th><td>Dutchman's-Breeches</td><td>Dicentra cucullaria   </td><td>3</td><td>Mostly Shady</td><td>$6.44</td><td>012099</td></tr>\n",
       "\t<tr><th scope=row>6</th><td>Ginger, Wild       </td><td>Asarum canadense      </td><td>3</td><td>Mostly Shady</td><td>$9.03</td><td>041899</td></tr>\n",
       "</tbody>\n",
       "</table>\n"
      ],
      "text/latex": [
       "A data.frame: 6 × 6\n",
       "\\begin{tabular}{r|llllll}\n",
       "  & COMMON & BOTANICAL & ZONE & LIGHT & PRICE & AVAILABILITY\\\\\n",
       "  & <chr> & <chr> & <chr> & <chr> & <chr> & <chr>\\\\\n",
       "\\hline\n",
       "\t1 & Bloodroot           & Sanguinaria canadensis & 4 & Mostly Shady & \\$2.44 & 031599\\\\\n",
       "\t2 & Columbine           & Aquilegia canadensis   & 3 & Mostly Shady & \\$9.37 & 030699\\\\\n",
       "\t3 & Marsh Marigold      & Caltha palustris       & 4 & Mostly Sunny & \\$6.81 & 051799\\\\\n",
       "\t4 & Cowslip             & Caltha palustris       & 4 & Mostly Shady & \\$9.90 & 030699\\\\\n",
       "\t5 & Dutchman's-Breeches & Dicentra cucullaria    & 3 & Mostly Shady & \\$6.44 & 012099\\\\\n",
       "\t6 & Ginger, Wild        & Asarum canadense       & 3 & Mostly Shady & \\$9.03 & 041899\\\\\n",
       "\\end{tabular}\n"
      ],
      "text/markdown": [
       "\n",
       "A data.frame: 6 × 6\n",
       "\n",
       "| <!--/--> | COMMON &lt;chr&gt; | BOTANICAL &lt;chr&gt; | ZONE &lt;chr&gt; | LIGHT &lt;chr&gt; | PRICE &lt;chr&gt; | AVAILABILITY &lt;chr&gt; |\n",
       "|---|---|---|---|---|---|---|\n",
       "| 1 | Bloodroot           | Sanguinaria canadensis | 4 | Mostly Shady | $2.44 | 031599 |\n",
       "| 2 | Columbine           | Aquilegia canadensis   | 3 | Mostly Shady | $9.37 | 030699 |\n",
       "| 3 | Marsh Marigold      | Caltha palustris       | 4 | Mostly Sunny | $6.81 | 051799 |\n",
       "| 4 | Cowslip             | Caltha palustris       | 4 | Mostly Shady | $9.90 | 030699 |\n",
       "| 5 | Dutchman's-Breeches | Dicentra cucullaria    | 3 | Mostly Shady | $6.44 | 012099 |\n",
       "| 6 | Ginger, Wild        | Asarum canadense       | 3 | Mostly Shady | $9.03 | 041899 |\n",
       "\n"
      ],
      "text/plain": [
       "  COMMON              BOTANICAL              ZONE LIGHT        PRICE\n",
       "1 Bloodroot           Sanguinaria canadensis 4    Mostly Shady $2.44\n",
       "2 Columbine           Aquilegia canadensis   3    Mostly Shady $9.37\n",
       "3 Marsh Marigold      Caltha palustris       4    Mostly Sunny $6.81\n",
       "4 Cowslip             Caltha palustris       4    Mostly Shady $9.90\n",
       "5 Dutchman's-Breeches Dicentra cucullaria    3    Mostly Shady $6.44\n",
       "6 Ginger, Wild        Asarum canadense       3    Mostly Shady $9.03\n",
       "  AVAILABILITY\n",
       "1 031599      \n",
       "2 030699      \n",
       "3 051799      \n",
       "4 030699      \n",
       "5 012099      \n",
       "6 041899      "
      ]
     },
     "metadata": {},
     "output_type": "display_data"
    }
   ],
   "source": [
    "df = xmlToDataFrame('Du_lieu_new/plant_catalog.xml')\n",
    "head(df)"
   ]
  },
  {
   "cell_type": "markdown",
   "metadata": {},
   "source": [
    "### Cach 1"
   ]
  },
  {
   "cell_type": "code",
   "execution_count": 11,
   "metadata": {},
   "outputs": [
    {
     "data": {
      "text/html": [
       "<table class=\"dataframe\">\n",
       "<caption>A data.frame: 2 × 6</caption>\n",
       "<thead>\n",
       "\t<tr><th></th><th scope=col>COMMON</th><th scope=col>BOTANICAL</th><th scope=col>ZONE</th><th scope=col>LIGHT</th><th scope=col>PRICE</th><th scope=col>AVAILABILITY</th></tr>\n",
       "\t<tr><th></th><th scope=col>&lt;chr&gt;</th><th scope=col>&lt;chr&gt;</th><th scope=col>&lt;chr&gt;</th><th scope=col>&lt;chr&gt;</th><th scope=col>&lt;chr&gt;</th><th scope=col>&lt;chr&gt;</th></tr>\n",
       "</thead>\n",
       "<tbody>\n",
       "\t<tr><th scope=row>23</th><td>Black-Eyed Susan</td><td>Rudbeckia hirta   </td><td>Annual</td><td>Sunny</td><td>$9.80</td><td>061899</td></tr>\n",
       "\t<tr><th scope=row>26</th><td>Butterfly Weed  </td><td>Asclepias tuberosa</td><td>Annual</td><td>Sunny</td><td>$2.78</td><td>063099</td></tr>\n",
       "</tbody>\n",
       "</table>\n"
      ],
      "text/latex": [
       "A data.frame: 2 × 6\n",
       "\\begin{tabular}{r|llllll}\n",
       "  & COMMON & BOTANICAL & ZONE & LIGHT & PRICE & AVAILABILITY\\\\\n",
       "  & <chr> & <chr> & <chr> & <chr> & <chr> & <chr>\\\\\n",
       "\\hline\n",
       "\t23 & Black-Eyed Susan & Rudbeckia hirta    & Annual & Sunny & \\$9.80 & 061899\\\\\n",
       "\t26 & Butterfly Weed   & Asclepias tuberosa & Annual & Sunny & \\$2.78 & 063099\\\\\n",
       "\\end{tabular}\n"
      ],
      "text/markdown": [
       "\n",
       "A data.frame: 2 × 6\n",
       "\n",
       "| <!--/--> | COMMON &lt;chr&gt; | BOTANICAL &lt;chr&gt; | ZONE &lt;chr&gt; | LIGHT &lt;chr&gt; | PRICE &lt;chr&gt; | AVAILABILITY &lt;chr&gt; |\n",
       "|---|---|---|---|---|---|---|\n",
       "| 23 | Black-Eyed Susan | Rudbeckia hirta    | Annual | Sunny | $9.80 | 061899 |\n",
       "| 26 | Butterfly Weed   | Asclepias tuberosa | Annual | Sunny | $2.78 | 063099 |\n",
       "\n"
      ],
      "text/plain": [
       "   COMMON           BOTANICAL          ZONE   LIGHT PRICE AVAILABILITY\n",
       "23 Black-Eyed Susan Rudbeckia hirta    Annual Sunny $9.80 061899      \n",
       "26 Butterfly Weed   Asclepias tuberosa Annual Sunny $2.78 063099      "
      ]
     },
     "metadata": {},
     "output_type": "display_data"
    }
   ],
   "source": [
    "df_new = df[df['ZONE']=='Annual',]\n",
    "df_new = df_new[df_new['LIGHT']=='Sunny',]\n",
    "df_new"
   ]
  },
  {
   "cell_type": "markdown",
   "metadata": {},
   "source": [
    "### Cach 2"
   ]
  },
  {
   "cell_type": "code",
   "execution_count": 12,
   "metadata": {},
   "outputs": [
    {
     "data": {
      "text/html": [
       "<table class=\"dataframe\">\n",
       "<caption>A data.frame: 2 × 6</caption>\n",
       "<thead>\n",
       "\t<tr><th></th><th scope=col>COMMON</th><th scope=col>BOTANICAL</th><th scope=col>ZONE</th><th scope=col>LIGHT</th><th scope=col>PRICE</th><th scope=col>AVAILABILITY</th></tr>\n",
       "\t<tr><th></th><th scope=col>&lt;chr&gt;</th><th scope=col>&lt;chr&gt;</th><th scope=col>&lt;chr&gt;</th><th scope=col>&lt;chr&gt;</th><th scope=col>&lt;chr&gt;</th><th scope=col>&lt;chr&gt;</th></tr>\n",
       "</thead>\n",
       "<tbody>\n",
       "\t<tr><th scope=row>23</th><td>Black-Eyed Susan</td><td>Rudbeckia hirta   </td><td>Annual</td><td>Sunny</td><td>$9.80</td><td>061899</td></tr>\n",
       "\t<tr><th scope=row>26</th><td>Butterfly Weed  </td><td>Asclepias tuberosa</td><td>Annual</td><td>Sunny</td><td>$2.78</td><td>063099</td></tr>\n",
       "</tbody>\n",
       "</table>\n"
      ],
      "text/latex": [
       "A data.frame: 2 × 6\n",
       "\\begin{tabular}{r|llllll}\n",
       "  & COMMON & BOTANICAL & ZONE & LIGHT & PRICE & AVAILABILITY\\\\\n",
       "  & <chr> & <chr> & <chr> & <chr> & <chr> & <chr>\\\\\n",
       "\\hline\n",
       "\t23 & Black-Eyed Susan & Rudbeckia hirta    & Annual & Sunny & \\$9.80 & 061899\\\\\n",
       "\t26 & Butterfly Weed   & Asclepias tuberosa & Annual & Sunny & \\$2.78 & 063099\\\\\n",
       "\\end{tabular}\n"
      ],
      "text/markdown": [
       "\n",
       "A data.frame: 2 × 6\n",
       "\n",
       "| <!--/--> | COMMON &lt;chr&gt; | BOTANICAL &lt;chr&gt; | ZONE &lt;chr&gt; | LIGHT &lt;chr&gt; | PRICE &lt;chr&gt; | AVAILABILITY &lt;chr&gt; |\n",
       "|---|---|---|---|---|---|---|\n",
       "| 23 | Black-Eyed Susan | Rudbeckia hirta    | Annual | Sunny | $9.80 | 061899 |\n",
       "| 26 | Butterfly Weed   | Asclepias tuberosa | Annual | Sunny | $2.78 | 063099 |\n",
       "\n"
      ],
      "text/plain": [
       "   COMMON           BOTANICAL          ZONE   LIGHT PRICE AVAILABILITY\n",
       "23 Black-Eyed Susan Rudbeckia hirta    Annual Sunny $9.80 061899      \n",
       "26 Butterfly Weed   Asclepias tuberosa Annual Sunny $2.78 063099      "
      ]
     },
     "metadata": {},
     "output_type": "display_data"
    }
   ],
   "source": [
    "df_new = df[(df['ZONE']=='Annual') & (df['LIGHT']=='Sunny'),]\n",
    "df_new"
   ]
  },
  {
   "cell_type": "markdown",
   "metadata": {},
   "source": [
    "### Cach 3"
   ]
  },
  {
   "cell_type": "code",
   "execution_count": 30,
   "metadata": {
    "scrolled": true
   },
   "outputs": [
    {
     "data": {
      "text/html": [
       "<table class=\"dataframe\">\n",
       "<caption>A data.frame: 2 × 6</caption>\n",
       "<thead>\n",
       "\t<tr><th></th><th scope=col>COMMON</th><th scope=col>BOTANICAL</th><th scope=col>ZONE</th><th scope=col>LIGHT</th><th scope=col>PRICE</th><th scope=col>AVAILABILITY</th></tr>\n",
       "\t<tr><th></th><th scope=col>&lt;chr&gt;</th><th scope=col>&lt;chr&gt;</th><th scope=col>&lt;chr&gt;</th><th scope=col>&lt;chr&gt;</th><th scope=col>&lt;chr&gt;</th><th scope=col>&lt;chr&gt;</th></tr>\n",
       "</thead>\n",
       "<tbody>\n",
       "\t<tr><th scope=row>23</th><td>Black-Eyed Susan</td><td>Rudbeckia hirta   </td><td>Annual</td><td>Sunny</td><td>$9.80</td><td>061899</td></tr>\n",
       "\t<tr><th scope=row>26</th><td>Butterfly Weed  </td><td>Asclepias tuberosa</td><td>Annual</td><td>Sunny</td><td>$2.78</td><td>063099</td></tr>\n",
       "</tbody>\n",
       "</table>\n"
      ],
      "text/latex": [
       "A data.frame: 2 × 6\n",
       "\\begin{tabular}{r|llllll}\n",
       "  & COMMON & BOTANICAL & ZONE & LIGHT & PRICE & AVAILABILITY\\\\\n",
       "  & <chr> & <chr> & <chr> & <chr> & <chr> & <chr>\\\\\n",
       "\\hline\n",
       "\t23 & Black-Eyed Susan & Rudbeckia hirta    & Annual & Sunny & \\$9.80 & 061899\\\\\n",
       "\t26 & Butterfly Weed   & Asclepias tuberosa & Annual & Sunny & \\$2.78 & 063099\\\\\n",
       "\\end{tabular}\n"
      ],
      "text/markdown": [
       "\n",
       "A data.frame: 2 × 6\n",
       "\n",
       "| <!--/--> | COMMON &lt;chr&gt; | BOTANICAL &lt;chr&gt; | ZONE &lt;chr&gt; | LIGHT &lt;chr&gt; | PRICE &lt;chr&gt; | AVAILABILITY &lt;chr&gt; |\n",
       "|---|---|---|---|---|---|---|\n",
       "| 23 | Black-Eyed Susan | Rudbeckia hirta    | Annual | Sunny | $9.80 | 061899 |\n",
       "| 26 | Butterfly Weed   | Asclepias tuberosa | Annual | Sunny | $2.78 | 063099 |\n",
       "\n"
      ],
      "text/plain": [
       "   COMMON           BOTANICAL          ZONE   LIGHT PRICE AVAILABILITY\n",
       "23 Black-Eyed Susan Rudbeckia hirta    Annual Sunny $9.80 061899      \n",
       "26 Butterfly Weed   Asclepias tuberosa Annual Sunny $2.78 063099      "
      ]
     },
     "metadata": {},
     "output_type": "display_data"
    }
   ],
   "source": [
    "subset(df, ZONE=='Annual' & LIGHT=='Sunny')"
   ]
  },
  {
   "cell_type": "markdown",
   "metadata": {},
   "source": [
    "### Cach 4"
   ]
  },
  {
   "cell_type": "code",
   "execution_count": 35,
   "metadata": {},
   "outputs": [
    {
     "data": {
      "text/html": [
       "<table class=\"dataframe\">\n",
       "<caption>A data.frame: 2 × 6</caption>\n",
       "<thead>\n",
       "\t<tr><th scope=col>COMMON</th><th scope=col>BOTANICAL</th><th scope=col>ZONE</th><th scope=col>LIGHT</th><th scope=col>PRICE</th><th scope=col>AVAILABILITY</th></tr>\n",
       "\t<tr><th scope=col>&lt;chr&gt;</th><th scope=col>&lt;chr&gt;</th><th scope=col>&lt;chr&gt;</th><th scope=col>&lt;chr&gt;</th><th scope=col>&lt;chr&gt;</th><th scope=col>&lt;chr&gt;</th></tr>\n",
       "</thead>\n",
       "<tbody>\n",
       "\t<tr><td>Black-Eyed Susan</td><td>Rudbeckia hirta   </td><td>Annual</td><td>Sunny</td><td>$9.80</td><td>061899</td></tr>\n",
       "\t<tr><td>Butterfly Weed  </td><td>Asclepias tuberosa</td><td>Annual</td><td>Sunny</td><td>$2.78</td><td>063099</td></tr>\n",
       "</tbody>\n",
       "</table>\n"
      ],
      "text/latex": [
       "A data.frame: 2 × 6\n",
       "\\begin{tabular}{llllll}\n",
       " COMMON & BOTANICAL & ZONE & LIGHT & PRICE & AVAILABILITY\\\\\n",
       " <chr> & <chr> & <chr> & <chr> & <chr> & <chr>\\\\\n",
       "\\hline\n",
       "\t Black-Eyed Susan & Rudbeckia hirta    & Annual & Sunny & \\$9.80 & 061899\\\\\n",
       "\t Butterfly Weed   & Asclepias tuberosa & Annual & Sunny & \\$2.78 & 063099\\\\\n",
       "\\end{tabular}\n"
      ],
      "text/markdown": [
       "\n",
       "A data.frame: 2 × 6\n",
       "\n",
       "| COMMON &lt;chr&gt; | BOTANICAL &lt;chr&gt; | ZONE &lt;chr&gt; | LIGHT &lt;chr&gt; | PRICE &lt;chr&gt; | AVAILABILITY &lt;chr&gt; |\n",
       "|---|---|---|---|---|---|\n",
       "| Black-Eyed Susan | Rudbeckia hirta    | Annual | Sunny | $9.80 | 061899 |\n",
       "| Butterfly Weed   | Asclepias tuberosa | Annual | Sunny | $2.78 | 063099 |\n",
       "\n"
      ],
      "text/plain": [
       "  COMMON           BOTANICAL          ZONE   LIGHT PRICE AVAILABILITY\n",
       "1 Black-Eyed Susan Rudbeckia hirta    Annual Sunny $9.80 061899      \n",
       "2 Butterfly Weed   Asclepias tuberosa Annual Sunny $2.78 063099      "
      ]
     },
     "metadata": {},
     "output_type": "display_data"
    }
   ],
   "source": [
    "filter(df, ZONE=='Annual' & LIGHT=='Sunny')"
   ]
  },
  {
   "cell_type": "markdown",
   "metadata": {},
   "source": [
    "# Ex2"
   ]
  },
  {
   "cell_type": "code",
   "execution_count": 40,
   "metadata": {},
   "outputs": [
    {
     "data": {
      "text/html": [
       "<table class=\"dataframe\">\n",
       "<caption>A data.frame: 6 × 12</caption>\n",
       "<thead>\n",
       "\t<tr><th></th><th scope=col>names</th><th scope=col>mpg</th><th scope=col>cyl</th><th scope=col>disp</th><th scope=col>hp</th><th scope=col>drat</th><th scope=col>wt</th><th scope=col>qsec</th><th scope=col>vs</th><th scope=col>am</th><th scope=col>gear</th><th scope=col>carb</th></tr>\n",
       "\t<tr><th></th><th scope=col>&lt;chr&gt;</th><th scope=col>&lt;dbl&gt;</th><th scope=col>&lt;dbl&gt;</th><th scope=col>&lt;dbl&gt;</th><th scope=col>&lt;dbl&gt;</th><th scope=col>&lt;dbl&gt;</th><th scope=col>&lt;dbl&gt;</th><th scope=col>&lt;dbl&gt;</th><th scope=col>&lt;dbl&gt;</th><th scope=col>&lt;dbl&gt;</th><th scope=col>&lt;dbl&gt;</th><th scope=col>&lt;dbl&gt;</th></tr>\n",
       "</thead>\n",
       "<tbody>\n",
       "\t<tr><th scope=row>1</th><td>Mazda RX4        </td><td>21.0</td><td>6</td><td>160</td><td>110</td><td>3.90</td><td>2.620</td><td>16.46</td><td>0</td><td>1</td><td>4</td><td>4</td></tr>\n",
       "\t<tr><th scope=row>2</th><td>Mazda RX4 Wag    </td><td>21.0</td><td>6</td><td>160</td><td>110</td><td>3.90</td><td>2.875</td><td>17.02</td><td>0</td><td>1</td><td>4</td><td>4</td></tr>\n",
       "\t<tr><th scope=row>3</th><td>Datsun 710       </td><td>22.8</td><td>4</td><td>108</td><td> 93</td><td>3.85</td><td>2.320</td><td>18.61</td><td>1</td><td>1</td><td>4</td><td>1</td></tr>\n",
       "\t<tr><th scope=row>4</th><td>Hornet 4 Drive   </td><td>21.4</td><td>6</td><td>258</td><td>110</td><td>3.08</td><td>3.215</td><td>19.44</td><td>1</td><td>0</td><td>3</td><td>1</td></tr>\n",
       "\t<tr><th scope=row>5</th><td>Hornet Sportabout</td><td>18.7</td><td>8</td><td>360</td><td>175</td><td>3.15</td><td>3.440</td><td>17.02</td><td>0</td><td>0</td><td>3</td><td>2</td></tr>\n",
       "\t<tr><th scope=row>6</th><td>Valiant          </td><td>18.1</td><td>6</td><td>225</td><td>105</td><td>2.76</td><td>3.460</td><td>20.22</td><td>1</td><td>0</td><td>3</td><td>1</td></tr>\n",
       "</tbody>\n",
       "</table>\n"
      ],
      "text/latex": [
       "A data.frame: 6 × 12\n",
       "\\begin{tabular}{r|llllllllllll}\n",
       "  & names & mpg & cyl & disp & hp & drat & wt & qsec & vs & am & gear & carb\\\\\n",
       "  & <chr> & <dbl> & <dbl> & <dbl> & <dbl> & <dbl> & <dbl> & <dbl> & <dbl> & <dbl> & <dbl> & <dbl>\\\\\n",
       "\\hline\n",
       "\t1 & Mazda RX4         & 21.0 & 6 & 160 & 110 & 3.90 & 2.620 & 16.46 & 0 & 1 & 4 & 4\\\\\n",
       "\t2 & Mazda RX4 Wag     & 21.0 & 6 & 160 & 110 & 3.90 & 2.875 & 17.02 & 0 & 1 & 4 & 4\\\\\n",
       "\t3 & Datsun 710        & 22.8 & 4 & 108 &  93 & 3.85 & 2.320 & 18.61 & 1 & 1 & 4 & 1\\\\\n",
       "\t4 & Hornet 4 Drive    & 21.4 & 6 & 258 & 110 & 3.08 & 3.215 & 19.44 & 1 & 0 & 3 & 1\\\\\n",
       "\t5 & Hornet Sportabout & 18.7 & 8 & 360 & 175 & 3.15 & 3.440 & 17.02 & 0 & 0 & 3 & 2\\\\\n",
       "\t6 & Valiant           & 18.1 & 6 & 225 & 105 & 2.76 & 3.460 & 20.22 & 1 & 0 & 3 & 1\\\\\n",
       "\\end{tabular}\n"
      ],
      "text/markdown": [
       "\n",
       "A data.frame: 6 × 12\n",
       "\n",
       "| <!--/--> | names &lt;chr&gt; | mpg &lt;dbl&gt; | cyl &lt;dbl&gt; | disp &lt;dbl&gt; | hp &lt;dbl&gt; | drat &lt;dbl&gt; | wt &lt;dbl&gt; | qsec &lt;dbl&gt; | vs &lt;dbl&gt; | am &lt;dbl&gt; | gear &lt;dbl&gt; | carb &lt;dbl&gt; |\n",
       "|---|---|---|---|---|---|---|---|---|---|---|---|---|\n",
       "| 1 | Mazda RX4         | 21.0 | 6 | 160 | 110 | 3.90 | 2.620 | 16.46 | 0 | 1 | 4 | 4 |\n",
       "| 2 | Mazda RX4 Wag     | 21.0 | 6 | 160 | 110 | 3.90 | 2.875 | 17.02 | 0 | 1 | 4 | 4 |\n",
       "| 3 | Datsun 710        | 22.8 | 4 | 108 |  93 | 3.85 | 2.320 | 18.61 | 1 | 1 | 4 | 1 |\n",
       "| 4 | Hornet 4 Drive    | 21.4 | 6 | 258 | 110 | 3.08 | 3.215 | 19.44 | 1 | 0 | 3 | 1 |\n",
       "| 5 | Hornet Sportabout | 18.7 | 8 | 360 | 175 | 3.15 | 3.440 | 17.02 | 0 | 0 | 3 | 2 |\n",
       "| 6 | Valiant           | 18.1 | 6 | 225 | 105 | 2.76 | 3.460 | 20.22 | 1 | 0 | 3 | 1 |\n",
       "\n"
      ],
      "text/plain": [
       "  names             mpg  cyl disp hp  drat wt    qsec  vs am gear carb\n",
       "1 Mazda RX4         21.0 6   160  110 3.90 2.620 16.46 0  1  4    4   \n",
       "2 Mazda RX4 Wag     21.0 6   160  110 3.90 2.875 17.02 0  1  4    4   \n",
       "3 Datsun 710        22.8 4   108   93 3.85 2.320 18.61 1  1  4    1   \n",
       "4 Hornet 4 Drive    21.4 6   258  110 3.08 3.215 19.44 1  0  3    1   \n",
       "5 Hornet Sportabout 18.7 8   360  175 3.15 3.440 17.02 0  0  3    2   \n",
       "6 Valiant           18.1 6   225  105 2.76 3.460 20.22 1  0  3    1   "
      ]
     },
     "metadata": {},
     "output_type": "display_data"
    }
   ],
   "source": [
    "df = mtcars\n",
    "df = cbind(names = rownames(df), df)\n",
    "rownames(df) = c()\n",
    "head(df)"
   ]
  },
  {
   "cell_type": "markdown",
   "metadata": {},
   "source": [
    "### Cach 1"
   ]
  },
  {
   "cell_type": "code",
   "execution_count": 45,
   "metadata": {},
   "outputs": [
    {
     "name": "stdout",
     "output_type": "stream",
     "text": [
      "[1] \"Saving file...\"\n",
      "[1] \"Completed!\"\n"
     ]
    }
   ],
   "source": [
    "cols = colnames(df)\n",
    "doc = newXMLDoc()\n",
    "top = newXMLNode('CARS', doc = doc)\n",
    "for (row in 1:nrow(df)) {\n",
    "    cdnode = newXMLNode('CD', parent = top)\n",
    "    for (col in cols) {\n",
    "        newXMLNode(col, df[row, col], parent = cdnode)\n",
    "    }\n",
    "}\n",
    "\n",
    "print('Saving file...')\n",
    "cat(saveXML(doc, \n",
    "            indent = TRUE,\n",
    "            prefix = \"<?xml version=\\\"1.0\\\" encoding=\\\"utf-8\\\" standalone=\\\"no\\\"?>\\n\"),     \n",
    "    file=\"Du_lieu_new/car.xml\")\n",
    "print('Completed!')"
   ]
  },
  {
   "cell_type": "markdown",
   "metadata": {},
   "source": [
    "### Cach 2"
   ]
  },
  {
   "cell_type": "code",
   "execution_count": 46,
   "metadata": {},
   "outputs": [
    {
     "name": "stdout",
     "output_type": "stream",
     "text": [
      "[1] \"Saving file...\"\n"
     ]
    },
    {
     "data": {
      "text/html": [
       "'Du_lieu_new/cars_2.xml'"
      ],
      "text/latex": [
       "'Du\\_lieu\\_new/cars\\_2.xml'"
      ],
      "text/markdown": [
       "'Du_lieu_new/cars_2.xml'"
      ],
      "text/plain": [
       "[1] \"Du_lieu_new/cars_2.xml\""
      ]
     },
     "metadata": {},
     "output_type": "display_data"
    },
    {
     "name": "stdout",
     "output_type": "stream",
     "text": [
      "[1] \"Completed!\"\n"
     ]
    }
   ],
   "source": [
    "# Another solution to save xml file\n",
    "doc_xml <- newXMLDoc(isHTML = FALSE)\n",
    "table_node <- newXMLNode(\"CARS\", doc = doc_xml)\n",
    "row_data <- apply(df, 1, function(x) {\n",
    "  z1 <- newXMLNode('CD') # create a new node for each row\n",
    "  addChildren(z1, lapply(names(x), function(y) newXMLNode(y, x[y])))\n",
    "})\n",
    "xmlParent(row_data) <- table_node\n",
    "              \n",
    "#Save file xml\n",
    "print('Saving file...')      \n",
    "saveXML(doc_xml, file = \"Du_lieu_new/cars_2.xml\")\n",
    "print('Completed!') "
   ]
  },
  {
   "cell_type": "code",
   "execution_count": 48,
   "metadata": {},
   "outputs": [
    {
     "data": {
      "text/html": [
       "<table class=\"dataframe\">\n",
       "<caption>A data.frame: 6 × 12</caption>\n",
       "<thead>\n",
       "\t<tr><th></th><th scope=col>names</th><th scope=col>mpg</th><th scope=col>cyl</th><th scope=col>disp</th><th scope=col>hp</th><th scope=col>drat</th><th scope=col>wt</th><th scope=col>qsec</th><th scope=col>vs</th><th scope=col>am</th><th scope=col>gear</th><th scope=col>carb</th></tr>\n",
       "\t<tr><th></th><th scope=col>&lt;chr&gt;</th><th scope=col>&lt;chr&gt;</th><th scope=col>&lt;chr&gt;</th><th scope=col>&lt;chr&gt;</th><th scope=col>&lt;chr&gt;</th><th scope=col>&lt;chr&gt;</th><th scope=col>&lt;chr&gt;</th><th scope=col>&lt;chr&gt;</th><th scope=col>&lt;chr&gt;</th><th scope=col>&lt;chr&gt;</th><th scope=col>&lt;chr&gt;</th><th scope=col>&lt;chr&gt;</th></tr>\n",
       "</thead>\n",
       "<tbody>\n",
       "\t<tr><th scope=row>1</th><td>Mazda RX4        </td><td>21  </td><td>6</td><td>160</td><td>110</td><td>3.9 </td><td>2.62 </td><td>16.46</td><td>0</td><td>1</td><td>4</td><td>4</td></tr>\n",
       "\t<tr><th scope=row>2</th><td>Mazda RX4 Wag    </td><td>21  </td><td>6</td><td>160</td><td>110</td><td>3.9 </td><td>2.875</td><td>17.02</td><td>0</td><td>1</td><td>4</td><td>4</td></tr>\n",
       "\t<tr><th scope=row>3</th><td>Datsun 710       </td><td>22.8</td><td>4</td><td>108</td><td>93 </td><td>3.85</td><td>2.32 </td><td>18.61</td><td>1</td><td>1</td><td>4</td><td>1</td></tr>\n",
       "\t<tr><th scope=row>4</th><td>Hornet 4 Drive   </td><td>21.4</td><td>6</td><td>258</td><td>110</td><td>3.08</td><td>3.215</td><td>19.44</td><td>1</td><td>0</td><td>3</td><td>1</td></tr>\n",
       "\t<tr><th scope=row>5</th><td>Hornet Sportabout</td><td>18.7</td><td>8</td><td>360</td><td>175</td><td>3.15</td><td>3.44 </td><td>17.02</td><td>0</td><td>0</td><td>3</td><td>2</td></tr>\n",
       "\t<tr><th scope=row>6</th><td>Valiant          </td><td>18.1</td><td>6</td><td>225</td><td>105</td><td>2.76</td><td>3.46 </td><td>20.22</td><td>1</td><td>0</td><td>3</td><td>1</td></tr>\n",
       "</tbody>\n",
       "</table>\n"
      ],
      "text/latex": [
       "A data.frame: 6 × 12\n",
       "\\begin{tabular}{r|llllllllllll}\n",
       "  & names & mpg & cyl & disp & hp & drat & wt & qsec & vs & am & gear & carb\\\\\n",
       "  & <chr> & <chr> & <chr> & <chr> & <chr> & <chr> & <chr> & <chr> & <chr> & <chr> & <chr> & <chr>\\\\\n",
       "\\hline\n",
       "\t1 & Mazda RX4         & 21   & 6 & 160 & 110 & 3.9  & 2.62  & 16.46 & 0 & 1 & 4 & 4\\\\\n",
       "\t2 & Mazda RX4 Wag     & 21   & 6 & 160 & 110 & 3.9  & 2.875 & 17.02 & 0 & 1 & 4 & 4\\\\\n",
       "\t3 & Datsun 710        & 22.8 & 4 & 108 & 93  & 3.85 & 2.32  & 18.61 & 1 & 1 & 4 & 1\\\\\n",
       "\t4 & Hornet 4 Drive    & 21.4 & 6 & 258 & 110 & 3.08 & 3.215 & 19.44 & 1 & 0 & 3 & 1\\\\\n",
       "\t5 & Hornet Sportabout & 18.7 & 8 & 360 & 175 & 3.15 & 3.44  & 17.02 & 0 & 0 & 3 & 2\\\\\n",
       "\t6 & Valiant           & 18.1 & 6 & 225 & 105 & 2.76 & 3.46  & 20.22 & 1 & 0 & 3 & 1\\\\\n",
       "\\end{tabular}\n"
      ],
      "text/markdown": [
       "\n",
       "A data.frame: 6 × 12\n",
       "\n",
       "| <!--/--> | names &lt;chr&gt; | mpg &lt;chr&gt; | cyl &lt;chr&gt; | disp &lt;chr&gt; | hp &lt;chr&gt; | drat &lt;chr&gt; | wt &lt;chr&gt; | qsec &lt;chr&gt; | vs &lt;chr&gt; | am &lt;chr&gt; | gear &lt;chr&gt; | carb &lt;chr&gt; |\n",
       "|---|---|---|---|---|---|---|---|---|---|---|---|---|\n",
       "| 1 | Mazda RX4         | 21   | 6 | 160 | 110 | 3.9  | 2.62  | 16.46 | 0 | 1 | 4 | 4 |\n",
       "| 2 | Mazda RX4 Wag     | 21   | 6 | 160 | 110 | 3.9  | 2.875 | 17.02 | 0 | 1 | 4 | 4 |\n",
       "| 3 | Datsun 710        | 22.8 | 4 | 108 | 93  | 3.85 | 2.32  | 18.61 | 1 | 1 | 4 | 1 |\n",
       "| 4 | Hornet 4 Drive    | 21.4 | 6 | 258 | 110 | 3.08 | 3.215 | 19.44 | 1 | 0 | 3 | 1 |\n",
       "| 5 | Hornet Sportabout | 18.7 | 8 | 360 | 175 | 3.15 | 3.44  | 17.02 | 0 | 0 | 3 | 2 |\n",
       "| 6 | Valiant           | 18.1 | 6 | 225 | 105 | 2.76 | 3.46  | 20.22 | 1 | 0 | 3 | 1 |\n",
       "\n"
      ],
      "text/plain": [
       "  names             mpg  cyl disp hp  drat wt    qsec  vs am gear carb\n",
       "1 Mazda RX4         21   6   160  110 3.9  2.62  16.46 0  1  4    4   \n",
       "2 Mazda RX4 Wag     21   6   160  110 3.9  2.875 17.02 0  1  4    4   \n",
       "3 Datsun 710        22.8 4   108  93  3.85 2.32  18.61 1  1  4    1   \n",
       "4 Hornet 4 Drive    21.4 6   258  110 3.08 3.215 19.44 1  0  3    1   \n",
       "5 Hornet Sportabout 18.7 8   360  175 3.15 3.44  17.02 0  0  3    2   \n",
       "6 Valiant           18.1 6   225  105 2.76 3.46  20.22 1  0  3    1   "
      ]
     },
     "metadata": {},
     "output_type": "display_data"
    }
   ],
   "source": [
    "df = xmlToDataFrame('Du_lieu_new/car.xml')\n",
    "head(df)"
   ]
  },
  {
   "cell_type": "markdown",
   "metadata": {},
   "source": [
    "# Ex3"
   ]
  },
  {
   "cell_type": "code",
   "execution_count": 57,
   "metadata": {},
   "outputs": [],
   "source": [
    "library('httr')\n",
    "library('jsonlite')\n",
    "library('tidyverse')"
   ]
  },
  {
   "cell_type": "code",
   "execution_count": 52,
   "metadata": {},
   "outputs": [
    {
     "data": {
      "text/html": [
       "'list'"
      ],
      "text/latex": [
       "'list'"
      ],
      "text/markdown": [
       "'list'"
      ],
      "text/plain": [
       "[1] \"list\""
      ]
     },
     "metadata": {},
     "output_type": "display_data"
    }
   ],
   "source": [
    "df = fromJSON('Du_lieu/orange.json')\n",
    "class(df)"
   ]
  },
  {
   "cell_type": "code",
   "execution_count": 54,
   "metadata": {},
   "outputs": [
    {
     "data": {
      "text/html": [
       "<table class=\"dataframe\">\n",
       "<caption>A data.frame: 6 × 3</caption>\n",
       "<thead>\n",
       "\t<tr><th></th><th scope=col>Tree</th><th scope=col>age</th><th scope=col>circumference</th></tr>\n",
       "\t<tr><th></th><th scope=col>&lt;chr&gt;</th><th scope=col>&lt;int&gt;</th><th scope=col>&lt;int&gt;</th></tr>\n",
       "</thead>\n",
       "<tbody>\n",
       "\t<tr><th scope=row>1</th><td>1</td><td> 118</td><td> 30</td></tr>\n",
       "\t<tr><th scope=row>2</th><td>1</td><td> 484</td><td> 58</td></tr>\n",
       "\t<tr><th scope=row>3</th><td>1</td><td> 664</td><td> 87</td></tr>\n",
       "\t<tr><th scope=row>4</th><td>1</td><td>1004</td><td>115</td></tr>\n",
       "\t<tr><th scope=row>5</th><td>1</td><td>1231</td><td>120</td></tr>\n",
       "\t<tr><th scope=row>6</th><td>1</td><td>1372</td><td>142</td></tr>\n",
       "</tbody>\n",
       "</table>\n"
      ],
      "text/latex": [
       "A data.frame: 6 × 3\n",
       "\\begin{tabular}{r|lll}\n",
       "  & Tree & age & circumference\\\\\n",
       "  & <chr> & <int> & <int>\\\\\n",
       "\\hline\n",
       "\t1 & 1 &  118 &  30\\\\\n",
       "\t2 & 1 &  484 &  58\\\\\n",
       "\t3 & 1 &  664 &  87\\\\\n",
       "\t4 & 1 & 1004 & 115\\\\\n",
       "\t5 & 1 & 1231 & 120\\\\\n",
       "\t6 & 1 & 1372 & 142\\\\\n",
       "\\end{tabular}\n"
      ],
      "text/markdown": [
       "\n",
       "A data.frame: 6 × 3\n",
       "\n",
       "| <!--/--> | Tree &lt;chr&gt; | age &lt;int&gt; | circumference &lt;int&gt; |\n",
       "|---|---|---|---|\n",
       "| 1 | 1 |  118 |  30 |\n",
       "| 2 | 1 |  484 |  58 |\n",
       "| 3 | 1 |  664 |  87 |\n",
       "| 4 | 1 | 1004 | 115 |\n",
       "| 5 | 1 | 1231 | 120 |\n",
       "| 6 | 1 | 1372 | 142 |\n",
       "\n"
      ],
      "text/plain": [
       "  Tree age  circumference\n",
       "1 1     118  30          \n",
       "2 1     484  58          \n",
       "3 1     664  87          \n",
       "4 1    1004 115          \n",
       "5 1    1231 120          \n",
       "6 1    1372 142          "
      ]
     },
     "metadata": {},
     "output_type": "display_data"
    }
   ],
   "source": [
    "df = data.frame(df)\n",
    "head(df)"
   ]
  },
  {
   "cell_type": "code",
   "execution_count": 56,
   "metadata": {},
   "outputs": [
    {
     "data": {
      "text/html": [
       "<table class=\"dataframe\">\n",
       "<caption>A data.frame: 1 × 3</caption>\n",
       "<thead>\n",
       "\t<tr><th></th><th scope=col>Tree</th><th scope=col>age</th><th scope=col>circumference</th></tr>\n",
       "\t<tr><th></th><th scope=col>&lt;chr&gt;</th><th scope=col>&lt;int&gt;</th><th scope=col>&lt;int&gt;</th></tr>\n",
       "</thead>\n",
       "<tbody>\n",
       "\t<tr><th scope=row>7</th><td>1</td><td>1582</td><td>145</td></tr>\n",
       "</tbody>\n",
       "</table>\n"
      ],
      "text/latex": [
       "A data.frame: 1 × 3\n",
       "\\begin{tabular}{r|lll}\n",
       "  & Tree & age & circumference\\\\\n",
       "  & <chr> & <int> & <int>\\\\\n",
       "\\hline\n",
       "\t7 & 1 & 1582 & 145\\\\\n",
       "\\end{tabular}\n"
      ],
      "text/markdown": [
       "\n",
       "A data.frame: 1 × 3\n",
       "\n",
       "| <!--/--> | Tree &lt;chr&gt; | age &lt;int&gt; | circumference &lt;int&gt; |\n",
       "|---|---|---|---|\n",
       "| 7 | 1 | 1582 | 145 |\n",
       "\n"
      ],
      "text/plain": [
       "  Tree age  circumference\n",
       "7 1    1582 145          "
      ]
     },
     "metadata": {},
     "output_type": "display_data"
    }
   ],
   "source": [
    "df[which.max(df$age),]"
   ]
  },
  {
   "cell_type": "code",
   "execution_count": 62,
   "metadata": {},
   "outputs": [
    {
     "data": {
      "text/html": [
       "1582"
      ],
      "text/latex": [
       "1582"
      ],
      "text/markdown": [
       "1582"
      ],
      "text/plain": [
       "[1] 1582"
      ]
     },
     "metadata": {},
     "output_type": "display_data"
    }
   ],
   "source": [
    "max(df$age)"
   ]
  },
  {
   "cell_type": "code",
   "execution_count": 63,
   "metadata": {},
   "outputs": [
    {
     "data": {
      "text/html": [
       "<table class=\"dataframe\">\n",
       "<caption>A data.frame: 5 × 3</caption>\n",
       "<thead>\n",
       "\t<tr><th scope=col>Tree</th><th scope=col>age</th><th scope=col>circumference</th></tr>\n",
       "\t<tr><th scope=col>&lt;chr&gt;</th><th scope=col>&lt;int&gt;</th><th scope=col>&lt;int&gt;</th></tr>\n",
       "</thead>\n",
       "<tbody>\n",
       "\t<tr><td>1</td><td>1582</td><td>145</td></tr>\n",
       "\t<tr><td>2</td><td>1582</td><td>203</td></tr>\n",
       "\t<tr><td>3</td><td>1582</td><td>140</td></tr>\n",
       "\t<tr><td>4</td><td>1582</td><td>214</td></tr>\n",
       "\t<tr><td>5</td><td>1582</td><td>177</td></tr>\n",
       "</tbody>\n",
       "</table>\n"
      ],
      "text/latex": [
       "A data.frame: 5 × 3\n",
       "\\begin{tabular}{lll}\n",
       " Tree & age & circumference\\\\\n",
       " <chr> & <int> & <int>\\\\\n",
       "\\hline\n",
       "\t 1 & 1582 & 145\\\\\n",
       "\t 2 & 1582 & 203\\\\\n",
       "\t 3 & 1582 & 140\\\\\n",
       "\t 4 & 1582 & 214\\\\\n",
       "\t 5 & 1582 & 177\\\\\n",
       "\\end{tabular}\n"
      ],
      "text/markdown": [
       "\n",
       "A data.frame: 5 × 3\n",
       "\n",
       "| Tree &lt;chr&gt; | age &lt;int&gt; | circumference &lt;int&gt; |\n",
       "|---|---|---|\n",
       "| 1 | 1582 | 145 |\n",
       "| 2 | 1582 | 203 |\n",
       "| 3 | 1582 | 140 |\n",
       "| 4 | 1582 | 214 |\n",
       "| 5 | 1582 | 177 |\n",
       "\n"
      ],
      "text/plain": [
       "  Tree age  circumference\n",
       "1 1    1582 145          \n",
       "2 2    1582 203          \n",
       "3 3    1582 140          \n",
       "4 4    1582 214          \n",
       "5 5    1582 177          "
      ]
     },
     "metadata": {},
     "output_type": "display_data"
    }
   ],
   "source": [
    "filter(df, df$age == max(df$age))"
   ]
  },
  {
   "cell_type": "code",
   "execution_count": 64,
   "metadata": {},
   "outputs": [
    {
     "data": {
      "text/html": [
       "<table class=\"dataframe\">\n",
       "<caption>A data.frame: 5 × 3</caption>\n",
       "<thead>\n",
       "\t<tr><th></th><th scope=col>Tree</th><th scope=col>age</th><th scope=col>circumference</th></tr>\n",
       "\t<tr><th></th><th scope=col>&lt;chr&gt;</th><th scope=col>&lt;int&gt;</th><th scope=col>&lt;int&gt;</th></tr>\n",
       "</thead>\n",
       "<tbody>\n",
       "\t<tr><th scope=row>7</th><td>1</td><td>1582</td><td>145</td></tr>\n",
       "\t<tr><th scope=row>14</th><td>2</td><td>1582</td><td>203</td></tr>\n",
       "\t<tr><th scope=row>21</th><td>3</td><td>1582</td><td>140</td></tr>\n",
       "\t<tr><th scope=row>28</th><td>4</td><td>1582</td><td>214</td></tr>\n",
       "\t<tr><th scope=row>35</th><td>5</td><td>1582</td><td>177</td></tr>\n",
       "</tbody>\n",
       "</table>\n"
      ],
      "text/latex": [
       "A data.frame: 5 × 3\n",
       "\\begin{tabular}{r|lll}\n",
       "  & Tree & age & circumference\\\\\n",
       "  & <chr> & <int> & <int>\\\\\n",
       "\\hline\n",
       "\t7 & 1 & 1582 & 145\\\\\n",
       "\t14 & 2 & 1582 & 203\\\\\n",
       "\t21 & 3 & 1582 & 140\\\\\n",
       "\t28 & 4 & 1582 & 214\\\\\n",
       "\t35 & 5 & 1582 & 177\\\\\n",
       "\\end{tabular}\n"
      ],
      "text/markdown": [
       "\n",
       "A data.frame: 5 × 3\n",
       "\n",
       "| <!--/--> | Tree &lt;chr&gt; | age &lt;int&gt; | circumference &lt;int&gt; |\n",
       "|---|---|---|---|\n",
       "| 7 | 1 | 1582 | 145 |\n",
       "| 14 | 2 | 1582 | 203 |\n",
       "| 21 | 3 | 1582 | 140 |\n",
       "| 28 | 4 | 1582 | 214 |\n",
       "| 35 | 5 | 1582 | 177 |\n",
       "\n"
      ],
      "text/plain": [
       "   Tree age  circumference\n",
       "7  1    1582 145          \n",
       "14 2    1582 203          \n",
       "21 3    1582 140          \n",
       "28 4    1582 214          \n",
       "35 5    1582 177          "
      ]
     },
     "metadata": {},
     "output_type": "display_data"
    }
   ],
   "source": [
    "subset(df, df$age == max(df$age))"
   ]
  },
  {
   "cell_type": "code",
   "execution_count": 66,
   "metadata": {},
   "outputs": [],
   "source": [
    "df_new = subset(df, df$age > 1000 & df$circumference > 100)\n",
    "df_new_json = toJSON(df_new)\n",
    "write(df_new_json, file='Du_lieu_new/large_100_age_1000_new.json')"
   ]
  },
  {
   "cell_type": "code",
   "execution_count": 67,
   "metadata": {},
   "outputs": [
    {
     "data": {
      "text/html": [
       "<table class=\"dataframe\">\n",
       "<caption>A data.frame: 6 × 3</caption>\n",
       "<thead>\n",
       "\t<tr><th></th><th scope=col>Tree</th><th scope=col>age</th><th scope=col>circumference</th></tr>\n",
       "\t<tr><th></th><th scope=col>&lt;chr&gt;</th><th scope=col>&lt;int&gt;</th><th scope=col>&lt;int&gt;</th></tr>\n",
       "</thead>\n",
       "<tbody>\n",
       "\t<tr><th scope=row>1</th><td>1</td><td>1004</td><td>115</td></tr>\n",
       "\t<tr><th scope=row>2</th><td>1</td><td>1231</td><td>120</td></tr>\n",
       "\t<tr><th scope=row>3</th><td>1</td><td>1372</td><td>142</td></tr>\n",
       "\t<tr><th scope=row>4</th><td>1</td><td>1582</td><td>145</td></tr>\n",
       "\t<tr><th scope=row>5</th><td>2</td><td>1004</td><td>156</td></tr>\n",
       "\t<tr><th scope=row>6</th><td>2</td><td>1231</td><td>172</td></tr>\n",
       "</tbody>\n",
       "</table>\n"
      ],
      "text/latex": [
       "A data.frame: 6 × 3\n",
       "\\begin{tabular}{r|lll}\n",
       "  & Tree & age & circumference\\\\\n",
       "  & <chr> & <int> & <int>\\\\\n",
       "\\hline\n",
       "\t1 & 1 & 1004 & 115\\\\\n",
       "\t2 & 1 & 1231 & 120\\\\\n",
       "\t3 & 1 & 1372 & 142\\\\\n",
       "\t4 & 1 & 1582 & 145\\\\\n",
       "\t5 & 2 & 1004 & 156\\\\\n",
       "\t6 & 2 & 1231 & 172\\\\\n",
       "\\end{tabular}\n"
      ],
      "text/markdown": [
       "\n",
       "A data.frame: 6 × 3\n",
       "\n",
       "| <!--/--> | Tree &lt;chr&gt; | age &lt;int&gt; | circumference &lt;int&gt; |\n",
       "|---|---|---|---|\n",
       "| 1 | 1 | 1004 | 115 |\n",
       "| 2 | 1 | 1231 | 120 |\n",
       "| 3 | 1 | 1372 | 142 |\n",
       "| 4 | 1 | 1582 | 145 |\n",
       "| 5 | 2 | 1004 | 156 |\n",
       "| 6 | 2 | 1231 | 172 |\n",
       "\n"
      ],
      "text/plain": [
       "  Tree age  circumference\n",
       "1 1    1004 115          \n",
       "2 1    1231 120          \n",
       "3 1    1372 142          \n",
       "4 1    1582 145          \n",
       "5 2    1004 156          \n",
       "6 2    1231 172          "
      ]
     },
     "metadata": {},
     "output_type": "display_data"
    }
   ],
   "source": [
    "result = fromJSON('Du_lieu_new/large_100_age_1000_new.json')\n",
    "head(result)"
   ]
  },
  {
   "cell_type": "code",
   "execution_count": null,
   "metadata": {},
   "outputs": [],
   "source": []
  }
 ],
 "metadata": {
  "kernelspec": {
   "display_name": "R",
   "language": "R",
   "name": "ir"
  },
  "language_info": {
   "codemirror_mode": "r",
   "file_extension": ".r",
   "mimetype": "text/x-r-source",
   "name": "R",
   "pygments_lexer": "r",
   "version": "4.1.0"
  }
 },
 "nbformat": 4,
 "nbformat_minor": 4
}
