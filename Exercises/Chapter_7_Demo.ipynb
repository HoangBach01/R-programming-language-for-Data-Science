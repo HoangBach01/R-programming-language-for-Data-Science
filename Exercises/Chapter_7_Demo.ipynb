{
 "cells": [
  {
   "cell_type": "markdown",
   "metadata": {},
   "source": [
    "## Matrix"
   ]
  },
  {
   "cell_type": "code",
   "execution_count": 2,
   "metadata": {},
   "outputs": [
    {
     "data": {
      "text/html": [
       "<table class=\"dataframe\">\n",
       "<caption>A matrix: 4 × 3 of type int</caption>\n",
       "<tbody>\n",
       "\t<tr><td> 1</td><td> 2</td><td> 3</td></tr>\n",
       "\t<tr><td> 4</td><td> 5</td><td> 6</td></tr>\n",
       "\t<tr><td> 7</td><td> 8</td><td> 9</td></tr>\n",
       "\t<tr><td>10</td><td>11</td><td>12</td></tr>\n",
       "</tbody>\n",
       "</table>\n"
      ],
      "text/latex": [
       "A matrix: 4 × 3 of type int\n",
       "\\begin{tabular}{lll}\n",
       "\t  1 &  2 &  3\\\\\n",
       "\t  4 &  5 &  6\\\\\n",
       "\t  7 &  8 &  9\\\\\n",
       "\t 10 & 11 & 12\\\\\n",
       "\\end{tabular}\n"
      ],
      "text/markdown": [
       "\n",
       "A matrix: 4 × 3 of type int\n",
       "\n",
       "|  1 |  2 |  3 |\n",
       "|  4 |  5 |  6 |\n",
       "|  7 |  8 |  9 |\n",
       "| 10 | 11 | 12 |\n",
       "\n"
      ],
      "text/plain": [
       "     [,1] [,2] [,3]\n",
       "[1,]  1    2    3  \n",
       "[2,]  4    5    6  \n",
       "[3,]  7    8    9  \n",
       "[4,] 10   11   12  "
      ]
     },
     "metadata": {},
     "output_type": "display_data"
    }
   ],
   "source": [
    "mat = matrix(c(1:12), nrow=4, byrow=TRUE)\n",
    "mat"
   ]
  },
  {
   "cell_type": "code",
   "execution_count": 3,
   "metadata": {},
   "outputs": [
    {
     "data": {
      "text/html": [
       "<table class=\"dataframe\">\n",
       "<caption>A matrix: 4 × 3 of type int</caption>\n",
       "<tbody>\n",
       "\t<tr><td>1</td><td>5</td><td> 9</td></tr>\n",
       "\t<tr><td>2</td><td>6</td><td>10</td></tr>\n",
       "\t<tr><td>3</td><td>7</td><td>11</td></tr>\n",
       "\t<tr><td>4</td><td>8</td><td>12</td></tr>\n",
       "</tbody>\n",
       "</table>\n"
      ],
      "text/latex": [
       "A matrix: 4 × 3 of type int\n",
       "\\begin{tabular}{lll}\n",
       "\t 1 & 5 &  9\\\\\n",
       "\t 2 & 6 & 10\\\\\n",
       "\t 3 & 7 & 11\\\\\n",
       "\t 4 & 8 & 12\\\\\n",
       "\\end{tabular}\n"
      ],
      "text/markdown": [
       "\n",
       "A matrix: 4 × 3 of type int\n",
       "\n",
       "| 1 | 5 |  9 |\n",
       "| 2 | 6 | 10 |\n",
       "| 3 | 7 | 11 |\n",
       "| 4 | 8 | 12 |\n",
       "\n"
      ],
      "text/plain": [
       "     [,1] [,2] [,3]\n",
       "[1,] 1    5     9  \n",
       "[2,] 2    6    10  \n",
       "[3,] 3    7    11  \n",
       "[4,] 4    8    12  "
      ]
     },
     "metadata": {},
     "output_type": "display_data"
    }
   ],
   "source": [
    "mat = matrix(c(1:12), nrow=4)\n",
    "mat"
   ]
  },
  {
   "cell_type": "code",
   "execution_count": 4,
   "metadata": {},
   "outputs": [
    {
     "data": {
      "text/html": [
       "<table class=\"dataframe\">\n",
       "<caption>A matrix: 4 × 3 of type int</caption>\n",
       "<thead>\n",
       "\t<tr><th></th><th scope=col>col1</th><th scope=col>col2</th><th scope=col>col3</th></tr>\n",
       "</thead>\n",
       "<tbody>\n",
       "\t<tr><th scope=row>row1</th><td> 1</td><td> 2</td><td> 3</td></tr>\n",
       "\t<tr><th scope=row>row2</th><td> 4</td><td> 5</td><td> 6</td></tr>\n",
       "\t<tr><th scope=row>row3</th><td> 7</td><td> 8</td><td> 9</td></tr>\n",
       "\t<tr><th scope=row>row4</th><td>10</td><td>11</td><td>12</td></tr>\n",
       "</tbody>\n",
       "</table>\n"
      ],
      "text/latex": [
       "A matrix: 4 × 3 of type int\n",
       "\\begin{tabular}{r|lll}\n",
       "  & col1 & col2 & col3\\\\\n",
       "\\hline\n",
       "\trow1 &  1 &  2 &  3\\\\\n",
       "\trow2 &  4 &  5 &  6\\\\\n",
       "\trow3 &  7 &  8 &  9\\\\\n",
       "\trow4 & 10 & 11 & 12\\\\\n",
       "\\end{tabular}\n"
      ],
      "text/markdown": [
       "\n",
       "A matrix: 4 × 3 of type int\n",
       "\n",
       "| <!--/--> | col1 | col2 | col3 |\n",
       "|---|---|---|---|\n",
       "| row1 |  1 |  2 |  3 |\n",
       "| row2 |  4 |  5 |  6 |\n",
       "| row3 |  7 |  8 |  9 |\n",
       "| row4 | 10 | 11 | 12 |\n",
       "\n"
      ],
      "text/plain": [
       "     col1 col2 col3\n",
       "row1  1    2    3  \n",
       "row2  4    5    6  \n",
       "row3  7    8    9  \n",
       "row4 10   11   12  "
      ]
     },
     "metadata": {},
     "output_type": "display_data"
    }
   ],
   "source": [
    "rownames = c('row1', 'row2', 'row3', 'row4')\n",
    "colnames = c('col1', 'col2', 'col3')\n",
    "mat = matrix(c(1:12), nrow=4, byrow=TRUE, dimnames=list(rownames, colnames))\n",
    "mat"
   ]
  },
  {
   "cell_type": "code",
   "execution_count": 5,
   "metadata": {},
   "outputs": [
    {
     "data": {
      "text/html": [
       "2"
      ],
      "text/latex": [
       "2"
      ],
      "text/markdown": [
       "2"
      ],
      "text/plain": [
       "[1] 2"
      ]
     },
     "metadata": {},
     "output_type": "display_data"
    }
   ],
   "source": [
    "mat[1,2]"
   ]
  },
  {
   "cell_type": "code",
   "execution_count": 6,
   "metadata": {},
   "outputs": [
    {
     "data": {
      "text/html": [
       "11"
      ],
      "text/latex": [
       "11"
      ],
      "text/markdown": [
       "11"
      ],
      "text/plain": [
       "[1] 11"
      ]
     },
     "metadata": {},
     "output_type": "display_data"
    }
   ],
   "source": [
    "mat[4,2]"
   ]
  },
  {
   "cell_type": "code",
   "execution_count": 8,
   "metadata": {},
   "outputs": [
    {
     "data": {
      "text/html": [
       "<style>\n",
       ".dl-inline {width: auto; margin:0; padding: 0}\n",
       ".dl-inline>dt, .dl-inline>dd {float: none; width: auto; display: inline-block}\n",
       ".dl-inline>dt::after {content: \":\\0020\"; padding-right: .5ex}\n",
       ".dl-inline>dt:not(:first-of-type) {padding-left: .5ex}\n",
       "</style><dl class=dl-inline><dt>row1</dt><dd>3</dd><dt>row2</dt><dd>6</dd><dt>row3</dt><dd>9</dd><dt>row4</dt><dd>12</dd></dl>\n"
      ],
      "text/latex": [
       "\\begin{description*}\n",
       "\\item[row1] 3\n",
       "\\item[row2] 6\n",
       "\\item[row3] 9\n",
       "\\item[row4] 12\n",
       "\\end{description*}\n"
      ],
      "text/markdown": [
       "row1\n",
       ":   3row2\n",
       ":   6row3\n",
       ":   9row4\n",
       ":   12\n",
       "\n"
      ],
      "text/plain": [
       "row1 row2 row3 row4 \n",
       "   3    6    9   12 "
      ]
     },
     "metadata": {},
     "output_type": "display_data"
    }
   ],
   "source": [
    "mat[,3]"
   ]
  },
  {
   "cell_type": "code",
   "execution_count": 9,
   "metadata": {},
   "outputs": [
    {
     "data": {
      "text/html": [
       "<style>\n",
       ".dl-inline {width: auto; margin:0; padding: 0}\n",
       ".dl-inline>dt, .dl-inline>dd {float: none; width: auto; display: inline-block}\n",
       ".dl-inline>dt::after {content: \":\\0020\"; padding-right: .5ex}\n",
       ".dl-inline>dt:not(:first-of-type) {padding-left: .5ex}\n",
       "</style><dl class=dl-inline><dt>col1</dt><dd>4</dd><dt>col2</dt><dd>5</dd><dt>col3</dt><dd>6</dd></dl>\n"
      ],
      "text/latex": [
       "\\begin{description*}\n",
       "\\item[col1] 4\n",
       "\\item[col2] 5\n",
       "\\item[col3] 6\n",
       "\\end{description*}\n"
      ],
      "text/markdown": [
       "col1\n",
       ":   4col2\n",
       ":   5col3\n",
       ":   6\n",
       "\n"
      ],
      "text/plain": [
       "col1 col2 col3 \n",
       "   4    5    6 "
      ]
     },
     "metadata": {},
     "output_type": "display_data"
    }
   ],
   "source": [
    "mat[2,]"
   ]
  },
  {
   "cell_type": "code",
   "execution_count": 10,
   "metadata": {},
   "outputs": [
    {
     "data": {
      "text/html": [
       "<table class=\"dataframe\">\n",
       "<caption>A matrix: 4 × 3 of type int</caption>\n",
       "<tbody>\n",
       "\t<tr><td> 2</td><td> 7</td><td>12</td></tr>\n",
       "\t<tr><td> 6</td><td>11</td><td>16</td></tr>\n",
       "\t<tr><td>10</td><td>15</td><td>20</td></tr>\n",
       "\t<tr><td>14</td><td>19</td><td>24</td></tr>\n",
       "</tbody>\n",
       "</table>\n"
      ],
      "text/latex": [
       "A matrix: 4 × 3 of type int\n",
       "\\begin{tabular}{lll}\n",
       "\t  2 &  7 & 12\\\\\n",
       "\t  6 & 11 & 16\\\\\n",
       "\t 10 & 15 & 20\\\\\n",
       "\t 14 & 19 & 24\\\\\n",
       "\\end{tabular}\n"
      ],
      "text/markdown": [
       "\n",
       "A matrix: 4 × 3 of type int\n",
       "\n",
       "|  2 |  7 | 12 |\n",
       "|  6 | 11 | 16 |\n",
       "| 10 | 15 | 20 |\n",
       "| 14 | 19 | 24 |\n",
       "\n"
      ],
      "text/plain": [
       "     [,1] [,2] [,3]\n",
       "[1,]  2    7   12  \n",
       "[2,]  6   11   16  \n",
       "[3,] 10   15   20  \n",
       "[4,] 14   19   24  "
      ]
     },
     "metadata": {},
     "output_type": "display_data"
    }
   ],
   "source": [
    "mat1 = matrix(c(1:12), nrow=4)\n",
    "mat2 = matrix(c(1:12), nrow=4, byrow=TRUE)\n",
    "mat1 + mat2"
   ]
  },
  {
   "cell_type": "code",
   "execution_count": 17,
   "metadata": {},
   "outputs": [
    {
     "data": {
      "text/html": [
       "<table class=\"dataframe\">\n",
       "<caption>A matrix: 4 × 4 of type dbl</caption>\n",
       "<tbody>\n",
       "\t<tr><td>38</td><td> 83</td><td>128</td><td>173</td></tr>\n",
       "\t<tr><td>44</td><td> 98</td><td>152</td><td>206</td></tr>\n",
       "\t<tr><td>50</td><td>113</td><td>176</td><td>239</td></tr>\n",
       "\t<tr><td>56</td><td>128</td><td>200</td><td>272</td></tr>\n",
       "</tbody>\n",
       "</table>\n"
      ],
      "text/latex": [
       "A matrix: 4 × 4 of type dbl\n",
       "\\begin{tabular}{llll}\n",
       "\t 38 &  83 & 128 & 173\\\\\n",
       "\t 44 &  98 & 152 & 206\\\\\n",
       "\t 50 & 113 & 176 & 239\\\\\n",
       "\t 56 & 128 & 200 & 272\\\\\n",
       "\\end{tabular}\n"
      ],
      "text/markdown": [
       "\n",
       "A matrix: 4 × 4 of type dbl\n",
       "\n",
       "| 38 |  83 | 128 | 173 |\n",
       "| 44 |  98 | 152 | 206 |\n",
       "| 50 | 113 | 176 | 239 |\n",
       "| 56 | 128 | 200 | 272 |\n",
       "\n"
      ],
      "text/plain": [
       "     [,1] [,2] [,3] [,4]\n",
       "[1,] 38    83  128  173 \n",
       "[2,] 44    98  152  206 \n",
       "[3,] 50   113  176  239 \n",
       "[4,] 56   128  200  272 "
      ]
     },
     "metadata": {},
     "output_type": "display_data"
    }
   ],
   "source": [
    "mat1 %*% t(mat2)"
   ]
  },
  {
   "cell_type": "markdown",
   "metadata": {},
   "source": [
    "## Array"
   ]
  },
  {
   "cell_type": "code",
   "execution_count": 19,
   "metadata": {},
   "outputs": [
    {
     "name": "stdout",
     "output_type": "stream",
     "text": [
      ", , 1\n",
      "\n",
      "     [,1] [,2]\n",
      "[1,]    1    4\n",
      "[2,]    2    5\n",
      "[3,]    3    6\n",
      "\n",
      ", , 2\n",
      "\n",
      "     [,1] [,2]\n",
      "[1,]    1    4\n",
      "[2,]    2    5\n",
      "[3,]    3    6\n",
      "\n"
     ]
    }
   ],
   "source": [
    "array1 = array(c(1:6), dim=c(3,2,2))\n",
    "print(array1)"
   ]
  },
  {
   "cell_type": "code",
   "execution_count": 20,
   "metadata": {},
   "outputs": [
    {
     "name": "stdout",
     "output_type": "stream",
     "text": [
      ", , 1\n",
      "\n",
      "     [,1] [,2] [,3] [,4]\n",
      "[1,]    1    4    8    2\n",
      "[2,]    2    5   15    3\n",
      "[3,]    3    6    1    4\n",
      "\n",
      ", , 2\n",
      "\n",
      "     [,1] [,2] [,3] [,4]\n",
      "[1,]    5   15    3    6\n",
      "[2,]    6    1    4    8\n",
      "[3,]    8    2    5   15\n",
      "\n"
     ]
    }
   ],
   "source": [
    "array1 = array(c(c(1:6), c(8,15)), dim=c(3,4,2))\n",
    "print(array1)"
   ]
  },
  {
   "cell_type": "code",
   "execution_count": 21,
   "metadata": {},
   "outputs": [
    {
     "name": "stdout",
     "output_type": "stream",
     "text": [
      ", , matrix1\n",
      "\n",
      "     col1 col2 col3 col4\n",
      "row1    1    4    8    2\n",
      "row2    2    5   15    3\n",
      "row3    3    6    1    4\n",
      "\n",
      ", , matrix2\n",
      "\n",
      "     col1 col2 col3 col4\n",
      "row1    5   15    3    6\n",
      "row2    6    1    4    8\n",
      "row3    8    2    5   15\n",
      "\n"
     ]
    }
   ],
   "source": [
    "rownames = c('row1', 'row2', 'row3')\n",
    "colnames = c('col1', 'col2', 'col3', 'col4')\n",
    "matnames = c('matrix1', 'matrix2')\n",
    "\n",
    "array1 = array(c(c(1:6), c(8,15)), dim=c(3,4,2), dimnames= list(rownames, colnames, matnames))\n",
    "print(array1)"
   ]
  },
  {
   "cell_type": "code",
   "execution_count": 24,
   "metadata": {},
   "outputs": [
    {
     "name": "stdout",
     "output_type": "stream",
     "text": [
      "col1 col2 col3 col4 \n",
      "   5   15    3    6 \n"
     ]
    }
   ],
   "source": [
    "print(array1[1,,2])"
   ]
  },
  {
   "cell_type": "code",
   "execution_count": 25,
   "metadata": {},
   "outputs": [
    {
     "name": "stdout",
     "output_type": "stream",
     "text": [
      "row1 row2 row3 \n",
      "  44   44   44 \n"
     ]
    }
   ],
   "source": [
    "print(apply(array1, c(1), sum))"
   ]
  },
  {
   "cell_type": "code",
   "execution_count": 26,
   "metadata": {},
   "outputs": [
    {
     "name": "stdout",
     "output_type": "stream",
     "text": [
      "col1 col2 col3 col4 \n",
      "   1    1    1    2 \n"
     ]
    }
   ],
   "source": [
    "print(apply(array1, c(2), min))"
   ]
  },
  {
   "cell_type": "code",
   "execution_count": 27,
   "metadata": {},
   "outputs": [
    {
     "name": "stdout",
     "output_type": "stream",
     "text": [
      "matrix1 matrix2 \n",
      "    4.5     6.5 \n"
     ]
    }
   ],
   "source": [
    "print(apply(array1, c(3), mean))"
   ]
  },
  {
   "cell_type": "markdown",
   "metadata": {},
   "source": [
    "## List"
   ]
  },
  {
   "cell_type": "code",
   "execution_count": 1,
   "metadata": {},
   "outputs": [
    {
     "data": {
      "text/html": [
       "<ol>\n",
       "\t<li>'hello'</li>\n",
       "\t<li>'R'</li>\n",
       "\t<li>12</li>\n",
       "\t<li>25.5</li>\n",
       "\t<li><style>\n",
       ".list-inline {list-style: none; margin:0; padding: 0}\n",
       ".list-inline>li {display: inline-block}\n",
       ".list-inline>li:not(:last-child)::after {content: \"\\00b7\"; padding: 0 .5ex}\n",
       "</style>\n",
       "<ol class=list-inline><li>21</li><li>32</li><li>12</li></ol>\n",
       "</li>\n",
       "\t<li>TRUE</li>\n",
       "</ol>\n"
      ],
      "text/latex": [
       "\\begin{enumerate}\n",
       "\\item 'hello'\n",
       "\\item 'R'\n",
       "\\item 12\n",
       "\\item 25.5\n",
       "\\item \\begin{enumerate*}\n",
       "\\item 21\n",
       "\\item 32\n",
       "\\item 12\n",
       "\\end{enumerate*}\n",
       "\n",
       "\\item TRUE\n",
       "\\end{enumerate}\n"
      ],
      "text/markdown": [
       "1. 'hello'\n",
       "2. 'R'\n",
       "3. 12\n",
       "4. 25.5\n",
       "5. 1. 21\n",
       "2. 32\n",
       "3. 12\n",
       "\n",
       "\n",
       "\n",
       "6. TRUE\n",
       "\n",
       "\n"
      ],
      "text/plain": [
       "[[1]]\n",
       "[1] \"hello\"\n",
       "\n",
       "[[2]]\n",
       "[1] \"R\"\n",
       "\n",
       "[[3]]\n",
       "[1] 12\n",
       "\n",
       "[[4]]\n",
       "[1] 25.5\n",
       "\n",
       "[[5]]\n",
       "[1] 21 32 12\n",
       "\n",
       "[[6]]\n",
       "[1] TRUE\n"
      ]
     },
     "metadata": {},
     "output_type": "display_data"
    }
   ],
   "source": [
    "list_data = list('hello', 'R', 12, 25.5, c(21, 32, 12), TRUE)\n",
    "list_data"
   ]
  },
  {
   "cell_type": "code",
   "execution_count": 16,
   "metadata": {},
   "outputs": [],
   "source": [
    "names(list_data) = c('a', 'b', 'c', 'd', 'e', 'f')"
   ]
  },
  {
   "cell_type": "code",
   "execution_count": 17,
   "metadata": {},
   "outputs": [
    {
     "data": {
      "text/html": [
       "<strong>$a</strong> = 'hello'"
      ],
      "text/latex": [
       "\\textbf{\\$a} = 'hello'"
      ],
      "text/markdown": [
       "**$a** = 'hello'"
      ],
      "text/plain": [
       "$a\n",
       "[1] \"hello\"\n"
      ]
     },
     "metadata": {},
     "output_type": "display_data"
    }
   ],
   "source": [
    "list_data[1]"
   ]
  },
  {
   "cell_type": "code",
   "execution_count": 18,
   "metadata": {},
   "outputs": [
    {
     "data": {
      "text/html": [
       "'hello'"
      ],
      "text/latex": [
       "'hello'"
      ],
      "text/markdown": [
       "'hello'"
      ],
      "text/plain": [
       "[1] \"hello\""
      ]
     },
     "metadata": {},
     "output_type": "display_data"
    }
   ],
   "source": [
    "list_data$a"
   ]
  },
  {
   "cell_type": "code",
   "execution_count": 19,
   "metadata": {},
   "outputs": [],
   "source": [
    "list_data[length(list_data)+1] = ' abc'"
   ]
  },
  {
   "cell_type": "code",
   "execution_count": 20,
   "metadata": {},
   "outputs": [
    {
     "data": {
      "text/html": [
       "<dl>\n",
       "\t<dt>$a</dt>\n",
       "\t\t<dd>'hello'</dd>\n",
       "\t<dt>$b</dt>\n",
       "\t\t<dd>'R'</dd>\n",
       "\t<dt>$c</dt>\n",
       "\t\t<dd>12</dd>\n",
       "\t<dt>$d</dt>\n",
       "\t\t<dd>25.5</dd>\n",
       "\t<dt>$e</dt>\n",
       "\t\t<dd><style>\n",
       ".list-inline {list-style: none; margin:0; padding: 0}\n",
       ".list-inline>li {display: inline-block}\n",
       ".list-inline>li:not(:last-child)::after {content: \"\\00b7\"; padding: 0 .5ex}\n",
       "</style>\n",
       "<ol class=list-inline><li>21</li><li>32</li><li>12</li></ol>\n",
       "</dd>\n",
       "\t<dt>$f</dt>\n",
       "\t\t<dd>TRUE</dd>\n",
       "\t<dt>[[7]]</dt>\n",
       "\t\t<dd>' abc'</dd>\n",
       "</dl>\n"
      ],
      "text/latex": [
       "\\begin{description}\n",
       "\\item[\\$a] 'hello'\n",
       "\\item[\\$b] 'R'\n",
       "\\item[\\$c] 12\n",
       "\\item[\\$d] 25.5\n",
       "\\item[\\$e] \\begin{enumerate*}\n",
       "\\item 21\n",
       "\\item 32\n",
       "\\item 12\n",
       "\\end{enumerate*}\n",
       "\n",
       "\\item[\\$f] TRUE\n",
       "\\item[{[[7]]}] ' abc'\n",
       "\\end{description}\n"
      ],
      "text/markdown": [
       "$a\n",
       ":   'hello'\n",
       "$b\n",
       ":   'R'\n",
       "$c\n",
       ":   12\n",
       "$d\n",
       ":   25.5\n",
       "$e\n",
       ":   1. 21\n",
       "2. 32\n",
       "3. 12\n",
       "\n",
       "\n",
       "\n",
       "$f\n",
       ":   TRUE\n",
       "[[7]]\n",
       ":   ' abc'\n",
       "\n",
       "\n"
      ],
      "text/plain": [
       "$a\n",
       "[1] \"hello\"\n",
       "\n",
       "$b\n",
       "[1] \"R\"\n",
       "\n",
       "$c\n",
       "[1] 12\n",
       "\n",
       "$d\n",
       "[1] 25.5\n",
       "\n",
       "$e\n",
       "[1] 21 32 12\n",
       "\n",
       "$f\n",
       "[1] TRUE\n",
       "\n",
       "[[7]]\n",
       "[1] \" abc\"\n"
      ]
     },
     "metadata": {},
     "output_type": "display_data"
    }
   ],
   "source": [
    "list_data"
   ]
  },
  {
   "cell_type": "code",
   "execution_count": 21,
   "metadata": {},
   "outputs": [],
   "source": [
    "list_data[length(list_data)] = NULL"
   ]
  },
  {
   "cell_type": "code",
   "execution_count": 22,
   "metadata": {},
   "outputs": [
    {
     "data": {
      "text/html": [
       "<dl>\n",
       "\t<dt>$a</dt>\n",
       "\t\t<dd>'hello'</dd>\n",
       "\t<dt>$b</dt>\n",
       "\t\t<dd>'R'</dd>\n",
       "\t<dt>$c</dt>\n",
       "\t\t<dd>12</dd>\n",
       "\t<dt>$d</dt>\n",
       "\t\t<dd>25.5</dd>\n",
       "\t<dt>$e</dt>\n",
       "\t\t<dd><style>\n",
       ".list-inline {list-style: none; margin:0; padding: 0}\n",
       ".list-inline>li {display: inline-block}\n",
       ".list-inline>li:not(:last-child)::after {content: \"\\00b7\"; padding: 0 .5ex}\n",
       "</style>\n",
       "<ol class=list-inline><li>21</li><li>32</li><li>12</li></ol>\n",
       "</dd>\n",
       "\t<dt>$f</dt>\n",
       "\t\t<dd>TRUE</dd>\n",
       "</dl>\n"
      ],
      "text/latex": [
       "\\begin{description}\n",
       "\\item[\\$a] 'hello'\n",
       "\\item[\\$b] 'R'\n",
       "\\item[\\$c] 12\n",
       "\\item[\\$d] 25.5\n",
       "\\item[\\$e] \\begin{enumerate*}\n",
       "\\item 21\n",
       "\\item 32\n",
       "\\item 12\n",
       "\\end{enumerate*}\n",
       "\n",
       "\\item[\\$f] TRUE\n",
       "\\end{description}\n"
      ],
      "text/markdown": [
       "$a\n",
       ":   'hello'\n",
       "$b\n",
       ":   'R'\n",
       "$c\n",
       ":   12\n",
       "$d\n",
       ":   25.5\n",
       "$e\n",
       ":   1. 21\n",
       "2. 32\n",
       "3. 12\n",
       "\n",
       "\n",
       "\n",
       "$f\n",
       ":   TRUE\n",
       "\n",
       "\n"
      ],
      "text/plain": [
       "$a\n",
       "[1] \"hello\"\n",
       "\n",
       "$b\n",
       "[1] \"R\"\n",
       "\n",
       "$c\n",
       "[1] 12\n",
       "\n",
       "$d\n",
       "[1] 25.5\n",
       "\n",
       "$e\n",
       "[1] 21 32 12\n",
       "\n",
       "$f\n",
       "[1] TRUE\n"
      ]
     },
     "metadata": {},
     "output_type": "display_data"
    }
   ],
   "source": [
    "list_data"
   ]
  },
  {
   "cell_type": "code",
   "execution_count": 23,
   "metadata": {},
   "outputs": [
    {
     "data": {
      "text/html": [
       "<strong>$c</strong> = 12"
      ],
      "text/latex": [
       "\\textbf{\\$c} = 12"
      ],
      "text/markdown": [
       "**$c** = 12"
      ],
      "text/plain": [
       "$c\n",
       "[1] 12\n"
      ]
     },
     "metadata": {},
     "output_type": "display_data"
    }
   ],
   "source": [
    "list_data[3]"
   ]
  },
  {
   "cell_type": "code",
   "execution_count": 24,
   "metadata": {},
   "outputs": [
    {
     "data": {
      "text/html": [
       "<dl>\n",
       "\t<dt>$a</dt>\n",
       "\t\t<dd>'hello'</dd>\n",
       "\t<dt>$b</dt>\n",
       "\t\t<dd>'R'</dd>\n",
       "\t<dt>$c</dt>\n",
       "\t\t<dd>12</dd>\n",
       "\t<dt>$d</dt>\n",
       "\t\t<dd>25.5</dd>\n",
       "\t<dt>$e</dt>\n",
       "\t\t<dd><style>\n",
       ".list-inline {list-style: none; margin:0; padding: 0}\n",
       ".list-inline>li {display: inline-block}\n",
       ".list-inline>li:not(:last-child)::after {content: \"\\00b7\"; padding: 0 .5ex}\n",
       "</style>\n",
       "<ol class=list-inline><li>21</li><li>32</li><li>12</li></ol>\n",
       "</dd>\n",
       "\t<dt>$f</dt>\n",
       "\t\t<dd>TRUE</dd>\n",
       "\t<dt>$a</dt>\n",
       "\t\t<dd>'hello'</dd>\n",
       "\t<dt>$b</dt>\n",
       "\t\t<dd>'R'</dd>\n",
       "\t<dt>$c</dt>\n",
       "\t\t<dd>12</dd>\n",
       "\t<dt>$d</dt>\n",
       "\t\t<dd>25.5</dd>\n",
       "\t<dt>$e</dt>\n",
       "\t\t<dd><style>\n",
       ".list-inline {list-style: none; margin:0; padding: 0}\n",
       ".list-inline>li {display: inline-block}\n",
       ".list-inline>li:not(:last-child)::after {content: \"\\00b7\"; padding: 0 .5ex}\n",
       "</style>\n",
       "<ol class=list-inline><li>21</li><li>32</li><li>12</li></ol>\n",
       "</dd>\n",
       "\t<dt>$f</dt>\n",
       "\t\t<dd>TRUE</dd>\n",
       "</dl>\n"
      ],
      "text/latex": [
       "\\begin{description}\n",
       "\\item[\\$a] 'hello'\n",
       "\\item[\\$b] 'R'\n",
       "\\item[\\$c] 12\n",
       "\\item[\\$d] 25.5\n",
       "\\item[\\$e] \\begin{enumerate*}\n",
       "\\item 21\n",
       "\\item 32\n",
       "\\item 12\n",
       "\\end{enumerate*}\n",
       "\n",
       "\\item[\\$f] TRUE\n",
       "\\item[\\$a] 'hello'\n",
       "\\item[\\$b] 'R'\n",
       "\\item[\\$c] 12\n",
       "\\item[\\$d] 25.5\n",
       "\\item[\\$e] \\begin{enumerate*}\n",
       "\\item 21\n",
       "\\item 32\n",
       "\\item 12\n",
       "\\end{enumerate*}\n",
       "\n",
       "\\item[\\$f] TRUE\n",
       "\\end{description}\n"
      ],
      "text/markdown": [
       "$a\n",
       ":   'hello'\n",
       "$b\n",
       ":   'R'\n",
       "$c\n",
       ":   12\n",
       "$d\n",
       ":   25.5\n",
       "$e\n",
       ":   1. 21\n",
       "2. 32\n",
       "3. 12\n",
       "\n",
       "\n",
       "\n",
       "$f\n",
       ":   TRUE\n",
       "$a\n",
       ":   'hello'\n",
       "$b\n",
       ":   'R'\n",
       "$c\n",
       ":   12\n",
       "$d\n",
       ":   25.5\n",
       "$e\n",
       ":   1. 21\n",
       "2. 32\n",
       "3. 12\n",
       "\n",
       "\n",
       "\n",
       "$f\n",
       ":   TRUE\n",
       "\n",
       "\n"
      ],
      "text/plain": [
       "$a\n",
       "[1] \"hello\"\n",
       "\n",
       "$b\n",
       "[1] \"R\"\n",
       "\n",
       "$c\n",
       "[1] 12\n",
       "\n",
       "$d\n",
       "[1] 25.5\n",
       "\n",
       "$e\n",
       "[1] 21 32 12\n",
       "\n",
       "$f\n",
       "[1] TRUE\n",
       "\n",
       "$a\n",
       "[1] \"hello\"\n",
       "\n",
       "$b\n",
       "[1] \"R\"\n",
       "\n",
       "$c\n",
       "[1] 12\n",
       "\n",
       "$d\n",
       "[1] 25.5\n",
       "\n",
       "$e\n",
       "[1] 21 32 12\n",
       "\n",
       "$f\n",
       "[1] TRUE\n"
      ]
     },
     "metadata": {},
     "output_type": "display_data"
    }
   ],
   "source": [
    "merged_list = c(list_data, list_data)\n",
    "merged_list"
   ]
  },
  {
   "cell_type": "code",
   "execution_count": 26,
   "metadata": {},
   "outputs": [],
   "source": [
    "vector = unlist(list_data)"
   ]
  },
  {
   "cell_type": "code",
   "execution_count": 31,
   "metadata": {},
   "outputs": [
    {
     "data": {
      "text/html": [
       "<strong>e2:</strong> '32'"
      ],
      "text/latex": [
       "\\textbf{e2:} '32'"
      ],
      "text/markdown": [
       "**e2:** '32'"
      ],
      "text/plain": [
       "  e2 \n",
       "\"32\" "
      ]
     },
     "metadata": {},
     "output_type": "display_data"
    }
   ],
   "source": [
    "vector[6]"
   ]
  },
  {
   "cell_type": "code",
   "execution_count": null,
   "metadata": {},
   "outputs": [],
   "source": []
  }
 ],
 "metadata": {
  "kernelspec": {
   "display_name": "R",
   "language": "R",
   "name": "ir"
  },
  "language_info": {
   "codemirror_mode": "r",
   "file_extension": ".r",
   "mimetype": "text/x-r-source",
   "name": "R",
   "pygments_lexer": "r",
   "version": "4.1.0"
  }
 },
 "nbformat": 4,
 "nbformat_minor": 4
}
