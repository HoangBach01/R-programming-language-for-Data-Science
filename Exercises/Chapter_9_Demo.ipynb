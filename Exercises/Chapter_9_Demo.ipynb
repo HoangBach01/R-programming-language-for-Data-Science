{
 "cells": [
  {
   "cell_type": "markdown",
   "metadata": {},
   "source": [
    "## Text file"
   ]
  },
  {
   "cell_type": "code",
   "execution_count": 1,
   "metadata": {
    "scrolled": true
   },
   "outputs": [
    {
     "data": {
      "text/html": [
       "'/Users/tranhoangbach/Google Drive/LDS7_K267_ONLINE_TranHoangBach/BaiGiang_BaiTap'"
      ],
      "text/latex": [
       "'/Users/tranhoangbach/Google Drive/LDS7\\_K267\\_ONLINE\\_TranHoangBach/BaiGiang\\_BaiTap'"
      ],
      "text/markdown": [
       "'/Users/tranhoangbach/Google Drive/LDS7_K267_ONLINE_TranHoangBach/BaiGiang_BaiTap'"
      ],
      "text/plain": [
       "[1] \"/Users/tranhoangbach/Google Drive/LDS7_K267_ONLINE_TranHoangBach/BaiGiang_BaiTap\""
      ]
     },
     "metadata": {},
     "output_type": "display_data"
    }
   ],
   "source": [
    "getwd()"
   ]
  },
  {
   "cell_type": "code",
   "execution_count": 5,
   "metadata": {},
   "outputs": [
    {
     "name": "stdout",
     "output_type": "stream",
     "text": [
      "[1] \"Mùa xuân là Tết trồng cây\"           \n",
      "[2] \"Làm cho đất nước càng ngày càng xuân\"\n",
      "[3] \"\"                                    \n"
     ]
    }
   ],
   "source": [
    "content = readLines('Du_lieu/bai_tho.txt', encoding='UTF-8')\n",
    "print(content)"
   ]
  },
  {
   "cell_type": "code",
   "execution_count": 6,
   "metadata": {},
   "outputs": [
    {
     "name": "stdout",
     "output_type": "stream",
     "text": [
      "[1] \"These data files are derived by splitting up the data set downloaded from:\"\n",
      "[2] \"https://www.ontario.ca/data/ontario-public-schools-enrolment\"              \n",
      "[3] \"under the Open Government License - Ontario:\"                              \n",
      "[4] \"https://www.ontario.ca/page/open-government-licence-ontario\"               \n"
     ]
    }
   ],
   "source": [
    "content = readLines('Du_lieu/license.txt')\n",
    "print(content)"
   ]
  },
  {
   "cell_type": "code",
   "execution_count": 7,
   "metadata": {},
   "outputs": [
    {
     "data": {
      "text/html": [
       "4"
      ],
      "text/latex": [
       "4"
      ],
      "text/markdown": [
       "4"
      ],
      "text/plain": [
       "[1] 4"
      ]
     },
     "metadata": {},
     "output_type": "display_data"
    }
   ],
   "source": [
    "length(content)"
   ]
  },
  {
   "cell_type": "code",
   "execution_count": 9,
   "metadata": {},
   "outputs": [
    {
     "data": {
      "text/html": [
       "<style>\n",
       ".list-inline {list-style: none; margin:0; padding: 0}\n",
       ".list-inline>li {display: inline-block}\n",
       ".list-inline>li:not(:last-child)::after {content: \"\\00b7\"; padding: 0 .5ex}\n",
       "</style>\n",
       "<ol class=list-inline><li>74</li><li>60</li><li>44</li><li>59</li></ol>\n"
      ],
      "text/latex": [
       "\\begin{enumerate*}\n",
       "\\item 74\n",
       "\\item 60\n",
       "\\item 44\n",
       "\\item 59\n",
       "\\end{enumerate*}\n"
      ],
      "text/markdown": [
       "1. 74\n",
       "2. 60\n",
       "3. 44\n",
       "4. 59\n",
       "\n",
       "\n"
      ],
      "text/plain": [
       "[1] 74 60 44 59"
      ]
     },
     "metadata": {},
     "output_type": "display_data"
    }
   ],
   "source": [
    "nchar(content)"
   ]
  },
  {
   "cell_type": "code",
   "execution_count": 10,
   "metadata": {},
   "outputs": [
    {
     "data": {
      "text/html": [
       "242"
      ],
      "text/latex": [
       "242"
      ],
      "text/markdown": [
       "242"
      ],
      "text/plain": [
       "[1] 242"
      ]
     },
     "metadata": {},
     "output_type": "display_data"
    }
   ],
   "source": [
    "file.size('Du_lieu/license.txt')"
   ]
  },
  {
   "cell_type": "code",
   "execution_count": 13,
   "metadata": {},
   "outputs": [
    {
     "data": {
      "text/html": [
       "<style>\n",
       ".list-inline {list-style: none; margin:0; padding: 0}\n",
       ".list-inline>li {display: inline-block}\n",
       ".list-inline>li:not(:last-child)::after {content: \"\\00b7\"; padding: 0 .5ex}\n",
       "</style>\n",
       "<ol class=list-inline><li>'These'</li><li>'data'</li><li>'files'</li><li>'are'</li><li>'derived'</li><li>'by'</li><li>'splitting'</li><li>'up'</li><li>'the'</li><li>'data'</li><li>'set'</li><li>'downloaded'</li><li>'from:'</li><li>'https://www.ontario.ca/data/ontario-public-schools-enrolment'</li><li>'under'</li><li>'the'</li><li>'Open'</li><li>'Government'</li><li>'License'</li><li>'-'</li><li>'Ontario:'</li><li>'https://www.ontario.ca/page/open-government-licence-ontario'</li></ol>\n"
      ],
      "text/latex": [
       "\\begin{enumerate*}\n",
       "\\item 'These'\n",
       "\\item 'data'\n",
       "\\item 'files'\n",
       "\\item 'are'\n",
       "\\item 'derived'\n",
       "\\item 'by'\n",
       "\\item 'splitting'\n",
       "\\item 'up'\n",
       "\\item 'the'\n",
       "\\item 'data'\n",
       "\\item 'set'\n",
       "\\item 'downloaded'\n",
       "\\item 'from:'\n",
       "\\item 'https://www.ontario.ca/data/ontario-public-schools-enrolment'\n",
       "\\item 'under'\n",
       "\\item 'the'\n",
       "\\item 'Open'\n",
       "\\item 'Government'\n",
       "\\item 'License'\n",
       "\\item '-'\n",
       "\\item 'Ontario:'\n",
       "\\item 'https://www.ontario.ca/page/open-government-licence-ontario'\n",
       "\\end{enumerate*}\n"
      ],
      "text/markdown": [
       "1. 'These'\n",
       "2. 'data'\n",
       "3. 'files'\n",
       "4. 'are'\n",
       "5. 'derived'\n",
       "6. 'by'\n",
       "7. 'splitting'\n",
       "8. 'up'\n",
       "9. 'the'\n",
       "10. 'data'\n",
       "11. 'set'\n",
       "12. 'downloaded'\n",
       "13. 'from:'\n",
       "14. 'https://www.ontario.ca/data/ontario-public-schools-enrolment'\n",
       "15. 'under'\n",
       "16. 'the'\n",
       "17. 'Open'\n",
       "18. 'Government'\n",
       "19. 'License'\n",
       "20. '-'\n",
       "21. 'Ontario:'\n",
       "22. 'https://www.ontario.ca/page/open-government-licence-ontario'\n",
       "\n",
       "\n"
      ],
      "text/plain": [
       " [1] \"These\"                                                       \n",
       " [2] \"data\"                                                        \n",
       " [3] \"files\"                                                       \n",
       " [4] \"are\"                                                         \n",
       " [5] \"derived\"                                                     \n",
       " [6] \"by\"                                                          \n",
       " [7] \"splitting\"                                                   \n",
       " [8] \"up\"                                                          \n",
       " [9] \"the\"                                                         \n",
       "[10] \"data\"                                                        \n",
       "[11] \"set\"                                                         \n",
       "[12] \"downloaded\"                                                  \n",
       "[13] \"from:\"                                                       \n",
       "[14] \"https://www.ontario.ca/data/ontario-public-schools-enrolment\"\n",
       "[15] \"under\"                                                       \n",
       "[16] \"the\"                                                         \n",
       "[17] \"Open\"                                                        \n",
       "[18] \"Government\"                                                  \n",
       "[19] \"License\"                                                     \n",
       "[20] \"-\"                                                           \n",
       "[21] \"Ontario:\"                                                    \n",
       "[22] \"https://www.ontario.ca/page/open-government-licence-ontario\" "
      ]
     },
     "metadata": {},
     "output_type": "display_data"
    }
   ],
   "source": [
    "content_by_word = scan('Du_lieu/license.txt', '')\n",
    "content_by_word"
   ]
  },
  {
   "cell_type": "code",
   "execution_count": 14,
   "metadata": {},
   "outputs": [
    {
     "data": {
      "text/html": [
       "<table class=\"dataframe\">\n",
       "<caption>A data.frame: 7 × 5</caption>\n",
       "<thead>\n",
       "\t<tr><th scope=col>V1</th><th scope=col>V2</th><th scope=col>V3</th><th scope=col>V4</th><th scope=col>V5</th></tr>\n",
       "\t<tr><th scope=col>&lt;chr&gt;</th><th scope=col>&lt;int&gt;</th><th scope=col>&lt;int&gt;</th><th scope=col>&lt;int&gt;</th><th scope=col>&lt;chr&gt;</th></tr>\n",
       "</thead>\n",
       "<tbody>\n",
       "\t<tr><td>Alex    </td><td>25</td><td>177</td><td>57</td><td>F</td></tr>\n",
       "\t<tr><td>Lilly   </td><td>31</td><td>163</td><td>69</td><td>F</td></tr>\n",
       "\t<tr><td>Mark    </td><td>23</td><td>190</td><td>83</td><td>M</td></tr>\n",
       "\t<tr><td>Oliver  </td><td>52</td><td>179</td><td>75</td><td>M</td></tr>\n",
       "\t<tr><td>Martha  </td><td>76</td><td>163</td><td>70</td><td>F</td></tr>\n",
       "\t<tr><td>Lucas   </td><td>49</td><td>183</td><td>83</td><td>M</td></tr>\n",
       "\t<tr><td>Caroline</td><td>26</td><td>164</td><td>53</td><td>F</td></tr>\n",
       "</tbody>\n",
       "</table>\n"
      ],
      "text/latex": [
       "A data.frame: 7 × 5\n",
       "\\begin{tabular}{lllll}\n",
       " V1 & V2 & V3 & V4 & V5\\\\\n",
       " <chr> & <int> & <int> & <int> & <chr>\\\\\n",
       "\\hline\n",
       "\t Alex     & 25 & 177 & 57 & F\\\\\n",
       "\t Lilly    & 31 & 163 & 69 & F\\\\\n",
       "\t Mark     & 23 & 190 & 83 & M\\\\\n",
       "\t Oliver   & 52 & 179 & 75 & M\\\\\n",
       "\t Martha   & 76 & 163 & 70 & F\\\\\n",
       "\t Lucas    & 49 & 183 & 83 & M\\\\\n",
       "\t Caroline & 26 & 164 & 53 & F\\\\\n",
       "\\end{tabular}\n"
      ],
      "text/markdown": [
       "\n",
       "A data.frame: 7 × 5\n",
       "\n",
       "| V1 &lt;chr&gt; | V2 &lt;int&gt; | V3 &lt;int&gt; | V4 &lt;int&gt; | V5 &lt;chr&gt; |\n",
       "|---|---|---|---|---|\n",
       "| Alex     | 25 | 177 | 57 | F |\n",
       "| Lilly    | 31 | 163 | 69 | F |\n",
       "| Mark     | 23 | 190 | 83 | M |\n",
       "| Oliver   | 52 | 179 | 75 | M |\n",
       "| Martha   | 76 | 163 | 70 | F |\n",
       "| Lucas    | 49 | 183 | 83 | M |\n",
       "| Caroline | 26 | 164 | 53 | F |\n",
       "\n"
      ],
      "text/plain": [
       "  V1       V2 V3  V4 V5\n",
       "1 Alex     25 177 57 F \n",
       "2 Lilly    31 163 69 F \n",
       "3 Mark     23 190 83 M \n",
       "4 Oliver   52 179 75 M \n",
       "5 Martha   76 163 70 F \n",
       "6 Lucas    49 183 83 M \n",
       "7 Caroline 26 164 53 F "
      ]
     },
     "metadata": {},
     "output_type": "display_data"
    }
   ],
   "source": [
    "df = read.table('Du_lieu/Table0.txt')\n",
    "df"
   ]
  },
  {
   "cell_type": "code",
   "execution_count": 15,
   "metadata": {},
   "outputs": [
    {
     "data": {
      "text/html": [
       "'data.frame'"
      ],
      "text/latex": [
       "'data.frame'"
      ],
      "text/markdown": [
       "'data.frame'"
      ],
      "text/plain": [
       "[1] \"data.frame\""
      ]
     },
     "metadata": {},
     "output_type": "display_data"
    }
   ],
   "source": [
    "class(df)"
   ]
  },
  {
   "cell_type": "code",
   "execution_count": 16,
   "metadata": {
    "scrolled": true
   },
   "outputs": [
    {
     "data": {
      "text/html": [
       "'list'"
      ],
      "text/latex": [
       "'list'"
      ],
      "text/markdown": [
       "'list'"
      ],
      "text/plain": [
       "[1] \"list\""
      ]
     },
     "metadata": {},
     "output_type": "display_data"
    }
   ],
   "source": [
    "typeof(df)"
   ]
  },
  {
   "cell_type": "code",
   "execution_count": 19,
   "metadata": {},
   "outputs": [
    {
     "name": "stdout",
     "output_type": "stream",
     "text": [
      "[1] \"Hello and welcome\" \"Hello and welcome\" \"Hello and welcome\"\n",
      "[4] \"Hello and welcome\"\n"
     ]
    }
   ],
   "source": [
    "content_new = 'Hello and welcome'\n",
    "file_name = file(description='Du_lieu/text.txt', open='a', encoding='UTF-8')\n",
    "write(content_new, file=file_name)\n",
    "content2 = readLines('Du_lieu/text.txt')\n",
    "print(content2)"
   ]
  },
  {
   "cell_type": "code",
   "execution_count": 22,
   "metadata": {},
   "outputs": [],
   "source": [
    "write.table(df, file='Du_lieu/table0_new.txt', sep='\\t')"
   ]
  },
  {
   "cell_type": "code",
   "execution_count": 23,
   "metadata": {},
   "outputs": [
    {
     "data": {
      "text/html": [
       "<style>\n",
       ".list-inline {list-style: none; margin:0; padding: 0}\n",
       ".list-inline>li {display: inline-block}\n",
       ".list-inline>li:not(:last-child)::after {content: \"\\00b7\"; padding: 0 .5ex}\n",
       "</style>\n",
       "<ol class=list-inline><li>'\"V1\"\\t\"V2\"\\t\"V3\"\\t\"V4\"\\t\"V5\"'</li><li>'\"1\"\\t\"Alex\"\\t25\\t177\\t57\\t\"F\"'</li><li>'\"2\"\\t\"Lilly\"\\t31\\t163\\t69\\t\"F\"'</li><li>'\"3\"\\t\"Mark\"\\t23\\t190\\t83\\t\"M\"'</li><li>'\"4\"\\t\"Oliver\"\\t52\\t179\\t75\\t\"M\"'</li><li>'\"5\"\\t\"Martha\"\\t76\\t163\\t70\\t\"F\"'</li><li>'\"6\"\\t\"Lucas\"\\t49\\t183\\t83\\t\"M\"'</li><li>'\"7\"\\t\"Caroline\"\\t26\\t164\\t53\\t\"F\"'</li></ol>\n"
      ],
      "text/latex": [
       "\\begin{enumerate*}\n",
       "\\item '\"V1\"\\textbackslash{}t\"V2\"\\textbackslash{}t\"V3\"\\textbackslash{}t\"V4\"\\textbackslash{}t\"V5\"'\n",
       "\\item '\"1\"\\textbackslash{}t\"Alex\"\\textbackslash{}t25\\textbackslash{}t177\\textbackslash{}t57\\textbackslash{}t\"F\"'\n",
       "\\item '\"2\"\\textbackslash{}t\"Lilly\"\\textbackslash{}t31\\textbackslash{}t163\\textbackslash{}t69\\textbackslash{}t\"F\"'\n",
       "\\item '\"3\"\\textbackslash{}t\"Mark\"\\textbackslash{}t23\\textbackslash{}t190\\textbackslash{}t83\\textbackslash{}t\"M\"'\n",
       "\\item '\"4\"\\textbackslash{}t\"Oliver\"\\textbackslash{}t52\\textbackslash{}t179\\textbackslash{}t75\\textbackslash{}t\"M\"'\n",
       "\\item '\"5\"\\textbackslash{}t\"Martha\"\\textbackslash{}t76\\textbackslash{}t163\\textbackslash{}t70\\textbackslash{}t\"F\"'\n",
       "\\item '\"6\"\\textbackslash{}t\"Lucas\"\\textbackslash{}t49\\textbackslash{}t183\\textbackslash{}t83\\textbackslash{}t\"M\"'\n",
       "\\item '\"7\"\\textbackslash{}t\"Caroline\"\\textbackslash{}t26\\textbackslash{}t164\\textbackslash{}t53\\textbackslash{}t\"F\"'\n",
       "\\end{enumerate*}\n"
      ],
      "text/markdown": [
       "1. '\"V1\"\\t\"V2\"\\t\"V3\"\\t\"V4\"\\t\"V5\"'\n",
       "2. '\"1\"\\t\"Alex\"\\t25\\t177\\t57\\t\"F\"'\n",
       "3. '\"2\"\\t\"Lilly\"\\t31\\t163\\t69\\t\"F\"'\n",
       "4. '\"3\"\\t\"Mark\"\\t23\\t190\\t83\\t\"M\"'\n",
       "5. '\"4\"\\t\"Oliver\"\\t52\\t179\\t75\\t\"M\"'\n",
       "6. '\"5\"\\t\"Martha\"\\t76\\t163\\t70\\t\"F\"'\n",
       "7. '\"6\"\\t\"Lucas\"\\t49\\t183\\t83\\t\"M\"'\n",
       "8. '\"7\"\\t\"Caroline\"\\t26\\t164\\t53\\t\"F\"'\n",
       "\n",
       "\n"
      ],
      "text/plain": [
       "[1] \"\\\"V1\\\"\\t\\\"V2\\\"\\t\\\"V3\\\"\\t\\\"V4\\\"\\t\\\"V5\\\"\" \n",
       "[2] \"\\\"1\\\"\\t\\\"Alex\\\"\\t25\\t177\\t57\\t\\\"F\\\"\"    \n",
       "[3] \"\\\"2\\\"\\t\\\"Lilly\\\"\\t31\\t163\\t69\\t\\\"F\\\"\"   \n",
       "[4] \"\\\"3\\\"\\t\\\"Mark\\\"\\t23\\t190\\t83\\t\\\"M\\\"\"    \n",
       "[5] \"\\\"4\\\"\\t\\\"Oliver\\\"\\t52\\t179\\t75\\t\\\"M\\\"\"  \n",
       "[6] \"\\\"5\\\"\\t\\\"Martha\\\"\\t76\\t163\\t70\\t\\\"F\\\"\"  \n",
       "[7] \"\\\"6\\\"\\t\\\"Lucas\\\"\\t49\\t183\\t83\\t\\\"M\\\"\"   \n",
       "[8] \"\\\"7\\\"\\t\\\"Caroline\\\"\\t26\\t164\\t53\\t\\\"F\\\"\""
      ]
     },
     "metadata": {},
     "output_type": "display_data"
    }
   ],
   "source": [
    "content3 = readLines('Du_lieu/table0_new.txt')\n",
    "content3"
   ]
  },
  {
   "cell_type": "markdown",
   "metadata": {},
   "source": [
    "## CSV file"
   ]
  },
  {
   "cell_type": "code",
   "execution_count": 1,
   "metadata": {},
   "outputs": [
    {
     "data": {
      "text/html": [
       "<table class=\"dataframe\">\n",
       "<caption>A data.frame: 8 × 5</caption>\n",
       "<thead>\n",
       "\t<tr><th scope=col>id</th><th scope=col>name</th><th scope=col>salary</th><th scope=col>start_date</th><th scope=col>dept</th></tr>\n",
       "\t<tr><th scope=col>&lt;int&gt;</th><th scope=col>&lt;chr&gt;</th><th scope=col>&lt;dbl&gt;</th><th scope=col>&lt;chr&gt;</th><th scope=col>&lt;chr&gt;</th></tr>\n",
       "</thead>\n",
       "<tbody>\n",
       "\t<tr><td> 1</td><td>Rick    </td><td>623.30</td><td>2012-01-01</td><td>IT        </td></tr>\n",
       "\t<tr><td> 2</td><td>Dan     </td><td>515.20</td><td>2013-09-23</td><td>Operations</td></tr>\n",
       "\t<tr><td> 3</td><td>Michelle</td><td>611.00</td><td>2014-11-15</td><td>IT        </td></tr>\n",
       "\t<tr><td> 4</td><td>Ryan    </td><td>729.00</td><td>2014-05-11</td><td>HR        </td></tr>\n",
       "\t<tr><td>NA</td><td>Gary    </td><td>843.25</td><td>2015-03-27</td><td>Finance   </td></tr>\n",
       "\t<tr><td> 6</td><td>Nina    </td><td>578.00</td><td>2013-05-21</td><td>IT        </td></tr>\n",
       "\t<tr><td> 7</td><td>Simon   </td><td>632.80</td><td>2013-07-30</td><td>Operations</td></tr>\n",
       "\t<tr><td> 8</td><td>Guru    </td><td>722.50</td><td>2014-06-17</td><td>Finance   </td></tr>\n",
       "</tbody>\n",
       "</table>\n"
      ],
      "text/latex": [
       "A data.frame: 8 × 5\n",
       "\\begin{tabular}{lllll}\n",
       " id & name & salary & start\\_date & dept\\\\\n",
       " <int> & <chr> & <dbl> & <chr> & <chr>\\\\\n",
       "\\hline\n",
       "\t  1 & Rick     & 623.30 & 2012-01-01 & IT        \\\\\n",
       "\t  2 & Dan      & 515.20 & 2013-09-23 & Operations\\\\\n",
       "\t  3 & Michelle & 611.00 & 2014-11-15 & IT        \\\\\n",
       "\t  4 & Ryan     & 729.00 & 2014-05-11 & HR        \\\\\n",
       "\t NA & Gary     & 843.25 & 2015-03-27 & Finance   \\\\\n",
       "\t  6 & Nina     & 578.00 & 2013-05-21 & IT        \\\\\n",
       "\t  7 & Simon    & 632.80 & 2013-07-30 & Operations\\\\\n",
       "\t  8 & Guru     & 722.50 & 2014-06-17 & Finance   \\\\\n",
       "\\end{tabular}\n"
      ],
      "text/markdown": [
       "\n",
       "A data.frame: 8 × 5\n",
       "\n",
       "| id &lt;int&gt; | name &lt;chr&gt; | salary &lt;dbl&gt; | start_date &lt;chr&gt; | dept &lt;chr&gt; |\n",
       "|---|---|---|---|---|\n",
       "|  1 | Rick     | 623.30 | 2012-01-01 | IT         |\n",
       "|  2 | Dan      | 515.20 | 2013-09-23 | Operations |\n",
       "|  3 | Michelle | 611.00 | 2014-11-15 | IT         |\n",
       "|  4 | Ryan     | 729.00 | 2014-05-11 | HR         |\n",
       "| NA | Gary     | 843.25 | 2015-03-27 | Finance    |\n",
       "|  6 | Nina     | 578.00 | 2013-05-21 | IT         |\n",
       "|  7 | Simon    | 632.80 | 2013-07-30 | Operations |\n",
       "|  8 | Guru     | 722.50 | 2014-06-17 | Finance    |\n",
       "\n"
      ],
      "text/plain": [
       "  id name     salary start_date dept      \n",
       "1  1 Rick     623.30 2012-01-01 IT        \n",
       "2  2 Dan      515.20 2013-09-23 Operations\n",
       "3  3 Michelle 611.00 2014-11-15 IT        \n",
       "4  4 Ryan     729.00 2014-05-11 HR        \n",
       "5 NA Gary     843.25 2015-03-27 Finance   \n",
       "6  6 Nina     578.00 2013-05-21 IT        \n",
       "7  7 Simon    632.80 2013-07-30 Operations\n",
       "8  8 Guru     722.50 2014-06-17 Finance   "
      ]
     },
     "metadata": {},
     "output_type": "display_data"
    }
   ],
   "source": [
    "data = read.csv('Du_lieu/emp.csv')\n",
    "data"
   ]
  },
  {
   "cell_type": "code",
   "execution_count": 2,
   "metadata": {},
   "outputs": [
    {
     "data": {
      "text/html": [
       "'data.frame'"
      ],
      "text/latex": [
       "'data.frame'"
      ],
      "text/markdown": [
       "'data.frame'"
      ],
      "text/plain": [
       "[1] \"data.frame\""
      ]
     },
     "metadata": {},
     "output_type": "display_data"
    }
   ],
   "source": [
    "class(data)"
   ]
  },
  {
   "cell_type": "code",
   "execution_count": 3,
   "metadata": {},
   "outputs": [
    {
     "data": {
      "text/html": [
       "TRUE"
      ],
      "text/latex": [
       "TRUE"
      ],
      "text/markdown": [
       "TRUE"
      ],
      "text/plain": [
       "[1] TRUE"
      ]
     },
     "metadata": {},
     "output_type": "display_data"
    }
   ],
   "source": [
    "is.data.frame(data)"
   ]
  },
  {
   "cell_type": "code",
   "execution_count": 4,
   "metadata": {},
   "outputs": [
    {
     "data": {
      "text/html": [
       "5"
      ],
      "text/latex": [
       "5"
      ],
      "text/markdown": [
       "5"
      ],
      "text/plain": [
       "[1] 5"
      ]
     },
     "metadata": {},
     "output_type": "display_data"
    }
   ],
   "source": [
    "ncol(data)"
   ]
  },
  {
   "cell_type": "code",
   "execution_count": 5,
   "metadata": {},
   "outputs": [
    {
     "data": {
      "text/html": [
       "8"
      ],
      "text/latex": [
       "8"
      ],
      "text/markdown": [
       "8"
      ],
      "text/plain": [
       "[1] 8"
      ]
     },
     "metadata": {},
     "output_type": "display_data"
    }
   ],
   "source": [
    "nrow(data)"
   ]
  },
  {
   "cell_type": "code",
   "execution_count": 7,
   "metadata": {},
   "outputs": [
    {
     "data": {
      "text/html": [
       "<style>\n",
       ".list-inline {list-style: none; margin:0; padding: 0}\n",
       ".list-inline>li {display: inline-block}\n",
       ".list-inline>li:not(:last-child)::after {content: \"\\00b7\"; padding: 0 .5ex}\n",
       "</style>\n",
       "<ol class=list-inline><li>8</li><li>5</li></ol>\n"
      ],
      "text/latex": [
       "\\begin{enumerate*}\n",
       "\\item 8\n",
       "\\item 5\n",
       "\\end{enumerate*}\n"
      ],
      "text/markdown": [
       "1. 8\n",
       "2. 5\n",
       "\n",
       "\n"
      ],
      "text/plain": [
       "[1] 8 5"
      ]
     },
     "metadata": {},
     "output_type": "display_data"
    }
   ],
   "source": [
    "dim(data)"
   ]
  },
  {
   "cell_type": "code",
   "execution_count": 8,
   "metadata": {},
   "outputs": [
    {
     "name": "stdout",
     "output_type": "stream",
     "text": [
      "[1] \"Max salary: 843.25\"\n",
      "[1] \"Mean salary: 656.88125\"\n",
      "[1] \"People have max salary\"\n",
      "  id name salary start_date    dept\n",
      "5 NA Gary 843.25 2015-03-27 Finance\n"
     ]
    }
   ],
   "source": [
    "print(paste('Max salary:', max(data$salary)))\n",
    "print(paste('Mean salary:', mean(data$salary)))\n",
    "print('People have max salary')\n",
    "print(subset(data, salary == max(data$salary)))"
   ]
  },
  {
   "cell_type": "code",
   "execution_count": 10,
   "metadata": {},
   "outputs": [
    {
     "data": {
      "text/html": [
       "<table class=\"dataframe\">\n",
       "<caption>A data.frame: 3 × 5</caption>\n",
       "<thead>\n",
       "\t<tr><th scope=col>id</th><th scope=col>name</th><th scope=col>salary</th><th scope=col>start_date</th><th scope=col>dept</th></tr>\n",
       "\t<tr><th scope=col>&lt;int&gt;</th><th scope=col>&lt;chr&gt;</th><th scope=col>&lt;dbl&gt;</th><th scope=col>&lt;chr&gt;</th><th scope=col>&lt;chr&gt;</th></tr>\n",
       "</thead>\n",
       "<tbody>\n",
       "\t<tr><td>1</td><td>Rick    </td><td>623.3</td><td>2012-01-01</td><td>IT</td></tr>\n",
       "\t<tr><td>3</td><td>Michelle</td><td>611.0</td><td>2014-11-15</td><td>IT</td></tr>\n",
       "\t<tr><td>6</td><td>Nina    </td><td>578.0</td><td>2013-05-21</td><td>IT</td></tr>\n",
       "</tbody>\n",
       "</table>\n"
      ],
      "text/latex": [
       "A data.frame: 3 × 5\n",
       "\\begin{tabular}{lllll}\n",
       " id & name & salary & start\\_date & dept\\\\\n",
       " <int> & <chr> & <dbl> & <chr> & <chr>\\\\\n",
       "\\hline\n",
       "\t 1 & Rick     & 623.3 & 2012-01-01 & IT\\\\\n",
       "\t 3 & Michelle & 611.0 & 2014-11-15 & IT\\\\\n",
       "\t 6 & Nina     & 578.0 & 2013-05-21 & IT\\\\\n",
       "\\end{tabular}\n"
      ],
      "text/markdown": [
       "\n",
       "A data.frame: 3 × 5\n",
       "\n",
       "| id &lt;int&gt; | name &lt;chr&gt; | salary &lt;dbl&gt; | start_date &lt;chr&gt; | dept &lt;chr&gt; |\n",
       "|---|---|---|---|---|\n",
       "| 1 | Rick     | 623.3 | 2012-01-01 | IT |\n",
       "| 3 | Michelle | 611.0 | 2014-11-15 | IT |\n",
       "| 6 | Nina     | 578.0 | 2013-05-21 | IT |\n",
       "\n"
      ],
      "text/plain": [
       "  id name     salary start_date dept\n",
       "1 1  Rick     623.3  2012-01-01 IT  \n",
       "2 3  Michelle 611.0  2014-11-15 IT  \n",
       "3 6  Nina     578.0  2013-05-21 IT  "
      ]
     },
     "metadata": {},
     "output_type": "display_data"
    }
   ],
   "source": [
    "it_emps = subset(data, dept == 'IT')\n",
    "write.csv(it_emps, 'Du_lieu/it_emps_new.csv', row.names=FALSE)\n",
    "new_data = read.csv('Du_lieu/it_emps_new.csv')\n",
    "new_data"
   ]
  },
  {
   "cell_type": "markdown",
   "metadata": {},
   "source": [
    "## Excel file"
   ]
  },
  {
   "cell_type": "code",
   "execution_count": 11,
   "metadata": {},
   "outputs": [
    {
     "name": "stderr",
     "output_type": "stream",
     "text": [
      "also installing the dependencies ‘rJava’, ‘xlsxjars’\n",
      "\n",
      "\n"
     ]
    },
    {
     "name": "stdout",
     "output_type": "stream",
     "text": [
      "\n",
      "The downloaded binary packages are in\n",
      "\t/var/folders/09/wkf60t9d5p749571dbkjv86h0000gn/T//Rtmp0rVABf/downloaded_packages\n"
     ]
    }
   ],
   "source": [
    "install.packages('xlsx')"
   ]
  },
  {
   "cell_type": "code",
   "execution_count": 12,
   "metadata": {},
   "outputs": [],
   "source": [
    "library(xlsx)"
   ]
  },
  {
   "cell_type": "code",
   "execution_count": 14,
   "metadata": {},
   "outputs": [
    {
     "data": {
      "text/html": [
       "<table class=\"dataframe\">\n",
       "<caption>A data.frame: 8 × 5</caption>\n",
       "<thead>\n",
       "\t<tr><th scope=col>id</th><th scope=col>name</th><th scope=col>salary</th><th scope=col>start_date</th><th scope=col>dept</th></tr>\n",
       "\t<tr><th scope=col>&lt;chr&gt;</th><th scope=col>&lt;chr&gt;</th><th scope=col>&lt;dbl&gt;</th><th scope=col>&lt;date&gt;</th><th scope=col>&lt;chr&gt;</th></tr>\n",
       "</thead>\n",
       "<tbody>\n",
       "\t<tr><td>1</td><td>Rick    </td><td>623.30</td><td>2012-01-01</td><td>IT        </td></tr>\n",
       "\t<tr><td>2</td><td>Dan     </td><td>515.20</td><td>2013-09-23</td><td>Operations</td></tr>\n",
       "\t<tr><td>3</td><td>Michelle</td><td>611.00</td><td>2014-11-15</td><td>IT        </td></tr>\n",
       "\t<tr><td>4</td><td>Ryan    </td><td>729.00</td><td>2014-05-11</td><td>HR        </td></tr>\n",
       "\t<tr><td> </td><td>Gary    </td><td>843.25</td><td>2015-03-27</td><td>Finance   </td></tr>\n",
       "\t<tr><td>6</td><td>Nina    </td><td>578.00</td><td>2013-05-21</td><td>IT        </td></tr>\n",
       "\t<tr><td>7</td><td>Simon   </td><td>632.80</td><td>2013-07-30</td><td>Operations</td></tr>\n",
       "\t<tr><td>8</td><td>Guru    </td><td>722.50</td><td>2014-06-17</td><td>Finance   </td></tr>\n",
       "</tbody>\n",
       "</table>\n"
      ],
      "text/latex": [
       "A data.frame: 8 × 5\n",
       "\\begin{tabular}{lllll}\n",
       " id & name & salary & start\\_date & dept\\\\\n",
       " <chr> & <chr> & <dbl> & <date> & <chr>\\\\\n",
       "\\hline\n",
       "\t 1 & Rick     & 623.30 & 2012-01-01 & IT        \\\\\n",
       "\t 2 & Dan      & 515.20 & 2013-09-23 & Operations\\\\\n",
       "\t 3 & Michelle & 611.00 & 2014-11-15 & IT        \\\\\n",
       "\t 4 & Ryan     & 729.00 & 2014-05-11 & HR        \\\\\n",
       "\t   & Gary     & 843.25 & 2015-03-27 & Finance   \\\\\n",
       "\t 6 & Nina     & 578.00 & 2013-05-21 & IT        \\\\\n",
       "\t 7 & Simon    & 632.80 & 2013-07-30 & Operations\\\\\n",
       "\t 8 & Guru     & 722.50 & 2014-06-17 & Finance   \\\\\n",
       "\\end{tabular}\n"
      ],
      "text/markdown": [
       "\n",
       "A data.frame: 8 × 5\n",
       "\n",
       "| id &lt;chr&gt; | name &lt;chr&gt; | salary &lt;dbl&gt; | start_date &lt;date&gt; | dept &lt;chr&gt; |\n",
       "|---|---|---|---|---|\n",
       "| 1 | Rick     | 623.30 | 2012-01-01 | IT         |\n",
       "| 2 | Dan      | 515.20 | 2013-09-23 | Operations |\n",
       "| 3 | Michelle | 611.00 | 2014-11-15 | IT         |\n",
       "| 4 | Ryan     | 729.00 | 2014-05-11 | HR         |\n",
       "| <!----> | Gary     | 843.25 | 2015-03-27 | Finance    |\n",
       "| 6 | Nina     | 578.00 | 2013-05-21 | IT         |\n",
       "| 7 | Simon    | 632.80 | 2013-07-30 | Operations |\n",
       "| 8 | Guru     | 722.50 | 2014-06-17 | Finance    |\n",
       "\n"
      ],
      "text/plain": [
       "  id name     salary start_date dept      \n",
       "1 1  Rick     623.30 2012-01-01 IT        \n",
       "2 2  Dan      515.20 2013-09-23 Operations\n",
       "3 3  Michelle 611.00 2014-11-15 IT        \n",
       "4 4  Ryan     729.00 2014-05-11 HR        \n",
       "5    Gary     843.25 2015-03-27 Finance   \n",
       "6 6  Nina     578.00 2013-05-21 IT        \n",
       "7 7  Simon    632.80 2013-07-30 Operations\n",
       "8 8  Guru     722.50 2014-06-17 Finance   "
      ]
     },
     "metadata": {},
     "output_type": "display_data"
    }
   ],
   "source": [
    "data = read.xlsx('Du_lieu/emp_data.xlsx', sheetIndex=1)\n",
    "data"
   ]
  },
  {
   "cell_type": "code",
   "execution_count": 15,
   "metadata": {},
   "outputs": [
    {
     "data": {
      "text/html": [
       "<table class=\"dataframe\">\n",
       "<caption>A data.frame: 8 × 2</caption>\n",
       "<thead>\n",
       "\t<tr><th scope=col>name</th><th scope=col>city</th></tr>\n",
       "\t<tr><th scope=col>&lt;chr&gt;</th><th scope=col>&lt;chr&gt;</th></tr>\n",
       "</thead>\n",
       "<tbody>\n",
       "\t<tr><td>Rick    </td><td>Seattle</td></tr>\n",
       "\t<tr><td>Dan     </td><td>Tampa  </td></tr>\n",
       "\t<tr><td>Michelle</td><td>Chicago</td></tr>\n",
       "\t<tr><td>Ryan    </td><td>Seattle</td></tr>\n",
       "\t<tr><td>Gary    </td><td>Houston</td></tr>\n",
       "\t<tr><td>Nina    </td><td>Boston </td></tr>\n",
       "\t<tr><td>Simon   </td><td>Mumbai </td></tr>\n",
       "\t<tr><td>Guru    </td><td>Dallas </td></tr>\n",
       "</tbody>\n",
       "</table>\n"
      ],
      "text/latex": [
       "A data.frame: 8 × 2\n",
       "\\begin{tabular}{ll}\n",
       " name & city\\\\\n",
       " <chr> & <chr>\\\\\n",
       "\\hline\n",
       "\t Rick     & Seattle\\\\\n",
       "\t Dan      & Tampa  \\\\\n",
       "\t Michelle & Chicago\\\\\n",
       "\t Ryan     & Seattle\\\\\n",
       "\t Gary     & Houston\\\\\n",
       "\t Nina     & Boston \\\\\n",
       "\t Simon    & Mumbai \\\\\n",
       "\t Guru     & Dallas \\\\\n",
       "\\end{tabular}\n"
      ],
      "text/markdown": [
       "\n",
       "A data.frame: 8 × 2\n",
       "\n",
       "| name &lt;chr&gt; | city &lt;chr&gt; |\n",
       "|---|---|\n",
       "| Rick     | Seattle |\n",
       "| Dan      | Tampa   |\n",
       "| Michelle | Chicago |\n",
       "| Ryan     | Seattle |\n",
       "| Gary     | Houston |\n",
       "| Nina     | Boston  |\n",
       "| Simon    | Mumbai  |\n",
       "| Guru     | Dallas  |\n",
       "\n"
      ],
      "text/plain": [
       "  name     city   \n",
       "1 Rick     Seattle\n",
       "2 Dan      Tampa  \n",
       "3 Michelle Chicago\n",
       "4 Ryan     Seattle\n",
       "5 Gary     Houston\n",
       "6 Nina     Boston \n",
       "7 Simon    Mumbai \n",
       "8 Guru     Dallas "
      ]
     },
     "metadata": {},
     "output_type": "display_data"
    }
   ],
   "source": [
    "data = read.xlsx('Du_lieu/emp_data.xlsx', sheetName='city')\n",
    "data"
   ]
  },
  {
   "cell_type": "code",
   "execution_count": 16,
   "metadata": {},
   "outputs": [
    {
     "data": {
      "text/html": [
       "<table class=\"dataframe\">\n",
       "<caption>A data.frame: 8 × 3</caption>\n",
       "<thead>\n",
       "\t<tr><th scope=col>NA.</th><th scope=col>name</th><th scope=col>city</th></tr>\n",
       "\t<tr><th scope=col>&lt;chr&gt;</th><th scope=col>&lt;chr&gt;</th><th scope=col>&lt;chr&gt;</th></tr>\n",
       "</thead>\n",
       "<tbody>\n",
       "\t<tr><td>1</td><td>Rick    </td><td>Seattle</td></tr>\n",
       "\t<tr><td>2</td><td>Dan     </td><td>Tampa  </td></tr>\n",
       "\t<tr><td>3</td><td>Michelle</td><td>Chicago</td></tr>\n",
       "\t<tr><td>4</td><td>Ryan    </td><td>Seattle</td></tr>\n",
       "\t<tr><td>5</td><td>Gary    </td><td>Houston</td></tr>\n",
       "\t<tr><td>6</td><td>Nina    </td><td>Boston </td></tr>\n",
       "\t<tr><td>7</td><td>Simon   </td><td>Mumbai </td></tr>\n",
       "\t<tr><td>8</td><td>Guru    </td><td>Dallas </td></tr>\n",
       "</tbody>\n",
       "</table>\n"
      ],
      "text/latex": [
       "A data.frame: 8 × 3\n",
       "\\begin{tabular}{lll}\n",
       " NA. & name & city\\\\\n",
       " <chr> & <chr> & <chr>\\\\\n",
       "\\hline\n",
       "\t 1 & Rick     & Seattle\\\\\n",
       "\t 2 & Dan      & Tampa  \\\\\n",
       "\t 3 & Michelle & Chicago\\\\\n",
       "\t 4 & Ryan     & Seattle\\\\\n",
       "\t 5 & Gary     & Houston\\\\\n",
       "\t 6 & Nina     & Boston \\\\\n",
       "\t 7 & Simon    & Mumbai \\\\\n",
       "\t 8 & Guru     & Dallas \\\\\n",
       "\\end{tabular}\n"
      ],
      "text/markdown": [
       "\n",
       "A data.frame: 8 × 3\n",
       "\n",
       "| NA. &lt;chr&gt; | name &lt;chr&gt; | city &lt;chr&gt; |\n",
       "|---|---|---|\n",
       "| 1 | Rick     | Seattle |\n",
       "| 2 | Dan      | Tampa   |\n",
       "| 3 | Michelle | Chicago |\n",
       "| 4 | Ryan     | Seattle |\n",
       "| 5 | Gary     | Houston |\n",
       "| 6 | Nina     | Boston  |\n",
       "| 7 | Simon    | Mumbai  |\n",
       "| 8 | Guru     | Dallas  |\n",
       "\n"
      ],
      "text/plain": [
       "  NA. name     city   \n",
       "1 1   Rick     Seattle\n",
       "2 2   Dan      Tampa  \n",
       "3 3   Michelle Chicago\n",
       "4 4   Ryan     Seattle\n",
       "5 5   Gary     Houston\n",
       "6 6   Nina     Boston \n",
       "7 7   Simon    Mumbai \n",
       "8 8   Guru     Dallas "
      ]
     },
     "metadata": {},
     "output_type": "display_data"
    }
   ],
   "source": [
    "write.xlsx(data, file = 'Du_lieu/emp_data_city.xlsx', sheetName='Sheet1')\n",
    "new_data = read.xlsx('Du_lieu/emp_data_city.xlsx', sheetName='Sheet1')\n",
    "new_data"
   ]
  },
  {
   "cell_type": "code",
   "execution_count": null,
   "metadata": {},
   "outputs": [],
   "source": []
  }
 ],
 "metadata": {
  "kernelspec": {
   "display_name": "R",
   "language": "R",
   "name": "ir"
  },
  "language_info": {
   "codemirror_mode": "r",
   "file_extension": ".r",
   "mimetype": "text/x-r-source",
   "name": "R",
   "pygments_lexer": "r",
   "version": "4.1.0"
  }
 },
 "nbformat": 4,
 "nbformat_minor": 4
}
