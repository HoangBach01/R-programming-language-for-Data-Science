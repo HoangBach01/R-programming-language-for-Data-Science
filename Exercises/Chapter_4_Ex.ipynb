{
 "cells": [
  {
   "cell_type": "markdown",
   "metadata": {},
   "source": [
    "## Ex 3"
   ]
  },
  {
   "cell_type": "code",
   "execution_count": 6,
   "metadata": {},
   "outputs": [
    {
     "name": "stdout",
     "output_type": "stream",
     "text": [
      "Input n: 5\n",
      "\n",
      " 5 x 1 = 5 \n",
      " 5 x 2 = 10 \n",
      " 5 x 3 = 15 \n",
      " 5 x 4 = 20 \n",
      " 5 x 5 = 25 \n",
      " 5 x 6 = 30 \n",
      " 5 x 7 = 35 \n",
      " 5 x 8 = 40 \n",
      " 5 x 9 = 45 \n"
     ]
    }
   ],
   "source": [
    "n = as.integer(readline(prompt = 'Input n: '))\n",
    "s = '\\n'\n",
    "for (i in c(1:9)) {\n",
    "    s = paste(s, n, 'x', i, '=', n*i, '\\n')\n",
    "}\n",
    "cat(s)"
   ]
  },
  {
   "cell_type": "code",
   "execution_count": 5,
   "metadata": {},
   "outputs": [
    {
     "name": "stdout",
     "output_type": "stream",
     "text": [
      "Input start: 3\n",
      "Input stop: 6\n",
      "\n",
      " 3 x 1 = 3 \t 4 x 1 = 4 \t 5 x 1 = 5 \t 6 x 1 = 6 \t \n",
      " 3 x 2 = 6 \t 4 x 2 = 8 \t 5 x 2 = 10 \t 6 x 2 = 12 \t \n",
      " 3 x 3 = 9 \t 4 x 3 = 12 \t 5 x 3 = 15 \t 6 x 3 = 18 \t \n",
      " 3 x 4 = 12 \t 4 x 4 = 16 \t 5 x 4 = 20 \t 6 x 4 = 24 \t \n",
      " 3 x 5 = 15 \t 4 x 5 = 20 \t 5 x 5 = 25 \t 6 x 5 = 30 \t \n",
      " 3 x 6 = 18 \t 4 x 6 = 24 \t 5 x 6 = 30 \t 6 x 6 = 36 \t \n",
      " 3 x 7 = 21 \t 4 x 7 = 28 \t 5 x 7 = 35 \t 6 x 7 = 42 \t \n",
      " 3 x 8 = 24 \t 4 x 8 = 32 \t 5 x 8 = 40 \t 6 x 8 = 48 \t \n",
      " 3 x 9 = 27 \t 4 x 9 = 36 \t 5 x 9 = 45 \t 6 x 9 = 54 \t \n"
     ]
    }
   ],
   "source": [
    "start = as.integer(readline(prompt = 'Input start: '))\n",
    "stop = as.integer(readline(prompt = 'Input stop: '))\n",
    "s = '\\n'\n",
    "for (i in c(1:9)) {\n",
    "    for (n in c(start:stop)) {\n",
    "        s = paste(s, n, 'x', i, '=', n*i, '\\t')\n",
    "    }\n",
    "    s = paste(s, '\\n')\n",
    "}\n",
    "cat(s)"
   ]
  },
  {
   "cell_type": "markdown",
   "metadata": {},
   "source": [
    "## Ex5"
   ]
  },
  {
   "cell_type": "code",
   "execution_count": 50,
   "metadata": {
    "scrolled": true
   },
   "outputs": [
    {
     "name": "stdout",
     "output_type": "stream",
     "text": [
      "Your guess number (1->10) is: 5\n"
     ]
    },
    {
     "name": "stderr",
     "output_type": "stream",
     "text": [
      "Guess number > Target\n",
      "\n"
     ]
    },
    {
     "name": "stdout",
     "output_type": "stream",
     "text": [
      "Your guess number (1->10) is: 4\n"
     ]
    },
    {
     "name": "stderr",
     "output_type": "stream",
     "text": [
      "Guess number > Target\n",
      "\n"
     ]
    },
    {
     "name": "stdout",
     "output_type": "stream",
     "text": [
      "Your guess number (1->10) is: 3\n"
     ]
    },
    {
     "name": "stderr",
     "output_type": "stream",
     "text": [
      "Guess number > Target\n",
      "\n",
      "You lose!\n",
      "\n"
     ]
    },
    {
     "name": "stdout",
     "output_type": "stream",
     "text": [
      "Do you want new game (1 or 0): 1\n",
      "Your guess number (1->10) is: 5\n"
     ]
    },
    {
     "name": "stderr",
     "output_type": "stream",
     "text": [
      "Guess number > Target\n",
      "\n"
     ]
    },
    {
     "name": "stdout",
     "output_type": "stream",
     "text": [
      "Your guess number (1->10) is: 6\n"
     ]
    },
    {
     "name": "stderr",
     "output_type": "stream",
     "text": [
      "Guess number > Target\n",
      "\n"
     ]
    },
    {
     "name": "stdout",
     "output_type": "stream",
     "text": [
      "Your guess number (1->10) is: 7\n"
     ]
    },
    {
     "name": "stderr",
     "output_type": "stream",
     "text": [
      "Guess number > Target\n",
      "\n",
      "You lose!\n",
      "\n"
     ]
    },
    {
     "name": "stdout",
     "output_type": "stream",
     "text": [
      "Do you want new game (1 or 0): 1\n",
      "Your guess number (1->10) is: 5\n"
     ]
    },
    {
     "name": "stderr",
     "output_type": "stream",
     "text": [
      "Guess number > Target\n",
      "\n"
     ]
    },
    {
     "name": "stdout",
     "output_type": "stream",
     "text": [
      "Your guess number (1->10) is: 6\n"
     ]
    },
    {
     "name": "stderr",
     "output_type": "stream",
     "text": [
      "Guess number > Target\n",
      "\n"
     ]
    },
    {
     "name": "stdout",
     "output_type": "stream",
     "text": [
      "Your guess number (1->10) is: 7\n"
     ]
    },
    {
     "name": "stderr",
     "output_type": "stream",
     "text": [
      "Guess number > Target\n",
      "\n",
      "You lose!\n",
      "\n"
     ]
    },
    {
     "name": "stdout",
     "output_type": "stream",
     "text": [
      "Do you want new game (1 or 0): 1\n",
      "Your guess number (1->10) is: 4\n"
     ]
    },
    {
     "name": "stderr",
     "output_type": "stream",
     "text": [
      "Guess number > Target\n",
      "\n"
     ]
    },
    {
     "name": "stdout",
     "output_type": "stream",
     "text": [
      "Your guess number (1->10) is: 5\n"
     ]
    },
    {
     "name": "stderr",
     "output_type": "stream",
     "text": [
      "Guess number > Target\n",
      "\n"
     ]
    },
    {
     "name": "stdout",
     "output_type": "stream",
     "text": [
      "Your guess number (1->10) is: 6\n"
     ]
    },
    {
     "name": "stderr",
     "output_type": "stream",
     "text": [
      "Guess number > Target\n",
      "\n",
      "You lose!\n",
      "\n"
     ]
    },
    {
     "name": "stdout",
     "output_type": "stream",
     "text": [
      "Do you want new game (1 or 0): 0\n",
      "[1] \"Final score: win 0 - lose 4\"\n"
     ]
    }
   ],
   "source": [
    "continue = TRUE\n",
    "random_number = round(runif(1,1,10), 0)\n",
    "win = 0\n",
    "lose = 0\n",
    "while (continue == TRUE) {\n",
    "    time = 1\n",
    "    still_in_game = TRUE\n",
    "    while (still_in_game) {\n",
    "        if (time >3) {\n",
    "            message('You lose!')\n",
    "            lose = lose + 1\n",
    "            still_in_game = FALSE\n",
    "            break\n",
    "        }\n",
    "        guess_number = as.integer(readline(prompt = 'Your guess number (1->10) is: '))\n",
    "        if (guess_number > random_number) {message('Guess number > Target')}\n",
    "        else if (guess_number < random_number) {message('Guess number < Target')}\n",
    "        else {\n",
    "            message('You win!!!')\n",
    "            win = win + 1\n",
    "            still_in_game = FALSE\n",
    "            break\n",
    "        }\n",
    "        time = time + 1\n",
    "    }\n",
    "    continue = as.logical(as.integer(readline(prompt = 'Do you want new game (1 or 0): ')))\n",
    "}\n",
    "print(paste('Final score: win', win, '- lose', lose))"
   ]
  },
  {
   "cell_type": "code",
   "execution_count": 36,
   "metadata": {},
   "outputs": [
    {
     "name": "stdout",
     "output_type": "stream",
     "text": [
      " 1 or 00\n",
      "[1] FALSE\n"
     ]
    }
   ],
   "source": [
    "a = is.logical(readline(prompt = ' 1 or 0'))\n",
    "print(a)"
   ]
  },
  {
   "cell_type": "code",
   "execution_count": 49,
   "metadata": {},
   "outputs": [
    {
     "name": "stdout",
     "output_type": "stream",
     "text": [
      "Do you want new game (1 or 0): 1\n",
      "[1] TRUE\n"
     ]
    }
   ],
   "source": [
    "continue = as.logical(as.integer(readline(prompt = 'Do you want new game (1 or 0): ')))\n",
    "print(continue)"
   ]
  },
  {
   "cell_type": "code",
   "execution_count": null,
   "metadata": {},
   "outputs": [],
   "source": []
  }
 ],
 "metadata": {
  "kernelspec": {
   "display_name": "R",
   "language": "R",
   "name": "ir"
  },
  "language_info": {
   "codemirror_mode": "r",
   "file_extension": ".r",
   "mimetype": "text/x-r-source",
   "name": "R",
   "pygments_lexer": "r",
   "version": "4.1.0"
  }
 },
 "nbformat": 4,
 "nbformat_minor": 4
}
