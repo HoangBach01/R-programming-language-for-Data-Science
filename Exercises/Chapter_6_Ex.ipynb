{
 "cells": [
  {
   "cell_type": "markdown",
   "metadata": {},
   "source": [
    "## Ex2"
   ]
  },
  {
   "cell_type": "code",
   "execution_count": 1,
   "metadata": {},
   "outputs": [
    {
     "name": "stdout",
     "output_type": "stream",
     "text": [
      "[1]  2  5  8 12 16\n",
      "[1] 5 6 7 8 9\n",
      "[1] -3 -1  1  4  7\n",
      "  [1]   2   4   6   8  10  12  14  16  18  20  22  24  26  28  30  32  34  36\n",
      " [19]  38  40  42  44  46  48  50  52  54  56  58  60  62  64  66  68  70  72\n",
      " [37]  74  76  78  80  82  84  86  88  90  92  94  96  98 100 102 104 106 108\n",
      " [55] 110 112 114 116 118 120 122 124 126 128 130 132 134 136 138 140 142 144\n",
      " [73] 146 148 150 152 154 156 158 160 162 164 166 168 170 172 174 176 178 180\n",
      " [91] 182 184 186 188 190 192 194 196 198 200\n"
     ]
    }
   ],
   "source": [
    "vec1 = c(2, 5, 8, 12, 16)\n",
    "vec2 = c(5:9)\n",
    "vec3 = vec1-vec2\n",
    "vec4 = seq(from=2, by=2, length.out=100)\n",
    "print(vec1)\n",
    "print(vec2)\n",
    "print(vec3)\n",
    "print(vec4)"
   ]
  },
  {
   "cell_type": "code",
   "execution_count": 2,
   "metadata": {},
   "outputs": [
    {
     "name": "stdout",
     "output_type": "stream",
     "text": [
      "[1] 10 20 30 40\n",
      " [1] 20 22 24 26 28 30 32 34 36 38 40 42 44 46 48 50 52 54 56 58 60\n"
     ]
    }
   ],
   "source": [
    "print(vec4[c(5, 10, 15, 20)])\n",
    "print(vec4[10:30])"
   ]
  },
  {
   "cell_type": "markdown",
   "metadata": {},
   "source": [
    "## Ex3"
   ]
  },
  {
   "cell_type": "code",
   "execution_count": 5,
   "metadata": {},
   "outputs": [
    {
     "name": "stdout",
     "output_type": "stream",
     "text": [
      "[1] \"alphabets: a, b, c, d, e, f, g, h, i, j, k, l, m, n, o, p, q, r, s, t, u, v, w, x, y, z\"\n",
      "[1] \"vowels: a, e, i, o, u\"\n",
      "[1] \"consonants: b, c, d, f, g, h, j, k, l, m, n, p, q, r, s, t, v, w, x, y, z\"\n"
     ]
    }
   ],
   "source": [
    "alphabets = letters[1:26]\n",
    "vowels = c('a', 'e', 'i', 'o', 'u')\n",
    "consonants = alphabets[!(alphabets %in% vowels)]\n",
    "\n",
    "print(paste('alphabets:', toString(alphabets)))\n",
    "print(paste('vowels:', toString(vowels)))\n",
    "print(paste('consonants:', toString(consonants)))"
   ]
  },
  {
   "cell_type": "code",
   "execution_count": 6,
   "metadata": {},
   "outputs": [
    {
     "name": "stdout",
     "output_type": "stream",
     "text": [
      "[1] \"consonants ba, ce, di, fo, gu, ha, je, ki, lo, mu, na, pe, qi, ro, su, ta, ve, wi, xo, yu, za\"\n"
     ]
    }
   ],
   "source": [
    "consonants_vowels = sub(' ', '', paste(consonants, vowels))\n",
    "print(paste('consonants', toString(consonants_vowels)))"
   ]
  },
  {
   "cell_type": "markdown",
   "metadata": {},
   "source": [
    "## Ex5"
   ]
  },
  {
   "cell_type": "code",
   "execution_count": 7,
   "metadata": {},
   "outputs": [
    {
     "name": "stdout",
     "output_type": "stream",
     "text": [
      "[1] \"high\"   \"low\"    \"medium\"\n",
      "[1] 3\n"
     ]
    }
   ],
   "source": [
    "v1<- c(\"low\", \"high\", \"medium\", \"high\", \"low\", \"medium\", \"high\")\n",
    "factor_size = factor(v1)\n",
    "print(levels(factor_size))\n",
    "print(nlevels(factor_size))"
   ]
  },
  {
   "cell_type": "code",
   "execution_count": 8,
   "metadata": {},
   "outputs": [
    {
     "name": "stdout",
     "output_type": "stream",
     "text": [
      "[1] low    high   medium high   low    medium high  \n",
      "Levels: high low medium medium high\n"
     ]
    }
   ],
   "source": [
    "lvl = levels(factor_size)\n",
    "lvl[4] = 'medium high'\n",
    "factor_size = factor(v1, levels=lvl)\n",
    "print(factor_size)"
   ]
  },
  {
   "cell_type": "code",
   "execution_count": null,
   "metadata": {},
   "outputs": [],
   "source": []
  }
 ],
 "metadata": {
  "kernelspec": {
   "display_name": "R",
   "language": "R",
   "name": "ir"
  },
  "language_info": {
   "codemirror_mode": "r",
   "file_extension": ".r",
   "mimetype": "text/x-r-source",
   "name": "R",
   "pygments_lexer": "r",
   "version": "4.1.0"
  }
 },
 "nbformat": 4,
 "nbformat_minor": 4
}
