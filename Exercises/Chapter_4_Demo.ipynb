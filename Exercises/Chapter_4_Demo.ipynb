{
 "cells": [
  {
   "cell_type": "markdown",
   "metadata": {},
   "source": [
    "## Repeat"
   ]
  },
  {
   "cell_type": "code",
   "execution_count": 1,
   "metadata": {},
   "outputs": [
    {
     "name": "stdout",
     "output_type": "stream",
     "text": [
      "[1] \"Time: 1\"\n",
      "[1] \"Time: 2\"\n",
      "[1] \"Time: 3\"\n",
      "[1] \"Time: 4\"\n",
      "[1] \"Time: 5\"\n"
     ]
    }
   ],
   "source": [
    "start = 1\n",
    "repeat {\n",
    "    print(paste('Time:', start))\n",
    "    start = start + 1\n",
    "    if (start > 5) {break}\n",
    "}"
   ]
  },
  {
   "cell_type": "markdown",
   "metadata": {},
   "source": [
    "## While"
   ]
  },
  {
   "cell_type": "code",
   "execution_count": 2,
   "metadata": {},
   "outputs": [
    {
     "name": "stdout",
     "output_type": "stream",
     "text": [
      "[1] \"Time: 1\"\n",
      "[1] \"Time: 2\"\n",
      "[1] \"Time: 3\"\n",
      "[1] \"Time: 4\"\n",
      "[1] \"Time: 5\"\n"
     ]
    }
   ],
   "source": [
    "start = 1\n",
    "while (start < 6) {\n",
    "    print(paste('Time:', start))\n",
    "    start = start + 1\n",
    "}"
   ]
  },
  {
   "cell_type": "code",
   "execution_count": 5,
   "metadata": {},
   "outputs": [
    {
     "name": "stderr",
     "output_type": "stream",
     "text": [
      "Hello\n",
      "\n"
     ]
    },
    {
     "name": "stdout",
     "output_type": "stream",
     "text": [
      "Continue or not? 1: Continue, <> 1: Stop 1\n"
     ]
    },
    {
     "name": "stderr",
     "output_type": "stream",
     "text": [
      "Hello\n",
      "\n"
     ]
    },
    {
     "name": "stdout",
     "output_type": "stream",
     "text": [
      "Continue or not? 1: Continue, <> 1: Stop 0\n"
     ]
    }
   ],
   "source": [
    "i = 1\n",
    "while (i==1) {\n",
    "    message('Hello')\n",
    "    i = as.numeric(readline(prompt = 'Continue or not? 1: Continue, <> 1: Stop '))\n",
    "}"
   ]
  },
  {
   "cell_type": "markdown",
   "metadata": {},
   "source": [
    "## For"
   ]
  },
  {
   "cell_type": "code",
   "execution_count": 6,
   "metadata": {},
   "outputs": [
    {
     "name": "stdout",
     "output_type": "stream",
     "text": [
      "[1] \"A\"\n",
      "[1] \"B\"\n",
      "[1] \"C\"\n",
      "[1] \"D\"\n",
      "[1] \"E\"\n",
      "[1] \"F\"\n",
      "[1] \"G\"\n",
      "[1] \"H\"\n",
      "[1] \"I\"\n",
      "[1] \"J\"\n"
     ]
    }
   ],
   "source": [
    "v = LETTERS[1:10]\n",
    "for (c in v) {print(c)}"
   ]
  },
  {
   "cell_type": "code",
   "execution_count": 8,
   "metadata": {},
   "outputs": [
    {
     "name": "stdout",
     "output_type": "stream",
     "text": [
      "[1] \"red\"\n",
      "[1] \"green\"\n",
      "[1] \"yellow\"\n",
      "[1] \"blue\"\n",
      "[1] \"black\"\n",
      "[1] \"while\"\n"
     ]
    }
   ],
   "source": [
    "colors = c('red', 'green', 'yellow', 'blue', 'black', 'while')\n",
    "for (color in colors) {print(color)}"
   ]
  },
  {
   "cell_type": "markdown",
   "metadata": {},
   "source": [
    "## Next, break"
   ]
  },
  {
   "cell_type": "code",
   "execution_count": 9,
   "metadata": {},
   "outputs": [
    {
     "name": "stdout",
     "output_type": "stream",
     "text": [
      "[1] \"A\"\n",
      "[1] \"B\"\n",
      "[1] \"C\"\n",
      "[1] \"D\"\n",
      "[1] \"F\"\n",
      "[1] \"G\"\n",
      "[1] \"H\"\n",
      "[1] \"I\"\n",
      "[1] \"J\"\n"
     ]
    }
   ],
   "source": [
    "v = LETTERS[1:10]\n",
    "for (i in v) {\n",
    "    if (i == 'E'){\n",
    "        next\n",
    "    }\n",
    "    print(i)\n",
    "}"
   ]
  },
  {
   "cell_type": "code",
   "execution_count": null,
   "metadata": {},
   "outputs": [],
   "source": []
  }
 ],
 "metadata": {
  "kernelspec": {
   "display_name": "R",
   "language": "R",
   "name": "ir"
  },
  "language_info": {
   "codemirror_mode": "r",
   "file_extension": ".r",
   "mimetype": "text/x-r-source",
   "name": "R",
   "pygments_lexer": "r",
   "version": "4.1.0"
  }
 },
 "nbformat": 4,
 "nbformat_minor": 4
}
