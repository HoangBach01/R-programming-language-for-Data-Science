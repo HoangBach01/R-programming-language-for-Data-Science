{
 "cells": [
  {
   "cell_type": "markdown",
   "metadata": {},
   "source": [
    "# Ex1"
   ]
  },
  {
   "cell_type": "code",
   "execution_count": 8,
   "metadata": {},
   "outputs": [
    {
     "name": "stdout",
     "output_type": "stream",
     "text": [
      "Name: Bach\n",
      "Year of birth: 1993\n",
      "Weight (kg): 70\n",
      "Height (cm): 172\n",
      "[1] \"Name: Bach Year: 1993 Weight: 70 (kg), Height: 172 (cm), BMI: 23.66\"\n"
     ]
    }
   ],
   "source": [
    "name = readline(prompt='Name: ')\n",
    "year_birth = readline(prompt='Year of birth: ')\n",
    "weight = as.numeric(readline(prompt='Weight (kg): '))\n",
    "height = as.numeric(readline(prompt='Height (cm): '))\n",
    "BMI = weight / ((height/100) ^ 2)\n",
    "print(paste('Name:',name, 'Year:',year_birth, 'Weight:',weight, '(kg), Height:', height, '(cm), BMI:', round(BMI,2)))"
   ]
  },
  {
   "cell_type": "markdown",
   "metadata": {},
   "source": [
    "# Ex2"
   ]
  },
  {
   "cell_type": "code",
   "execution_count": 14,
   "metadata": {},
   "outputs": [
    {
     "name": "stdout",
     "output_type": "stream",
     "text": [
      "Food & Drink charges: 6000000\n",
      "Tax rate (10-20%): 10\n",
      "Tip (5-10%): 5\n",
      "[1] \"Total charges:  5,100,000 VND\"\n",
      "[1] \"Tax:  600,000 VND\"\n",
      "[1] \"Tip:  300,000 VND\"\n"
     ]
    }
   ],
   "source": [
    "charges = as.numeric(readline(prompt = 'Food & Drink charges: '))\n",
    "tax_rate = as.numeric(readline(prompt = 'Tax rate (10-20%): '))\n",
    "tip_rate = as.numeric(readline(prompt = 'Tip (5-10%): '))\n",
    "\n",
    "tax = tax_rate/100*charges\n",
    "tip = tip_rate/100*charges\n",
    "\n",
    "total_charges = charges - tax - tip\n",
    "print(paste('Total charges: ',format(total_charges, big.mark=\",\", scientific=FALSE), 'VND'))\n",
    "print(paste('Tax: ',format(tax, big.mark=\",\", scientific=FALSE), 'VND'))\n",
    "print(paste('Tip: ',format(tip, big.mark=\",\", scientific=FALSE), 'VND'))"
   ]
  },
  {
   "cell_type": "markdown",
   "metadata": {},
   "source": []
  },
  {
   "cell_type": "markdown",
   "metadata": {},
   "source": [
    "## Ex5"
   ]
  },
  {
   "cell_type": "code",
   "execution_count": 1,
   "metadata": {},
   "outputs": [
    {
     "name": "stdin",
     "output_type": "stream",
     "text": [
      "Input s1:  Hello world, R language\n",
      "Input s2:  I am beginer at this language\n",
      "Input s3:  Keep learning under covid pandemic\n",
      "Input index:  5\n",
      "Find string:  language\n",
      "Replace string:  programming language\n"
     ]
    }
   ],
   "source": [
    "str1 = readline(prompt = 'Input s1: ')\n",
    "str2 = readline(prompt = 'Input s2: ')\n",
    "str3 = readline(prompt = 'Input s3: ')\n",
    "\n",
    "index = as.integer(readline(prompt = 'Input index: '))\n",
    "str_find = readline(prompt = 'Find string: ')\n",
    "str_replace = readline(prompt = 'Replace string: ')"
   ]
  },
  {
   "cell_type": "code",
   "execution_count": 6,
   "metadata": {},
   "outputs": [
    {
     "name": "stdout",
     "output_type": "stream",
     "text": [
      "[1] \"Lenght str1:  23\"\n",
      "[1] \"Lenght str2:  29\"\n",
      "[1] \"Lenght str3:  34\"\n"
     ]
    },
    {
     "data": {
      "text/html": [
       "'o world, R language'"
      ],
      "text/latex": [
       "'o world, R language'"
      ],
      "text/markdown": [
       "'o world, R language'"
      ],
      "text/plain": [
       "[1] \"o world, R language\""
      ]
     },
     "metadata": {},
     "output_type": "display_data"
    },
    {
     "data": {
      "text/html": [
       "'Hello'"
      ],
      "text/latex": [
       "'Hello'"
      ],
      "text/markdown": [
       "'Hello'"
      ],
      "text/plain": [
       "[1] \"Hello\""
      ]
     },
     "metadata": {},
     "output_type": "display_data"
    },
    {
     "data": {
      "text/html": [
       "'Hello world, R programming language'"
      ],
      "text/latex": [
       "'Hello world, R programming language'"
      ],
      "text/markdown": [
       "'Hello world, R programming language'"
      ],
      "text/plain": [
       "[1] \"Hello world, R programming language\""
      ]
     },
     "metadata": {},
     "output_type": "display_data"
    }
   ],
   "source": [
    "print(paste('Lenght str1: ', nchar(str1)))\n",
    "print(paste('Lenght str2: ', nchar(str2)))\n",
    "print(paste('Lenght str3: ', nchar(str3)))\n",
    "\n",
    "str4 = substring(str1, index)\n",
    "str5 = substring(str1, 1, index)\n",
    "str_new = sub(str_find, str_replace, str1)\n",
    "str4\n",
    "str5\n",
    "str_new"
   ]
  },
  {
   "cell_type": "markdown",
   "metadata": {},
   "source": [
    "## Ex6"
   ]
  },
  {
   "cell_type": "code",
   "execution_count": null,
   "metadata": {},
   "outputs": [],
   "source": []
  }
 ],
 "metadata": {
  "kernelspec": {
   "display_name": "R",
   "language": "R",
   "name": "ir"
  },
  "language_info": {
   "codemirror_mode": "r",
   "file_extension": ".r",
   "mimetype": "text/x-r-source",
   "name": "R",
   "pygments_lexer": "r",
   "version": "4.1.0"
  }
 },
 "nbformat": 4,
 "nbformat_minor": 4
}
