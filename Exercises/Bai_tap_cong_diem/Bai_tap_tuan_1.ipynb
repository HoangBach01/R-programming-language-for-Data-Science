{
 "cells": [
  {
   "cell_type": "markdown",
   "metadata": {
    "id": "3KkCxqxNZhdE"
   },
   "source": [
    "# Bài tập tuần 1 (Deadline: 11/07/2021)\n",
    "## Bài tập số 1:\n",
    "### Viết chương trình cho phép người dùng:\n",
    "- Nhập vào một chuỗi. In chuỗi.\n",
    "- Nhập vào một ký tự. In ký tự.\n",
    "- Tạo chuỗi mới từ chuỗi đã có trong đó tất cả các ký tự đã nhập ở trên đều được in hoa.\n",
    "- Tách chuỗi đã nhập ở đầu bài thành danh sách các phần tử.\n",
    "- Nhập vào một từ. In từ.\n",
    "- Tìm xem từ vừa nhập có là phần tử nào trong danh sách phần tử trên hay không? Nêu tìm thấy thì thông báo là \"Found!!!\" ngược lại thì thông báo là \"Not found!!!\"\n",
    "- Nhập vào một từ cần tìm (find) trong chuỗi và một từ mới sẽ thay thế (replace). Thay thế tất cả các từ tìm (find) trong chuỗi bằng từ thay thế (replace)\n"
   ]
  },
  {
   "cell_type": "code",
   "execution_count": 53,
   "metadata": {
    "id": "-FqU7HFztTM4"
   },
   "outputs": [
    {
     "name": "stdout",
     "output_type": "stream",
     "text": [
      "String input: Welcome to R programming language\n",
      "[1] \"Welcome to R programming language\"\n",
      "Char input: a\n",
      "[1] \"a\"\n"
     ]
    }
   ],
   "source": [
    "string = readline(prompt='String input: ')\n",
    "print(string)\n",
    "\n",
    "char = ''\n",
    "while (nchar(char) != 1) {\n",
    "    char = as.character(readline(prompt='Char input: '), length=1)\n",
    "}\n",
    "print(char)"
   ]
  },
  {
   "cell_type": "code",
   "execution_count": 55,
   "metadata": {},
   "outputs": [
    {
     "name": "stdout",
     "output_type": "stream",
     "text": [
      "[1] \"WELCOME TO R PROGRAMMING LANGUAGE\"\n",
      "[1] \"Welcome\"     \"to\"          \"R\"           \"programming\" \"language\"   \n"
     ]
    }
   ],
   "source": [
    "print(toupper(string))\n",
    "list_str = strsplit(string, ' ')\n",
    "print(unlist(list_str))"
   ]
  },
  {
   "cell_type": "code",
   "execution_count": 60,
   "metadata": {},
   "outputs": [
    {
     "name": "stdout",
     "output_type": "stream",
     "text": [
      "Word input: Ho Chi Minh\n",
      "Word input: Welcome\n",
      "[1] \"Welcome\"\n"
     ]
    }
   ],
   "source": [
    "len_word = 0\n",
    "while (len_word != 1) {\n",
    "    word = as.character(readline(prompt='Word input: '))\n",
    "    splited = strsplit(word, ' ')\n",
    "    len_word = length(unlist(splited))\n",
    "}\n",
    "print(word)"
   ]
  },
  {
   "cell_type": "code",
   "execution_count": 62,
   "metadata": {},
   "outputs": [
    {
     "name": "stdout",
     "output_type": "stream",
     "text": [
      "[1] \"Found!!!\"\n"
     ]
    }
   ],
   "source": [
    "if (word %in% unlist(list_str)) {\n",
    "    print('Found!!!')\n",
    "} else {print('Not Found!!!')}"
   ]
  },
  {
   "cell_type": "code",
   "execution_count": 66,
   "metadata": {},
   "outputs": [
    {
     "name": "stdout",
     "output_type": "stream",
     "text": [
      "Word to find: language\n",
      "Replace by word: mindset\n",
      "[1] \"Welcome to R programming mindset\"\n"
     ]
    }
   ],
   "source": [
    "find = as.character(readline(prompt='Word to find: '))\n",
    "replace = as.character(readline(prompt='Replace by word: '))\n",
    "\n",
    "new_replaced_str = gsub(find, replace, string)\n",
    "print(new_replaced_str)"
   ]
  },
  {
   "cell_type": "markdown",
   "metadata": {
    "id": "7tdvIByoRzaE"
   },
   "source": [
    "## Bài tập số 2:\n",
    "### Viết chương trình cho phép người dùng:\n",
    "- Nhập vào ngày sinh của mình theo định dạng: 2021-mm-dd. \n",
    "- Lấy ngày hiện hành\n",
    "- Hãy in ra một trong 3 nội dung sau tùy kết quả (so với ngày hiện hành):\n",
    "  - Nếu ngày sinh nhật của bạn chưa tới thì \"The next xx days will be your birthday.\"\n",
    "  - Nếu ngày sinh nhật của bạn dã qua thì \"Your birthday has passed xx days.\"\n",
    "  - Nếu hôm nay là sinh nhật của bạn thì \"Happy birthday to you!\" "
   ]
  },
  {
   "cell_type": "code",
   "execution_count": 108,
   "metadata": {
    "id": "7ZAcy4JitUr1"
   },
   "outputs": [
    {
     "name": "stdout",
     "output_type": "stream",
     "text": [
      "Date input (2021/%m/%d): 2020/01/01\n",
      "Date input (2021/%m/%d): 2021.01.01\n",
      "Date input (2021/%m/%d): 2021/01/01\n"
     ]
    }
   ],
   "source": [
    "date = NA\n",
    "while (is.na(date)) {\n",
    "    input = readline(prompt='Date input (2021/%m/%d): ')\n",
    "    date = as.Date(input, format('2021/%m/%d'))\n",
    "}"
   ]
  },
  {
   "cell_type": "code",
   "execution_count": 109,
   "metadata": {},
   "outputs": [
    {
     "name": "stdout",
     "output_type": "stream",
     "text": [
      "[1] \"Your birthday has passed 191 days\"\n"
     ]
    }
   ],
   "source": [
    "now = Sys.Date()\n",
    "\n",
    "diff = now - date\n",
    "if (diff < 0) {\n",
    "    print(paste('The next', diff, 'days will be your birthday'))\n",
    "} else if (diff > 0) {\n",
    "    print(paste('Your birthday has passed', diff, 'days'))\n",
    "} else {print('Happy birthday to you!')}"
   ]
  },
  {
   "cell_type": "markdown",
   "metadata": {
    "id": "VPbVlUR5qmux"
   },
   "source": [
    "## Bài tập số 3:\n",
    "### Viết chương trình cho phép người dùng:\n",
    "- Nhập vào một số n với điều kiện sau: 10<=n<=20. Nếu số người dùng nhập không thỏa điều kiện thì thông báo cho người dùng biết và yêu cầu nhập lại. Nêu thỏa điều kiện thì qua 2.\n",
    "- Tạo một dãy số v1 có n số mà mỗi số là một số ngẫu nhiên từ 1 đến 10. Ví dụ: v1: 5, 5, 5, 9, 9, 8, 5, 9, 9, 10, 7, 7\n",
    "- Viết một function tạo dãy số mới v2 từ dãy số v1 nói trên theo điều kiện sau: phần tử đầu tiên và cuối cùng của v2 bằng v1, các phần tử khác thì v2[i] = v1[i] + v1[i-1] + v1[i+1] nếu cả v1[i-1] và v1[i+1] cùng chẵn hoặc cùng lẻ, ngược lại v2[i] = v1[i]. Ví dụ: v2: 5, 15, 19, 23, 9, 22, 5, 23, 9, 26, 7, 7\n",
    "- Gọi function vừa viết và in kết quả v2.\n",
    "- Viết function Cho biết trong một dãy số có số chính phương nào hay không?\n",
    "- Gọi function vừa viết với input là v2 và in kết quả."
   ]
  },
  {
   "cell_type": "code",
   "execution_count": 118,
   "metadata": {},
   "outputs": [
    {
     "name": "stdout",
     "output_type": "stream",
     "text": [
      "Number input (range 10->20): 5\n"
     ]
    },
    {
     "name": "stderr",
     "output_type": "stream",
     "text": [
      "Not in range number 10->20\n",
      "\n"
     ]
    },
    {
     "name": "stdout",
     "output_type": "stream",
     "text": [
      "Number input (range 10->20): 21\n"
     ]
    },
    {
     "name": "stderr",
     "output_type": "stream",
     "text": [
      "Not in range number 10->20\n",
      "\n"
     ]
    },
    {
     "name": "stdout",
     "output_type": "stream",
     "text": [
      "Number input (range 10->20): asdf\n"
     ]
    },
    {
     "name": "stderr",
     "output_type": "stream",
     "text": [
      "Warning message in eval(expr, envir, enclos):\n",
      "“NAs introduced by coercion”\n",
      "Not a number\n",
      "\n"
     ]
    },
    {
     "name": "stdout",
     "output_type": "stream",
     "text": [
      "Number input (range 10->20): 15\n"
     ]
    }
   ],
   "source": [
    "while (TRUE) {\n",
    "    n = as.numeric(readline(prompt='Number input (range 10->20): '))\n",
    "    if (is.na(n)) {\n",
    "        message('Not a number')\n",
    "        next\n",
    "    }\n",
    "    if (n < 10 | n > 20) {\n",
    "        message('Not in range number 10->20')\n",
    "        next\n",
    "    } else {break}\n",
    "}"
   ]
  },
  {
   "cell_type": "code",
   "execution_count": 124,
   "metadata": {
    "id": "7MtFDCMKtWEl"
   },
   "outputs": [
    {
     "data": {
      "text/html": [
       "<style>\n",
       ".list-inline {list-style: none; margin:0; padding: 0}\n",
       ".list-inline>li {display: inline-block}\n",
       ".list-inline>li:not(:last-child)::after {content: \"\\00b7\"; padding: 0 .5ex}\n",
       "</style>\n",
       "<ol class=list-inline><li>3</li><li>3</li><li>3</li><li>3</li><li>6</li><li>8</li><li>1</li><li>1</li><li>4</li><li>5</li><li>8</li><li>6</li><li>8</li><li>1</li><li>5</li></ol>\n"
      ],
      "text/latex": [
       "\\begin{enumerate*}\n",
       "\\item 3\n",
       "\\item 3\n",
       "\\item 3\n",
       "\\item 3\n",
       "\\item 6\n",
       "\\item 8\n",
       "\\item 1\n",
       "\\item 1\n",
       "\\item 4\n",
       "\\item 5\n",
       "\\item 8\n",
       "\\item 6\n",
       "\\item 8\n",
       "\\item 1\n",
       "\\item 5\n",
       "\\end{enumerate*}\n"
      ],
      "text/markdown": [
       "1. 3\n",
       "2. 3\n",
       "3. 3\n",
       "4. 3\n",
       "5. 6\n",
       "6. 8\n",
       "7. 1\n",
       "8. 1\n",
       "9. 4\n",
       "10. 5\n",
       "11. 8\n",
       "12. 6\n",
       "13. 8\n",
       "14. 1\n",
       "15. 5\n",
       "\n",
       "\n"
      ],
      "text/plain": [
       " [1] 3 3 3 3 6 8 1 1 4 5 8 6 8 1 5"
      ]
     },
     "metadata": {},
     "output_type": "display_data"
    }
   ],
   "source": [
    "v1 = sample(1:10, n, replace=TRUE)\n",
    "v1"
   ]
  },
  {
   "cell_type": "code",
   "execution_count": 133,
   "metadata": {},
   "outputs": [
    {
     "data": {
      "text/html": [
       "<style>\n",
       ".list-inline {list-style: none; margin:0; padding: 0}\n",
       ".list-inline>li {display: inline-block}\n",
       ".list-inline>li:not(:last-child)::after {content: \"\\00b7\"; padding: 0 .5ex}\n",
       "</style>\n",
       "<ol class=list-inline><li>3</li><li>9</li><li>9</li><li>3</li><li>6</li><li>8</li><li>1</li><li>1</li><li>10</li><li>17</li><li>8</li><li>22</li><li>8</li><li>1</li><li>5</li></ol>\n"
      ],
      "text/latex": [
       "\\begin{enumerate*}\n",
       "\\item 3\n",
       "\\item 9\n",
       "\\item 9\n",
       "\\item 3\n",
       "\\item 6\n",
       "\\item 8\n",
       "\\item 1\n",
       "\\item 1\n",
       "\\item 10\n",
       "\\item 17\n",
       "\\item 8\n",
       "\\item 22\n",
       "\\item 8\n",
       "\\item 1\n",
       "\\item 5\n",
       "\\end{enumerate*}\n"
      ],
      "text/markdown": [
       "1. 3\n",
       "2. 9\n",
       "3. 9\n",
       "4. 3\n",
       "5. 6\n",
       "6. 8\n",
       "7. 1\n",
       "8. 1\n",
       "9. 10\n",
       "10. 17\n",
       "11. 8\n",
       "12. 22\n",
       "13. 8\n",
       "14. 1\n",
       "15. 5\n",
       "\n",
       "\n"
      ],
      "text/plain": [
       " [1]  3  9  9  3  6  8  1  1 10 17  8 22  8  1  5"
      ]
     },
     "metadata": {},
     "output_type": "display_data"
    }
   ],
   "source": [
    "n = length(v1)\n",
    "v2 = 1:n\n",
    "v2[1] = v1[1]\n",
    "v2[n] = v1[n]\n",
    "\n",
    "for (i in 2:(n-1)) {\n",
    "    if ((v1[i-1] - v1[i+1]) %% 2 == 0) {\n",
    "        v2[i] = v1[i] + v1[i-1] + v1[i+1]\n",
    "    } else {v2[i] = v1[i]}\n",
    "}\n",
    "v2"
   ]
  },
  {
   "cell_type": "code",
   "execution_count": 131,
   "metadata": {},
   "outputs": [],
   "source": [
    "source('functions.R')"
   ]
  },
  {
   "cell_type": "code",
   "execution_count": 134,
   "metadata": {},
   "outputs": [
    {
     "name": "stdout",
     "output_type": "stream",
     "text": [
      " [1]  3  9  9  3  6  8  1  1 10 17  8 22  8  1  5\n"
     ]
    }
   ],
   "source": [
    "v2 = week1_ex3.function(v1)\n",
    "print(v2)"
   ]
  },
  {
   "cell_type": "code",
   "execution_count": 153,
   "metadata": {},
   "outputs": [],
   "source": [
    "check_sqrt = function(x) {\n",
    "    root = sqrt(x)\n",
    "    return (root == round(root))\n",
    "}"
   ]
  },
  {
   "cell_type": "code",
   "execution_count": 157,
   "metadata": {},
   "outputs": [
    {
     "data": {
      "text/html": [
       "<style>\n",
       ".list-inline {list-style: none; margin:0; padding: 0}\n",
       ".list-inline>li {display: inline-block}\n",
       ".list-inline>li:not(:last-child)::after {content: \"\\00b7\"; padding: 0 .5ex}\n",
       "</style>\n",
       "<ol class=list-inline><li>FALSE</li><li>TRUE</li><li>TRUE</li><li>FALSE</li><li>FALSE</li><li>FALSE</li><li>TRUE</li><li>TRUE</li><li>FALSE</li><li>FALSE</li><li>FALSE</li><li>FALSE</li><li>FALSE</li><li>TRUE</li><li>FALSE</li></ol>\n"
      ],
      "text/latex": [
       "\\begin{enumerate*}\n",
       "\\item FALSE\n",
       "\\item TRUE\n",
       "\\item TRUE\n",
       "\\item FALSE\n",
       "\\item FALSE\n",
       "\\item FALSE\n",
       "\\item TRUE\n",
       "\\item TRUE\n",
       "\\item FALSE\n",
       "\\item FALSE\n",
       "\\item FALSE\n",
       "\\item FALSE\n",
       "\\item FALSE\n",
       "\\item TRUE\n",
       "\\item FALSE\n",
       "\\end{enumerate*}\n"
      ],
      "text/markdown": [
       "1. FALSE\n",
       "2. TRUE\n",
       "3. TRUE\n",
       "4. FALSE\n",
       "5. FALSE\n",
       "6. FALSE\n",
       "7. TRUE\n",
       "8. TRUE\n",
       "9. FALSE\n",
       "10. FALSE\n",
       "11. FALSE\n",
       "12. FALSE\n",
       "13. FALSE\n",
       "14. TRUE\n",
       "15. FALSE\n",
       "\n",
       "\n"
      ],
      "text/plain": [
       " [1] FALSE  TRUE  TRUE FALSE FALSE FALSE  TRUE  TRUE FALSE FALSE FALSE FALSE\n",
       "[13] FALSE  TRUE FALSE"
      ]
     },
     "metadata": {},
     "output_type": "display_data"
    }
   ],
   "source": [
    "sapply(v2, check_sqrt)"
   ]
  },
  {
   "cell_type": "code",
   "execution_count": 169,
   "metadata": {},
   "outputs": [
    {
     "name": "stdout",
     "output_type": "stream",
     "text": [
      "[1] \"Square numbers in v2:\"\n",
      "[1] 9 9 1 1 1\n"
     ]
    }
   ],
   "source": [
    "print(paste('Square numbers in v2:'))\n",
    "print(v2[sapply(v2, check_sqrt)])"
   ]
  },
  {
   "cell_type": "code",
   "execution_count": null,
   "metadata": {},
   "outputs": [],
   "source": []
  }
 ],
 "metadata": {
  "colab": {
   "collapsed_sections": [],
   "name": "Bai_tap_tuan_1.ipynb",
   "provenance": []
  },
  "kernelspec": {
   "display_name": "R",
   "language": "R",
   "name": "ir"
  },
  "language_info": {
   "codemirror_mode": "r",
   "file_extension": ".r",
   "mimetype": "text/x-r-source",
   "name": "R",
   "pygments_lexer": "r",
   "version": "4.1.0"
  }
 },
 "nbformat": 4,
 "nbformat_minor": 1
}
