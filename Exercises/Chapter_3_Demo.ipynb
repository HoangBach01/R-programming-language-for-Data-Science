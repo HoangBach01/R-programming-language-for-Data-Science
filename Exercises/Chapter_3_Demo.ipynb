{
 "cells": [
  {
   "cell_type": "code",
   "execution_count": 5,
   "metadata": {},
   "outputs": [
    {
     "name": "stdin",
     "output_type": "stream",
     "text": [
      "Input mark:  4\n"
     ]
    },
    {
     "name": "stdout",
     "output_type": "stream",
     "text": [
      "[1] \"Fail\"\n"
     ]
    }
   ],
   "source": [
    "mark = as.numeric(readline(prompt = 'Input mark: '))\n",
    "if (mark >= 5) {\n",
    "    print('Pass')\n",
    "} else {\n",
    "    print('Fail')\n",
    "}"
   ]
  },
  {
   "cell_type": "code",
   "execution_count": 7,
   "metadata": {},
   "outputs": [
    {
     "name": "stdin",
     "output_type": "stream",
     "text": [
      "Input mark:  4\n"
     ]
    },
    {
     "name": "stdout",
     "output_type": "stream",
     "text": [
      "[1] \"Weak\"\n"
     ]
    }
   ],
   "source": [
    "mark = as.numeric(readline(prompt = 'Input mark: '))\n",
    "\n",
    "if (mark < 5) {\n",
    "    print('Weak')\n",
    "} else if (mark < 7) {\n",
    "    print('Agerage')\n",
    "} else if (mark < 8) {\n",
    "    print('Good')\n",
    "} else if (mark < 9) {\n",
    "    print('Very good')\n",
    "} else {\n",
    "    print('Excellent')\n",
    "}"
   ]
  },
  {
   "cell_type": "code",
   "execution_count": 8,
   "metadata": {},
   "outputs": [
    {
     "name": "stdout",
     "output_type": "stream",
     "text": [
      "[1] \"black\"\n"
     ]
    }
   ],
   "source": [
    "y = switch('color', 'color'='black', 'shape'='rec', 'length' = 20)\n",
    "print(y)"
   ]
  },
  {
   "cell_type": "code",
   "execution_count": 11,
   "metadata": {},
   "outputs": [
    {
     "name": "stdin",
     "output_type": "stream",
     "text": [
      "Input number 1:  1\n",
      "Input number 2:  2\n",
      "Input one Arithmetric Operator:  /\n"
     ]
    },
    {
     "name": "stdout",
     "output_type": "stream",
     "text": [
      "[1] \"Div : 0.5\"\n"
     ]
    }
   ],
   "source": [
    "num1 = as.integer(readline(prompt = 'Input number 1: '))\n",
    "num2 = as.integer(readline(prompt = 'Input number 2: '))\n",
    "operator = readline(prompt = 'Input one Arithmetric Operator: ')\n",
    "switch(operator,\n",
    "          '+' = print(paste('Sum :', num1 + num2)),\n",
    "          '-' = print(paste('Sub :', num1 - num2)),\n",
    "          '*' = print(paste('Mul :', num1 * num2)),\n",
    "          '/' = print(paste('Div :', num1 / num2)),\n",
    "          print('Nothing')\n",
    ")"
   ]
  },
  {
   "cell_type": "code",
   "execution_count": 1,
   "metadata": {},
   "outputs": [
    {
     "name": "stdout",
     "output_type": "stream",
     "text": [
      "Input Room: VIP 1\n",
      "Input days: 5\n",
      "[1] \"Total charges:  4,500,000 VND\"\n"
     ]
    }
   ],
   "source": [
    "room = readline(prompt = 'Input Room: ')\n",
    "days = as.integer(readline(prompt = 'Input days: '))\n",
    "\n",
    "room_list = list(\n",
    "                'VIP 1'      = 1000000,\n",
    "                'VIP 2'      =  900000,\n",
    "                'VIP 3'      =  850000,\n",
    "                'Standard 1' =  700000,\n",
    "                'Standard 2' =  550000\n",
    "                )\n",
    "discount = if (days < 3) {0} else if (days <=6) {0.1} else {0.2}\n",
    "\n",
    "if (is.null(room_list[[room]])) {print('Wrong room input!')} else {\n",
    "    total_charges = room_list[[room]] * days * (1-discount)\n",
    "    print(paste('Total charges: ',format(total_charges, big.mark=\",\"), 'VND'))    \n",
    "}\n"
   ]
  },
  {
   "cell_type": "code",
   "execution_count": 34,
   "metadata": {},
   "outputs": [
    {
     "name": "stdin",
     "output_type": "stream",
     "text": [
      "Input date as format dd-mm-yyyy:  20-10-2020\n"
     ]
    },
    {
     "name": "stdout",
     "output_type": "stream",
     "text": [
      "[1] \"2020-10-20 is Tuesday\"\n",
      "[1] \"Seven continuing days:  2020-10-20, 2020-10-21, 2020-10-22, 2020-10-23, 2020-10-24, 2020-10-25, 2020-10-26\"\n"
     ]
    }
   ],
   "source": [
    "date_str = readline('Input date as format dd-mm-yyyy: ')\n",
    "date = as.Date(date_str, format('%d-%m-%Y'))\n",
    "\n",
    "if (is.na(date)) {print('Wrong date input!')} else {\n",
    "    print(paste(date, 'is', weekdays.Date(date)))\n",
    "    seven_days = seq(date, length=7, by=1)\n",
    "    print(paste('Seven continuing days: ', toString(seven_days)))\n",
    "}"
   ]
  },
  {
   "cell_type": "code",
   "execution_count": null,
   "metadata": {},
   "outputs": [],
   "source": []
  }
 ],
 "metadata": {
  "kernelspec": {
   "display_name": "R",
   "language": "R",
   "name": "ir"
  },
  "language_info": {
   "codemirror_mode": "r",
   "file_extension": ".r",
   "mimetype": "text/x-r-source",
   "name": "R",
   "pygments_lexer": "r",
   "version": "4.1.0"
  }
 },
 "nbformat": 4,
 "nbformat_minor": 5
}
