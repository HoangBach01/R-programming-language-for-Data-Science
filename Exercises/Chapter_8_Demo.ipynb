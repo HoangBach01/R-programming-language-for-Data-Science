{
 "cells": [
  {
   "cell_type": "markdown",
   "metadata": {},
   "source": [
    "## DataFrame"
   ]
  },
  {
   "cell_type": "code",
   "execution_count": 6,
   "metadata": {},
   "outputs": [
    {
     "data": {
      "text/html": [
       "<table class=\"dataframe\">\n",
       "<caption>A data.frame: 5 × 3</caption>\n",
       "<thead>\n",
       "\t<tr><th scope=col>name</th><th scope=col>age</th><th scope=col>mark</th></tr>\n",
       "\t<tr><th scope=col>&lt;chr&gt;</th><th scope=col>&lt;dbl&gt;</th><th scope=col>&lt;dbl&gt;</th></tr>\n",
       "</thead>\n",
       "<tbody>\n",
       "\t<tr><td>Hellen</td><td>17</td><td>8</td></tr>\n",
       "\t<tr><td>Jolie </td><td>16</td><td>7</td></tr>\n",
       "\t<tr><td>Kiwi  </td><td>12</td><td>9</td></tr>\n",
       "\t<tr><td>John  </td><td>18</td><td>8</td></tr>\n",
       "\t<tr><td>Mark  </td><td>19</td><td>9</td></tr>\n",
       "</tbody>\n",
       "</table>\n"
      ],
      "text/latex": [
       "A data.frame: 5 × 3\n",
       "\\begin{tabular}{lll}\n",
       " name & age & mark\\\\\n",
       " <chr> & <dbl> & <dbl>\\\\\n",
       "\\hline\n",
       "\t Hellen & 17 & 8\\\\\n",
       "\t Jolie  & 16 & 7\\\\\n",
       "\t Kiwi   & 12 & 9\\\\\n",
       "\t John   & 18 & 8\\\\\n",
       "\t Mark   & 19 & 9\\\\\n",
       "\\end{tabular}\n"
      ],
      "text/markdown": [
       "\n",
       "A data.frame: 5 × 3\n",
       "\n",
       "| name &lt;chr&gt; | age &lt;dbl&gt; | mark &lt;dbl&gt; |\n",
       "|---|---|---|\n",
       "| Hellen | 17 | 8 |\n",
       "| Jolie  | 16 | 7 |\n",
       "| Kiwi   | 12 | 9 |\n",
       "| John   | 18 | 8 |\n",
       "| Mark   | 19 | 9 |\n",
       "\n"
      ],
      "text/plain": [
       "  name   age mark\n",
       "1 Hellen 17  8   \n",
       "2 Jolie  16  7   \n",
       "3 Kiwi   12  9   \n",
       "4 John   18  8   \n",
       "5 Mark   19  9   "
      ]
     },
     "metadata": {},
     "output_type": "display_data"
    }
   ],
   "source": [
    "student_1 = data.frame('name' = c('Hellen', 'Jolie', 'Kiwi', 'John', 'Mark'),\n",
    "                       'age' = c(17, 16, 12, 18, 19),\n",
    "                       'mark' = c(8, 7, 9, 8, 9),\n",
    "                       stringsAsFactors = FALSE)\n",
    "student_1"
   ]
  },
  {
   "cell_type": "code",
   "execution_count": 7,
   "metadata": {},
   "outputs": [
    {
     "data": {
      "text/html": [
       "<table class=\"dataframe\">\n",
       "<caption>A data.frame: 5 × 3</caption>\n",
       "<thead>\n",
       "\t<tr><th scope=col>name</th><th scope=col>age</th><th scope=col>mark</th></tr>\n",
       "\t<tr><th scope=col>&lt;chr&gt;</th><th scope=col>&lt;dbl&gt;</th><th scope=col>&lt;dbl&gt;</th></tr>\n",
       "</thead>\n",
       "<tbody>\n",
       "\t<tr><td>Hellen</td><td>17</td><td>8</td></tr>\n",
       "\t<tr><td>Jolie </td><td>16</td><td>7</td></tr>\n",
       "\t<tr><td>Kiwi  </td><td>12</td><td>9</td></tr>\n",
       "\t<tr><td>John  </td><td>18</td><td>8</td></tr>\n",
       "\t<tr><td>Mark  </td><td>19</td><td>9</td></tr>\n",
       "</tbody>\n",
       "</table>\n"
      ],
      "text/latex": [
       "A data.frame: 5 × 3\n",
       "\\begin{tabular}{lll}\n",
       " name & age & mark\\\\\n",
       " <chr> & <dbl> & <dbl>\\\\\n",
       "\\hline\n",
       "\t Hellen & 17 & 8\\\\\n",
       "\t Jolie  & 16 & 7\\\\\n",
       "\t Kiwi   & 12 & 9\\\\\n",
       "\t John   & 18 & 8\\\\\n",
       "\t Mark   & 19 & 9\\\\\n",
       "\\end{tabular}\n"
      ],
      "text/markdown": [
       "\n",
       "A data.frame: 5 × 3\n",
       "\n",
       "| name &lt;chr&gt; | age &lt;dbl&gt; | mark &lt;dbl&gt; |\n",
       "|---|---|---|\n",
       "| Hellen | 17 | 8 |\n",
       "| Jolie  | 16 | 7 |\n",
       "| Kiwi   | 12 | 9 |\n",
       "| John   | 18 | 8 |\n",
       "| Mark   | 19 | 9 |\n",
       "\n"
      ],
      "text/plain": [
       "  name   age mark\n",
       "1 Hellen 17  8   \n",
       "2 Jolie  16  7   \n",
       "3 Kiwi   12  9   \n",
       "4 John   18  8   \n",
       "5 Mark   19  9   "
      ]
     },
     "metadata": {},
     "output_type": "display_data"
    }
   ],
   "source": [
    "name = c('Hellen', 'Jolie', 'Kiwi', 'John', 'Mark')\n",
    "age = c(17, 16, 12, 18, 19)\n",
    "mark = c(8, 7, 9, 8, 9)\n",
    "student_2 = data.frame(name, age, mark, stringsAsFactors = FALSE)\n",
    "student_2"
   ]
  },
  {
   "cell_type": "code",
   "execution_count": 8,
   "metadata": {},
   "outputs": [
    {
     "name": "stdout",
     "output_type": "stream",
     "text": [
      "'data.frame':\t5 obs. of  3 variables:\n",
      " $ name: chr  \"Hellen\" \"Jolie\" \"Kiwi\" \"John\" ...\n",
      " $ age : num  17 16 12 18 19\n",
      " $ mark: num  8 7 9 8 9\n"
     ]
    }
   ],
   "source": [
    "str(student_2)"
   ]
  },
  {
   "cell_type": "code",
   "execution_count": 9,
   "metadata": {},
   "outputs": [
    {
     "data": {
      "text/plain": [
       "     name                age            mark    \n",
       " Length:5           Min.   :12.0   Min.   :7.0  \n",
       " Class :character   1st Qu.:16.0   1st Qu.:8.0  \n",
       " Mode  :character   Median :17.0   Median :8.0  \n",
       "                    Mean   :16.4   Mean   :8.2  \n",
       "                    3rd Qu.:18.0   3rd Qu.:9.0  \n",
       "                    Max.   :19.0   Max.   :9.0  "
      ]
     },
     "metadata": {},
     "output_type": "display_data"
    }
   ],
   "source": [
    "summary(student_2)"
   ]
  },
  {
   "cell_type": "code",
   "execution_count": 10,
   "metadata": {},
   "outputs": [
    {
     "data": {
      "text/html": [
       "<style>\n",
       ".list-inline {list-style: none; margin:0; padding: 0}\n",
       ".list-inline>li {display: inline-block}\n",
       ".list-inline>li:not(:last-child)::after {content: \"\\00b7\"; padding: 0 .5ex}\n",
       "</style>\n",
       "<ol class=list-inline><li>8</li><li>7</li><li>9</li><li>8</li><li>9</li></ol>\n"
      ],
      "text/latex": [
       "\\begin{enumerate*}\n",
       "\\item 8\n",
       "\\item 7\n",
       "\\item 9\n",
       "\\item 8\n",
       "\\item 9\n",
       "\\end{enumerate*}\n"
      ],
      "text/markdown": [
       "1. 8\n",
       "2. 7\n",
       "3. 9\n",
       "4. 8\n",
       "5. 9\n",
       "\n",
       "\n"
      ],
      "text/plain": [
       "[1] 8 7 9 8 9"
      ]
     },
     "metadata": {},
     "output_type": "display_data"
    }
   ],
   "source": [
    "student_2$mark"
   ]
  },
  {
   "cell_type": "code",
   "execution_count": 11,
   "metadata": {},
   "outputs": [
    {
     "data": {
      "text/html": [
       "<table class=\"dataframe\">\n",
       "<caption>A data.frame: 5 × 1</caption>\n",
       "<thead>\n",
       "\t<tr><th scope=col>student_2.age</th></tr>\n",
       "\t<tr><th scope=col>&lt;dbl&gt;</th></tr>\n",
       "</thead>\n",
       "<tbody>\n",
       "\t<tr><td>17</td></tr>\n",
       "\t<tr><td>16</td></tr>\n",
       "\t<tr><td>12</td></tr>\n",
       "\t<tr><td>18</td></tr>\n",
       "\t<tr><td>19</td></tr>\n",
       "</tbody>\n",
       "</table>\n"
      ],
      "text/latex": [
       "A data.frame: 5 × 1\n",
       "\\begin{tabular}{l}\n",
       " student\\_2.age\\\\\n",
       " <dbl>\\\\\n",
       "\\hline\n",
       "\t 17\\\\\n",
       "\t 16\\\\\n",
       "\t 12\\\\\n",
       "\t 18\\\\\n",
       "\t 19\\\\\n",
       "\\end{tabular}\n"
      ],
      "text/markdown": [
       "\n",
       "A data.frame: 5 × 1\n",
       "\n",
       "| student_2.age &lt;dbl&gt; |\n",
       "|---|\n",
       "| 17 |\n",
       "| 16 |\n",
       "| 12 |\n",
       "| 18 |\n",
       "| 19 |\n",
       "\n"
      ],
      "text/plain": [
       "  student_2.age\n",
       "1 17           \n",
       "2 16           \n",
       "3 12           \n",
       "4 18           \n",
       "5 19           "
      ]
     },
     "metadata": {},
     "output_type": "display_data"
    }
   ],
   "source": [
    "data.frame(student_2$age)"
   ]
  },
  {
   "cell_type": "code",
   "execution_count": 12,
   "metadata": {},
   "outputs": [
    {
     "data": {
      "text/html": [
       "<table class=\"dataframe\">\n",
       "<caption>A data.frame: 5 × 4</caption>\n",
       "<thead>\n",
       "\t<tr><th scope=col>name</th><th scope=col>age</th><th scope=col>mark</th><th scope=col>class</th></tr>\n",
       "\t<tr><th scope=col>&lt;chr&gt;</th><th scope=col>&lt;dbl&gt;</th><th scope=col>&lt;dbl&gt;</th><th scope=col>&lt;chr&gt;</th></tr>\n",
       "</thead>\n",
       "<tbody>\n",
       "\t<tr><td>Hellen</td><td>17</td><td>8</td><td>k234</td></tr>\n",
       "\t<tr><td>Jolie </td><td>16</td><td>7</td><td>k232</td></tr>\n",
       "\t<tr><td>Kiwi  </td><td>12</td><td>9</td><td>k256</td></tr>\n",
       "\t<tr><td>John  </td><td>18</td><td>8</td><td>k212</td></tr>\n",
       "\t<tr><td>Mark  </td><td>19</td><td>9</td><td>k232</td></tr>\n",
       "</tbody>\n",
       "</table>\n"
      ],
      "text/latex": [
       "A data.frame: 5 × 4\n",
       "\\begin{tabular}{llll}\n",
       " name & age & mark & class\\\\\n",
       " <chr> & <dbl> & <dbl> & <chr>\\\\\n",
       "\\hline\n",
       "\t Hellen & 17 & 8 & k234\\\\\n",
       "\t Jolie  & 16 & 7 & k232\\\\\n",
       "\t Kiwi   & 12 & 9 & k256\\\\\n",
       "\t John   & 18 & 8 & k212\\\\\n",
       "\t Mark   & 19 & 9 & k232\\\\\n",
       "\\end{tabular}\n"
      ],
      "text/markdown": [
       "\n",
       "A data.frame: 5 × 4\n",
       "\n",
       "| name &lt;chr&gt; | age &lt;dbl&gt; | mark &lt;dbl&gt; | class &lt;chr&gt; |\n",
       "|---|---|---|---|\n",
       "| Hellen | 17 | 8 | k234 |\n",
       "| Jolie  | 16 | 7 | k232 |\n",
       "| Kiwi   | 12 | 9 | k256 |\n",
       "| John   | 18 | 8 | k212 |\n",
       "| Mark   | 19 | 9 | k232 |\n",
       "\n"
      ],
      "text/plain": [
       "  name   age mark class\n",
       "1 Hellen 17  8    k234 \n",
       "2 Jolie  16  7    k232 \n",
       "3 Kiwi   12  9    k256 \n",
       "4 John   18  8    k212 \n",
       "5 Mark   19  9    k232 "
      ]
     },
     "metadata": {},
     "output_type": "display_data"
    }
   ],
   "source": [
    "student_2$class = c('k234', 'k232', 'k256', 'k212', 'k232')\n",
    "student_2"
   ]
  },
  {
   "cell_type": "code",
   "execution_count": 13,
   "metadata": {},
   "outputs": [
    {
     "data": {
      "text/html": [
       "<table class=\"dataframe\">\n",
       "<caption>A data.frame: 5 × 5</caption>\n",
       "<thead>\n",
       "\t<tr><th scope=col>name</th><th scope=col>age</th><th scope=col>mark</th><th scope=col>class</th><th scope=col>pob</th></tr>\n",
       "\t<tr><th scope=col>&lt;chr&gt;</th><th scope=col>&lt;dbl&gt;</th><th scope=col>&lt;dbl&gt;</th><th scope=col>&lt;chr&gt;</th><th scope=col>&lt;chr&gt;</th></tr>\n",
       "</thead>\n",
       "<tbody>\n",
       "\t<tr><td>Hellen</td><td>17</td><td>8</td><td>k234</td><td>UK</td></tr>\n",
       "\t<tr><td>Jolie </td><td>16</td><td>7</td><td>k232</td><td>US</td></tr>\n",
       "\t<tr><td>Kiwi  </td><td>12</td><td>9</td><td>k256</td><td>VN</td></tr>\n",
       "\t<tr><td>John  </td><td>18</td><td>8</td><td>k212</td><td>EU</td></tr>\n",
       "\t<tr><td>Mark  </td><td>19</td><td>9</td><td>k232</td><td>US</td></tr>\n",
       "</tbody>\n",
       "</table>\n"
      ],
      "text/latex": [
       "A data.frame: 5 × 5\n",
       "\\begin{tabular}{lllll}\n",
       " name & age & mark & class & pob\\\\\n",
       " <chr> & <dbl> & <dbl> & <chr> & <chr>\\\\\n",
       "\\hline\n",
       "\t Hellen & 17 & 8 & k234 & UK\\\\\n",
       "\t Jolie  & 16 & 7 & k232 & US\\\\\n",
       "\t Kiwi   & 12 & 9 & k256 & VN\\\\\n",
       "\t John   & 18 & 8 & k212 & EU\\\\\n",
       "\t Mark   & 19 & 9 & k232 & US\\\\\n",
       "\\end{tabular}\n"
      ],
      "text/markdown": [
       "\n",
       "A data.frame: 5 × 5\n",
       "\n",
       "| name &lt;chr&gt; | age &lt;dbl&gt; | mark &lt;dbl&gt; | class &lt;chr&gt; | pob &lt;chr&gt; |\n",
       "|---|---|---|---|---|\n",
       "| Hellen | 17 | 8 | k234 | UK |\n",
       "| Jolie  | 16 | 7 | k232 | US |\n",
       "| Kiwi   | 12 | 9 | k256 | VN |\n",
       "| John   | 18 | 8 | k212 | EU |\n",
       "| Mark   | 19 | 9 | k232 | US |\n",
       "\n"
      ],
      "text/plain": [
       "  name   age mark class pob\n",
       "1 Hellen 17  8    k234  UK \n",
       "2 Jolie  16  7    k232  US \n",
       "3 Kiwi   12  9    k256  VN \n",
       "4 John   18  8    k212  EU \n",
       "5 Mark   19  9    k232  US "
      ]
     },
     "metadata": {},
     "output_type": "display_data"
    }
   ],
   "source": [
    "pob = data.frame('pob' = c('UK', 'US', 'VN', 'EU', 'US'))\n",
    "students = cbind(student_2, pob)\n",
    "students"
   ]
  },
  {
   "cell_type": "code",
   "execution_count": 14,
   "metadata": {},
   "outputs": [],
   "source": [
    "new_students = data.frame('name' = 'Sunny', 'age' = 17, 'mark' = 8, 'class' = 'k256', 'pob' = 'EU')"
   ]
  },
  {
   "cell_type": "code",
   "execution_count": 16,
   "metadata": {},
   "outputs": [
    {
     "data": {
      "text/html": [
       "<table class=\"dataframe\">\n",
       "<caption>A data.frame: 6 × 5</caption>\n",
       "<thead>\n",
       "\t<tr><th scope=col>name</th><th scope=col>age</th><th scope=col>mark</th><th scope=col>class</th><th scope=col>pob</th></tr>\n",
       "\t<tr><th scope=col>&lt;chr&gt;</th><th scope=col>&lt;dbl&gt;</th><th scope=col>&lt;dbl&gt;</th><th scope=col>&lt;chr&gt;</th><th scope=col>&lt;chr&gt;</th></tr>\n",
       "</thead>\n",
       "<tbody>\n",
       "\t<tr><td>Hellen</td><td>17</td><td>8</td><td>k234</td><td>UK</td></tr>\n",
       "\t<tr><td>Jolie </td><td>16</td><td>7</td><td>k232</td><td>US</td></tr>\n",
       "\t<tr><td>Kiwi  </td><td>12</td><td>9</td><td>k256</td><td>VN</td></tr>\n",
       "\t<tr><td>John  </td><td>18</td><td>8</td><td>k212</td><td>EU</td></tr>\n",
       "\t<tr><td>Mark  </td><td>19</td><td>9</td><td>k232</td><td>US</td></tr>\n",
       "\t<tr><td>Sunny </td><td>17</td><td>8</td><td>k256</td><td>EU</td></tr>\n",
       "</tbody>\n",
       "</table>\n"
      ],
      "text/latex": [
       "A data.frame: 6 × 5\n",
       "\\begin{tabular}{lllll}\n",
       " name & age & mark & class & pob\\\\\n",
       " <chr> & <dbl> & <dbl> & <chr> & <chr>\\\\\n",
       "\\hline\n",
       "\t Hellen & 17 & 8 & k234 & UK\\\\\n",
       "\t Jolie  & 16 & 7 & k232 & US\\\\\n",
       "\t Kiwi   & 12 & 9 & k256 & VN\\\\\n",
       "\t John   & 18 & 8 & k212 & EU\\\\\n",
       "\t Mark   & 19 & 9 & k232 & US\\\\\n",
       "\t Sunny  & 17 & 8 & k256 & EU\\\\\n",
       "\\end{tabular}\n"
      ],
      "text/markdown": [
       "\n",
       "A data.frame: 6 × 5\n",
       "\n",
       "| name &lt;chr&gt; | age &lt;dbl&gt; | mark &lt;dbl&gt; | class &lt;chr&gt; | pob &lt;chr&gt; |\n",
       "|---|---|---|---|---|\n",
       "| Hellen | 17 | 8 | k234 | UK |\n",
       "| Jolie  | 16 | 7 | k232 | US |\n",
       "| Kiwi   | 12 | 9 | k256 | VN |\n",
       "| John   | 18 | 8 | k212 | EU |\n",
       "| Mark   | 19 | 9 | k232 | US |\n",
       "| Sunny  | 17 | 8 | k256 | EU |\n",
       "\n"
      ],
      "text/plain": [
       "  name   age mark class pob\n",
       "1 Hellen 17  8    k234  UK \n",
       "2 Jolie  16  7    k232  US \n",
       "3 Kiwi   12  9    k256  VN \n",
       "4 John   18  8    k212  EU \n",
       "5 Mark   19  9    k232  US \n",
       "6 Sunny  17  8    k256  EU "
      ]
     },
     "metadata": {},
     "output_type": "display_data"
    }
   ],
   "source": [
    "students = rbind(students, new_students)\n",
    "students"
   ]
  },
  {
   "cell_type": "code",
   "execution_count": 18,
   "metadata": {},
   "outputs": [
    {
     "data": {
      "text/html": [
       "<table class=\"dataframe\">\n",
       "<caption>A data.frame: 6 × 5</caption>\n",
       "<thead>\n",
       "\t<tr><th></th><th scope=col>name</th><th scope=col>age</th><th scope=col>mark</th><th scope=col>class</th><th scope=col>Place of Birth</th></tr>\n",
       "\t<tr><th></th><th scope=col>&lt;chr&gt;</th><th scope=col>&lt;dbl&gt;</th><th scope=col>&lt;dbl&gt;</th><th scope=col>&lt;chr&gt;</th><th scope=col>&lt;chr&gt;</th></tr>\n",
       "</thead>\n",
       "<tbody>\n",
       "\t<tr><th scope=row>1</th><td>Hellen</td><td>17</td><td>8</td><td>k234</td><td>UK</td></tr>\n",
       "\t<tr><th scope=row>2</th><td>Jolie </td><td>16</td><td>7</td><td>k232</td><td>US</td></tr>\n",
       "\t<tr><th scope=row>3</th><td>Kiwi  </td><td>12</td><td>9</td><td>k256</td><td>VN</td></tr>\n",
       "\t<tr><th scope=row>4</th><td>John  </td><td>18</td><td>8</td><td>k212</td><td>EU</td></tr>\n",
       "\t<tr><th scope=row>5</th><td>Mark  </td><td>19</td><td>9</td><td>k232</td><td>US</td></tr>\n",
       "\t<tr><th scope=row>6</th><td>Sunny </td><td>17</td><td>8</td><td>k256</td><td>EU</td></tr>\n",
       "</tbody>\n",
       "</table>\n"
      ],
      "text/latex": [
       "A data.frame: 6 × 5\n",
       "\\begin{tabular}{r|lllll}\n",
       "  & name & age & mark & class & Place of Birth\\\\\n",
       "  & <chr> & <dbl> & <dbl> & <chr> & <chr>\\\\\n",
       "\\hline\n",
       "\t1 & Hellen & 17 & 8 & k234 & UK\\\\\n",
       "\t2 & Jolie  & 16 & 7 & k232 & US\\\\\n",
       "\t3 & Kiwi   & 12 & 9 & k256 & VN\\\\\n",
       "\t4 & John   & 18 & 8 & k212 & EU\\\\\n",
       "\t5 & Mark   & 19 & 9 & k232 & US\\\\\n",
       "\t6 & Sunny  & 17 & 8 & k256 & EU\\\\\n",
       "\\end{tabular}\n"
      ],
      "text/markdown": [
       "\n",
       "A data.frame: 6 × 5\n",
       "\n",
       "| <!--/--> | name &lt;chr&gt; | age &lt;dbl&gt; | mark &lt;dbl&gt; | class &lt;chr&gt; | Place of Birth &lt;chr&gt; |\n",
       "|---|---|---|---|---|---|\n",
       "| 1 | Hellen | 17 | 8 | k234 | UK |\n",
       "| 2 | Jolie  | 16 | 7 | k232 | US |\n",
       "| 3 | Kiwi   | 12 | 9 | k256 | VN |\n",
       "| 4 | John   | 18 | 8 | k212 | EU |\n",
       "| 5 | Mark   | 19 | 9 | k232 | US |\n",
       "| 6 | Sunny  | 17 | 8 | k256 | EU |\n",
       "\n"
      ],
      "text/plain": [
       "  name   age mark class Place of Birth\n",
       "1 Hellen 17  8    k234  UK            \n",
       "2 Jolie  16  7    k232  US            \n",
       "3 Kiwi   12  9    k256  VN            \n",
       "4 John   18  8    k212  EU            \n",
       "5 Mark   19  9    k232  US            \n",
       "6 Sunny  17  8    k256  EU            "
      ]
     },
     "metadata": {},
     "output_type": "display_data"
    }
   ],
   "source": [
    "names(students)[names(students) == 'pob'] = 'Place of Birth'\n",
    "head(students)"
   ]
  },
  {
   "cell_type": "markdown",
   "metadata": {},
   "source": [
    "## Tidyverse"
   ]
  },
  {
   "cell_type": "code",
   "execution_count": 19,
   "metadata": {},
   "outputs": [
    {
     "name": "stderr",
     "output_type": "stream",
     "text": [
      "also installing the dependencies ‘colorspace’, ‘sys’, ‘ps’, ‘rappdirs’, ‘rematch’, ‘farver’, ‘labeling’, ‘munsell’, ‘RColorBrewer’, ‘viridisLite’, ‘askpass’, ‘prettyunits’, ‘processx’, ‘highr’, ‘markdown’, ‘yaml’, ‘xfun’, ‘tinytex’, ‘backports’, ‘generics’, ‘assertthat’, ‘blob’, ‘DBI’, ‘R6’, ‘tidyselect’, ‘withr’, ‘data.table’, ‘cli’, ‘gargle’, ‘cellranger’, ‘curl’, ‘ids’, ‘rematch2’, ‘gtable’, ‘isoband’, ‘scales’, ‘cpp11’, ‘pkgconfig’, ‘mime’, ‘openssl’, ‘Rcpp’, ‘clipr’, ‘BH’, ‘progress’, ‘callr’, ‘fs’, ‘knitr’, ‘rmarkdown’, ‘selectr’, ‘stringi’, ‘broom’, ‘dbplyr’, ‘dplyr’, ‘dtplyr’, ‘forcats’, ‘googledrive’, ‘googlesheets4’, ‘ggplot2’, ‘haven’, ‘hms’, ‘httr’, ‘lubridate’, ‘magrittr’, ‘modelr’, ‘purrr’, ‘readr’, ‘readxl’, ‘reprex’, ‘rstudioapi’, ‘rvest’, ‘stringr’, ‘tibble’, ‘tidyr’, ‘xml2’\n",
      "\n",
      "\n"
     ]
    },
    {
     "name": "stdout",
     "output_type": "stream",
     "text": [
      "\n",
      "  There are binary versions available but the source versions are later:\n",
      "            binary source needs_compilation\n",
      "Rcpp         1.0.6  1.0.7              TRUE\n",
      "googledrive  1.0.1  2.0.0             FALSE\n",
      "\n",
      "\n",
      "The downloaded binary packages are in\n",
      "\t/var/folders/09/wkf60t9d5p749571dbkjv86h0000gn/T//RtmpuObSDe/downloaded_packages\n"
     ]
    },
    {
     "name": "stderr",
     "output_type": "stream",
     "text": [
      "installing the source packages ‘Rcpp’, ‘googledrive’\n",
      "\n",
      "\n"
     ]
    }
   ],
   "source": [
    "install.packages('tidyverse')"
   ]
  },
  {
   "cell_type": "code",
   "execution_count": 21,
   "metadata": {},
   "outputs": [],
   "source": [
    "library(tidyverse)"
   ]
  },
  {
   "cell_type": "code",
   "execution_count": 22,
   "metadata": {},
   "outputs": [
    {
     "data": {
      "text/html": [
       "<table class=\"dataframe\">\n",
       "<caption>A data.frame: 6 × 13</caption>\n",
       "<thead>\n",
       "\t<tr><th></th><th scope=col>X.</th><th scope=col>Name</th><th scope=col>Type.1</th><th scope=col>Type.2</th><th scope=col>Total</th><th scope=col>HP</th><th scope=col>Attack</th><th scope=col>Defense</th><th scope=col>Sp..Atk</th><th scope=col>Sp..Def</th><th scope=col>Speed</th><th scope=col>Generation</th><th scope=col>Legendary</th></tr>\n",
       "\t<tr><th></th><th scope=col>&lt;int&gt;</th><th scope=col>&lt;chr&gt;</th><th scope=col>&lt;chr&gt;</th><th scope=col>&lt;chr&gt;</th><th scope=col>&lt;int&gt;</th><th scope=col>&lt;int&gt;</th><th scope=col>&lt;int&gt;</th><th scope=col>&lt;int&gt;</th><th scope=col>&lt;int&gt;</th><th scope=col>&lt;int&gt;</th><th scope=col>&lt;int&gt;</th><th scope=col>&lt;int&gt;</th><th scope=col>&lt;chr&gt;</th></tr>\n",
       "</thead>\n",
       "<tbody>\n",
       "\t<tr><th scope=row>1</th><td>1</td><td>Bulbasaur            </td><td>Grass</td><td>Poison</td><td>318</td><td>45</td><td> 49</td><td> 49</td><td> 65</td><td> 65</td><td>45</td><td>1</td><td>False</td></tr>\n",
       "\t<tr><th scope=row>2</th><td>2</td><td>Ivysaur              </td><td>Grass</td><td>Poison</td><td>405</td><td>60</td><td> 62</td><td> 63</td><td> 80</td><td> 80</td><td>60</td><td>1</td><td>False</td></tr>\n",
       "\t<tr><th scope=row>3</th><td>3</td><td>Venusaur             </td><td>Grass</td><td>Poison</td><td>525</td><td>80</td><td> 82</td><td> 83</td><td>100</td><td>100</td><td>80</td><td>1</td><td>False</td></tr>\n",
       "\t<tr><th scope=row>4</th><td>3</td><td>VenusaurMega Venusaur</td><td>Grass</td><td>Poison</td><td>625</td><td>80</td><td>100</td><td>123</td><td>122</td><td>120</td><td>80</td><td>1</td><td>False</td></tr>\n",
       "\t<tr><th scope=row>5</th><td>4</td><td>Charmander           </td><td>Fire </td><td>      </td><td>309</td><td>39</td><td> 52</td><td> 43</td><td> 60</td><td> 50</td><td>65</td><td>1</td><td>False</td></tr>\n",
       "\t<tr><th scope=row>6</th><td>5</td><td>Charmeleon           </td><td>Fire </td><td>      </td><td>405</td><td>58</td><td> 64</td><td> 58</td><td> 80</td><td> 65</td><td>80</td><td>1</td><td>False</td></tr>\n",
       "</tbody>\n",
       "</table>\n"
      ],
      "text/latex": [
       "A data.frame: 6 × 13\n",
       "\\begin{tabular}{r|lllllllllllll}\n",
       "  & X. & Name & Type.1 & Type.2 & Total & HP & Attack & Defense & Sp..Atk & Sp..Def & Speed & Generation & Legendary\\\\\n",
       "  & <int> & <chr> & <chr> & <chr> & <int> & <int> & <int> & <int> & <int> & <int> & <int> & <int> & <chr>\\\\\n",
       "\\hline\n",
       "\t1 & 1 & Bulbasaur             & Grass & Poison & 318 & 45 &  49 &  49 &  65 &  65 & 45 & 1 & False\\\\\n",
       "\t2 & 2 & Ivysaur               & Grass & Poison & 405 & 60 &  62 &  63 &  80 &  80 & 60 & 1 & False\\\\\n",
       "\t3 & 3 & Venusaur              & Grass & Poison & 525 & 80 &  82 &  83 & 100 & 100 & 80 & 1 & False\\\\\n",
       "\t4 & 3 & VenusaurMega Venusaur & Grass & Poison & 625 & 80 & 100 & 123 & 122 & 120 & 80 & 1 & False\\\\\n",
       "\t5 & 4 & Charmander            & Fire  &        & 309 & 39 &  52 &  43 &  60 &  50 & 65 & 1 & False\\\\\n",
       "\t6 & 5 & Charmeleon            & Fire  &        & 405 & 58 &  64 &  58 &  80 &  65 & 80 & 1 & False\\\\\n",
       "\\end{tabular}\n"
      ],
      "text/markdown": [
       "\n",
       "A data.frame: 6 × 13\n",
       "\n",
       "| <!--/--> | X. &lt;int&gt; | Name &lt;chr&gt; | Type.1 &lt;chr&gt; | Type.2 &lt;chr&gt; | Total &lt;int&gt; | HP &lt;int&gt; | Attack &lt;int&gt; | Defense &lt;int&gt; | Sp..Atk &lt;int&gt; | Sp..Def &lt;int&gt; | Speed &lt;int&gt; | Generation &lt;int&gt; | Legendary &lt;chr&gt; |\n",
       "|---|---|---|---|---|---|---|---|---|---|---|---|---|---|\n",
       "| 1 | 1 | Bulbasaur             | Grass | Poison | 318 | 45 |  49 |  49 |  65 |  65 | 45 | 1 | False |\n",
       "| 2 | 2 | Ivysaur               | Grass | Poison | 405 | 60 |  62 |  63 |  80 |  80 | 60 | 1 | False |\n",
       "| 3 | 3 | Venusaur              | Grass | Poison | 525 | 80 |  82 |  83 | 100 | 100 | 80 | 1 | False |\n",
       "| 4 | 3 | VenusaurMega Venusaur | Grass | Poison | 625 | 80 | 100 | 123 | 122 | 120 | 80 | 1 | False |\n",
       "| 5 | 4 | Charmander            | Fire  | <!----> | 309 | 39 |  52 |  43 |  60 |  50 | 65 | 1 | False |\n",
       "| 6 | 5 | Charmeleon            | Fire  | <!----> | 405 | 58 |  64 |  58 |  80 |  65 | 80 | 1 | False |\n",
       "\n"
      ],
      "text/plain": [
       "  X. Name                  Type.1 Type.2 Total HP Attack Defense Sp..Atk\n",
       "1 1  Bulbasaur             Grass  Poison 318   45  49     49      65    \n",
       "2 2  Ivysaur               Grass  Poison 405   60  62     63      80    \n",
       "3 3  Venusaur              Grass  Poison 525   80  82     83     100    \n",
       "4 3  VenusaurMega Venusaur Grass  Poison 625   80 100    123     122    \n",
       "5 4  Charmander            Fire          309   39  52     43      60    \n",
       "6 5  Charmeleon            Fire          405   58  64     58      80    \n",
       "  Sp..Def Speed Generation Legendary\n",
       "1  65     45    1          False    \n",
       "2  80     60    1          False    \n",
       "3 100     80    1          False    \n",
       "4 120     80    1          False    \n",
       "5  50     65    1          False    \n",
       "6  65     80    1          False    "
      ]
     },
     "metadata": {},
     "output_type": "display_data"
    }
   ],
   "source": [
    "pokemon = read.csv('pokemon.csv')\n",
    "head(pokemon)"
   ]
  },
  {
   "cell_type": "code",
   "execution_count": 23,
   "metadata": {},
   "outputs": [
    {
     "name": "stdout",
     "output_type": "stream",
     "text": [
      "'data.frame':\t800 obs. of  13 variables:\n",
      " $ X.        : int  1 2 3 3 4 5 6 6 6 7 ...\n",
      " $ Name      : chr  \"Bulbasaur\" \"Ivysaur\" \"Venusaur\" \"VenusaurMega Venusaur\" ...\n",
      " $ Type.1    : chr  \"Grass\" \"Grass\" \"Grass\" \"Grass\" ...\n",
      " $ Type.2    : chr  \"Poison\" \"Poison\" \"Poison\" \"Poison\" ...\n",
      " $ Total     : int  318 405 525 625 309 405 534 634 634 314 ...\n",
      " $ HP        : int  45 60 80 80 39 58 78 78 78 44 ...\n",
      " $ Attack    : int  49 62 82 100 52 64 84 130 104 48 ...\n",
      " $ Defense   : int  49 63 83 123 43 58 78 111 78 65 ...\n",
      " $ Sp..Atk   : int  65 80 100 122 60 80 109 130 159 50 ...\n",
      " $ Sp..Def   : int  65 80 100 120 50 65 85 85 115 64 ...\n",
      " $ Speed     : int  45 60 80 80 65 80 100 100 100 43 ...\n",
      " $ Generation: int  1 1 1 1 1 1 1 1 1 1 ...\n",
      " $ Legendary : chr  \"False\" \"False\" \"False\" \"False\" ...\n"
     ]
    }
   ],
   "source": [
    "str(pokemon)"
   ]
  },
  {
   "cell_type": "code",
   "execution_count": 25,
   "metadata": {},
   "outputs": [
    {
     "data": {
      "text/html": [
       "<table class=\"dataframe\">\n",
       "<caption>A data.frame: 6 × 4</caption>\n",
       "<thead>\n",
       "\t<tr><th></th><th scope=col>Name</th><th scope=col>Total</th><th scope=col>Attack</th><th scope=col>Defense</th></tr>\n",
       "\t<tr><th></th><th scope=col>&lt;chr&gt;</th><th scope=col>&lt;int&gt;</th><th scope=col>&lt;int&gt;</th><th scope=col>&lt;int&gt;</th></tr>\n",
       "</thead>\n",
       "<tbody>\n",
       "\t<tr><th scope=row>1</th><td>Bulbasaur            </td><td>318</td><td> 49</td><td> 49</td></tr>\n",
       "\t<tr><th scope=row>2</th><td>Ivysaur              </td><td>405</td><td> 62</td><td> 63</td></tr>\n",
       "\t<tr><th scope=row>3</th><td>Venusaur             </td><td>525</td><td> 82</td><td> 83</td></tr>\n",
       "\t<tr><th scope=row>4</th><td>VenusaurMega Venusaur</td><td>625</td><td>100</td><td>123</td></tr>\n",
       "\t<tr><th scope=row>5</th><td>Charmander           </td><td>309</td><td> 52</td><td> 43</td></tr>\n",
       "\t<tr><th scope=row>6</th><td>Charmeleon           </td><td>405</td><td> 64</td><td> 58</td></tr>\n",
       "</tbody>\n",
       "</table>\n"
      ],
      "text/latex": [
       "A data.frame: 6 × 4\n",
       "\\begin{tabular}{r|llll}\n",
       "  & Name & Total & Attack & Defense\\\\\n",
       "  & <chr> & <int> & <int> & <int>\\\\\n",
       "\\hline\n",
       "\t1 & Bulbasaur             & 318 &  49 &  49\\\\\n",
       "\t2 & Ivysaur               & 405 &  62 &  63\\\\\n",
       "\t3 & Venusaur              & 525 &  82 &  83\\\\\n",
       "\t4 & VenusaurMega Venusaur & 625 & 100 & 123\\\\\n",
       "\t5 & Charmander            & 309 &  52 &  43\\\\\n",
       "\t6 & Charmeleon            & 405 &  64 &  58\\\\\n",
       "\\end{tabular}\n"
      ],
      "text/markdown": [
       "\n",
       "A data.frame: 6 × 4\n",
       "\n",
       "| <!--/--> | Name &lt;chr&gt; | Total &lt;int&gt; | Attack &lt;int&gt; | Defense &lt;int&gt; |\n",
       "|---|---|---|---|---|\n",
       "| 1 | Bulbasaur             | 318 |  49 |  49 |\n",
       "| 2 | Ivysaur               | 405 |  62 |  63 |\n",
       "| 3 | Venusaur              | 525 |  82 |  83 |\n",
       "| 4 | VenusaurMega Venusaur | 625 | 100 | 123 |\n",
       "| 5 | Charmander            | 309 |  52 |  43 |\n",
       "| 6 | Charmeleon            | 405 |  64 |  58 |\n",
       "\n"
      ],
      "text/plain": [
       "  Name                  Total Attack Defense\n",
       "1 Bulbasaur             318    49     49    \n",
       "2 Ivysaur               405    62     63    \n",
       "3 Venusaur              525    82     83    \n",
       "4 VenusaurMega Venusaur 625   100    123    \n",
       "5 Charmander            309    52     43    \n",
       "6 Charmeleon            405    64     58    "
      ]
     },
     "metadata": {},
     "output_type": "display_data"
    }
   ],
   "source": [
    "pokemon_sub = select(pokemon, c(2, 5, 7, 8))\n",
    "head(pokemon_sub)"
   ]
  },
  {
   "cell_type": "code",
   "execution_count": 27,
   "metadata": {},
   "outputs": [
    {
     "data": {
      "text/html": [
       "<table class=\"dataframe\">\n",
       "<caption>A data.frame: 6 × 4</caption>\n",
       "<thead>\n",
       "\t<tr><th></th><th scope=col>Name</th><th scope=col>Total</th><th scope=col>Attack</th><th scope=col>Defense</th></tr>\n",
       "\t<tr><th></th><th scope=col>&lt;chr&gt;</th><th scope=col>&lt;int&gt;</th><th scope=col>&lt;int&gt;</th><th scope=col>&lt;int&gt;</th></tr>\n",
       "</thead>\n",
       "<tbody>\n",
       "\t<tr><th scope=row>1</th><td>Bulbasaur            </td><td>318</td><td> 49</td><td> 49</td></tr>\n",
       "\t<tr><th scope=row>2</th><td>Ivysaur              </td><td>405</td><td> 62</td><td> 63</td></tr>\n",
       "\t<tr><th scope=row>3</th><td>Venusaur             </td><td>525</td><td> 82</td><td> 83</td></tr>\n",
       "\t<tr><th scope=row>4</th><td>VenusaurMega Venusaur</td><td>625</td><td>100</td><td>123</td></tr>\n",
       "\t<tr><th scope=row>5</th><td>Charmander           </td><td>309</td><td> 52</td><td> 43</td></tr>\n",
       "\t<tr><th scope=row>6</th><td>Charmeleon           </td><td>405</td><td> 64</td><td> 58</td></tr>\n",
       "</tbody>\n",
       "</table>\n"
      ],
      "text/latex": [
       "A data.frame: 6 × 4\n",
       "\\begin{tabular}{r|llll}\n",
       "  & Name & Total & Attack & Defense\\\\\n",
       "  & <chr> & <int> & <int> & <int>\\\\\n",
       "\\hline\n",
       "\t1 & Bulbasaur             & 318 &  49 &  49\\\\\n",
       "\t2 & Ivysaur               & 405 &  62 &  63\\\\\n",
       "\t3 & Venusaur              & 525 &  82 &  83\\\\\n",
       "\t4 & VenusaurMega Venusaur & 625 & 100 & 123\\\\\n",
       "\t5 & Charmander            & 309 &  52 &  43\\\\\n",
       "\t6 & Charmeleon            & 405 &  64 &  58\\\\\n",
       "\\end{tabular}\n"
      ],
      "text/markdown": [
       "\n",
       "A data.frame: 6 × 4\n",
       "\n",
       "| <!--/--> | Name &lt;chr&gt; | Total &lt;int&gt; | Attack &lt;int&gt; | Defense &lt;int&gt; |\n",
       "|---|---|---|---|---|\n",
       "| 1 | Bulbasaur             | 318 |  49 |  49 |\n",
       "| 2 | Ivysaur               | 405 |  62 |  63 |\n",
       "| 3 | Venusaur              | 525 |  82 |  83 |\n",
       "| 4 | VenusaurMega Venusaur | 625 | 100 | 123 |\n",
       "| 5 | Charmander            | 309 |  52 |  43 |\n",
       "| 6 | Charmeleon            | 405 |  64 |  58 |\n",
       "\n"
      ],
      "text/plain": [
       "  Name                  Total Attack Defense\n",
       "1 Bulbasaur             318    49     49    \n",
       "2 Ivysaur               405    62     63    \n",
       "3 Venusaur              525    82     83    \n",
       "4 VenusaurMega Venusaur 625   100    123    \n",
       "5 Charmander            309    52     43    \n",
       "6 Charmeleon            405    64     58    "
      ]
     },
     "metadata": {},
     "output_type": "display_data"
    }
   ],
   "source": [
    "pokemon_sub2 = pokemon %>% select(c(2, 5, 7, 8))\n",
    "head(pokemon_sub2)"
   ]
  },
  {
   "cell_type": "code",
   "execution_count": 31,
   "metadata": {},
   "outputs": [
    {
     "data": {
      "text/html": [
       "<table class=\"dataframe\">\n",
       "<caption>A data.frame: 6 × 3</caption>\n",
       "<thead>\n",
       "\t<tr><th></th><th scope=col>Name</th><th scope=col>Total</th><th scope=col>Attack</th></tr>\n",
       "\t<tr><th></th><th scope=col>&lt;chr&gt;</th><th scope=col>&lt;int&gt;</th><th scope=col>&lt;int&gt;</th></tr>\n",
       "</thead>\n",
       "<tbody>\n",
       "\t<tr><th scope=row>1</th><td>Bulbasaur            </td><td>318</td><td> 49</td></tr>\n",
       "\t<tr><th scope=row>2</th><td>Ivysaur              </td><td>405</td><td> 62</td></tr>\n",
       "\t<tr><th scope=row>3</th><td>Venusaur             </td><td>525</td><td> 82</td></tr>\n",
       "\t<tr><th scope=row>4</th><td>VenusaurMega Venusaur</td><td>625</td><td>100</td></tr>\n",
       "\t<tr><th scope=row>5</th><td>Charmander           </td><td>309</td><td> 52</td></tr>\n",
       "\t<tr><th scope=row>6</th><td>Charmeleon           </td><td>405</td><td> 64</td></tr>\n",
       "</tbody>\n",
       "</table>\n"
      ],
      "text/latex": [
       "A data.frame: 6 × 3\n",
       "\\begin{tabular}{r|lll}\n",
       "  & Name & Total & Attack\\\\\n",
       "  & <chr> & <int> & <int>\\\\\n",
       "\\hline\n",
       "\t1 & Bulbasaur             & 318 &  49\\\\\n",
       "\t2 & Ivysaur               & 405 &  62\\\\\n",
       "\t3 & Venusaur              & 525 &  82\\\\\n",
       "\t4 & VenusaurMega Venusaur & 625 & 100\\\\\n",
       "\t5 & Charmander            & 309 &  52\\\\\n",
       "\t6 & Charmeleon            & 405 &  64\\\\\n",
       "\\end{tabular}\n"
      ],
      "text/markdown": [
       "\n",
       "A data.frame: 6 × 3\n",
       "\n",
       "| <!--/--> | Name &lt;chr&gt; | Total &lt;int&gt; | Attack &lt;int&gt; |\n",
       "|---|---|---|---|\n",
       "| 1 | Bulbasaur             | 318 |  49 |\n",
       "| 2 | Ivysaur               | 405 |  62 |\n",
       "| 3 | Venusaur              | 525 |  82 |\n",
       "| 4 | VenusaurMega Venusaur | 625 | 100 |\n",
       "| 5 | Charmander            | 309 |  52 |\n",
       "| 6 | Charmeleon            | 405 |  64 |\n",
       "\n"
      ],
      "text/plain": [
       "  Name                  Total Attack\n",
       "1 Bulbasaur             318    49   \n",
       "2 Ivysaur               405    62   \n",
       "3 Venusaur              525    82   \n",
       "4 VenusaurMega Venusaur 625   100   \n",
       "5 Charmander            309    52   \n",
       "6 Charmeleon            405    64   "
      ]
     },
     "metadata": {},
     "output_type": "display_data"
    }
   ],
   "source": [
    "head(select(pokemon, c(Name, Total, Attack)))"
   ]
  },
  {
   "cell_type": "code",
   "execution_count": 33,
   "metadata": {},
   "outputs": [
    {
     "data": {
      "text/html": [
       "<table class=\"dataframe\">\n",
       "<caption>A data.frame: 6 × 9</caption>\n",
       "<thead>\n",
       "\t<tr><th></th><th scope=col>X.</th><th scope=col>Total</th><th scope=col>HP</th><th scope=col>Attack</th><th scope=col>Defense</th><th scope=col>Sp..Atk</th><th scope=col>Sp..Def</th><th scope=col>Speed</th><th scope=col>Generation</th></tr>\n",
       "\t<tr><th></th><th scope=col>&lt;int&gt;</th><th scope=col>&lt;int&gt;</th><th scope=col>&lt;int&gt;</th><th scope=col>&lt;int&gt;</th><th scope=col>&lt;int&gt;</th><th scope=col>&lt;int&gt;</th><th scope=col>&lt;int&gt;</th><th scope=col>&lt;int&gt;</th><th scope=col>&lt;int&gt;</th></tr>\n",
       "</thead>\n",
       "<tbody>\n",
       "\t<tr><th scope=row>1</th><td>1</td><td>318</td><td>45</td><td> 49</td><td> 49</td><td> 65</td><td> 65</td><td>45</td><td>1</td></tr>\n",
       "\t<tr><th scope=row>2</th><td>2</td><td>405</td><td>60</td><td> 62</td><td> 63</td><td> 80</td><td> 80</td><td>60</td><td>1</td></tr>\n",
       "\t<tr><th scope=row>3</th><td>3</td><td>525</td><td>80</td><td> 82</td><td> 83</td><td>100</td><td>100</td><td>80</td><td>1</td></tr>\n",
       "\t<tr><th scope=row>4</th><td>3</td><td>625</td><td>80</td><td>100</td><td>123</td><td>122</td><td>120</td><td>80</td><td>1</td></tr>\n",
       "\t<tr><th scope=row>5</th><td>4</td><td>309</td><td>39</td><td> 52</td><td> 43</td><td> 60</td><td> 50</td><td>65</td><td>1</td></tr>\n",
       "\t<tr><th scope=row>6</th><td>5</td><td>405</td><td>58</td><td> 64</td><td> 58</td><td> 80</td><td> 65</td><td>80</td><td>1</td></tr>\n",
       "</tbody>\n",
       "</table>\n"
      ],
      "text/latex": [
       "A data.frame: 6 × 9\n",
       "\\begin{tabular}{r|lllllllll}\n",
       "  & X. & Total & HP & Attack & Defense & Sp..Atk & Sp..Def & Speed & Generation\\\\\n",
       "  & <int> & <int> & <int> & <int> & <int> & <int> & <int> & <int> & <int>\\\\\n",
       "\\hline\n",
       "\t1 & 1 & 318 & 45 &  49 &  49 &  65 &  65 & 45 & 1\\\\\n",
       "\t2 & 2 & 405 & 60 &  62 &  63 &  80 &  80 & 60 & 1\\\\\n",
       "\t3 & 3 & 525 & 80 &  82 &  83 & 100 & 100 & 80 & 1\\\\\n",
       "\t4 & 3 & 625 & 80 & 100 & 123 & 122 & 120 & 80 & 1\\\\\n",
       "\t5 & 4 & 309 & 39 &  52 &  43 &  60 &  50 & 65 & 1\\\\\n",
       "\t6 & 5 & 405 & 58 &  64 &  58 &  80 &  65 & 80 & 1\\\\\n",
       "\\end{tabular}\n"
      ],
      "text/markdown": [
       "\n",
       "A data.frame: 6 × 9\n",
       "\n",
       "| <!--/--> | X. &lt;int&gt; | Total &lt;int&gt; | HP &lt;int&gt; | Attack &lt;int&gt; | Defense &lt;int&gt; | Sp..Atk &lt;int&gt; | Sp..Def &lt;int&gt; | Speed &lt;int&gt; | Generation &lt;int&gt; |\n",
       "|---|---|---|---|---|---|---|---|---|---|\n",
       "| 1 | 1 | 318 | 45 |  49 |  49 |  65 |  65 | 45 | 1 |\n",
       "| 2 | 2 | 405 | 60 |  62 |  63 |  80 |  80 | 60 | 1 |\n",
       "| 3 | 3 | 525 | 80 |  82 |  83 | 100 | 100 | 80 | 1 |\n",
       "| 4 | 3 | 625 | 80 | 100 | 123 | 122 | 120 | 80 | 1 |\n",
       "| 5 | 4 | 309 | 39 |  52 |  43 |  60 |  50 | 65 | 1 |\n",
       "| 6 | 5 | 405 | 58 |  64 |  58 |  80 |  65 | 80 | 1 |\n",
       "\n"
      ],
      "text/plain": [
       "  X. Total HP Attack Defense Sp..Atk Sp..Def Speed Generation\n",
       "1 1  318   45  49     49      65      65     45    1         \n",
       "2 2  405   60  62     63      80      80     60    1         \n",
       "3 3  525   80  82     83     100     100     80    1         \n",
       "4 3  625   80 100    123     122     120     80    1         \n",
       "5 4  309   39  52     43      60      50     65    1         \n",
       "6 5  405   58  64     58      80      65     80    1         "
      ]
     },
     "metadata": {},
     "output_type": "display_data"
    }
   ],
   "source": [
    "head(select_if(pokemon, is.numeric))"
   ]
  },
  {
   "cell_type": "code",
   "execution_count": 35,
   "metadata": {},
   "outputs": [
    {
     "data": {
      "text/html": [
       "<table class=\"dataframe\">\n",
       "<caption>A data.frame: 6 × 4</caption>\n",
       "<thead>\n",
       "\t<tr><th></th><th scope=col>Name</th><th scope=col>Total</th><th scope=col>Attack</th><th scope=col>Defense</th></tr>\n",
       "\t<tr><th></th><th scope=col>&lt;chr&gt;</th><th scope=col>&lt;int&gt;</th><th scope=col>&lt;int&gt;</th><th scope=col>&lt;int&gt;</th></tr>\n",
       "</thead>\n",
       "<tbody>\n",
       "\t<tr><th scope=row>1</th><td>Venusaur           </td><td>525</td><td> 82</td><td> 83</td></tr>\n",
       "\t<tr><th scope=row>2</th><td>Charizard          </td><td>534</td><td> 84</td><td> 78</td></tr>\n",
       "\t<tr><th scope=row>3</th><td>Blastoise          </td><td>530</td><td> 83</td><td>100</td></tr>\n",
       "\t<tr><th scope=row>4</th><td>PidgeotMega Pidgeot</td><td>579</td><td> 80</td><td> 80</td></tr>\n",
       "\t<tr><th scope=row>5</th><td>Nidoqueen          </td><td>505</td><td> 92</td><td> 87</td></tr>\n",
       "\t<tr><th scope=row>6</th><td>Nidoking           </td><td>505</td><td>102</td><td> 77</td></tr>\n",
       "</tbody>\n",
       "</table>\n"
      ],
      "text/latex": [
       "A data.frame: 6 × 4\n",
       "\\begin{tabular}{r|llll}\n",
       "  & Name & Total & Attack & Defense\\\\\n",
       "  & <chr> & <int> & <int> & <int>\\\\\n",
       "\\hline\n",
       "\t1 & Venusaur            & 525 &  82 &  83\\\\\n",
       "\t2 & Charizard           & 534 &  84 &  78\\\\\n",
       "\t3 & Blastoise           & 530 &  83 & 100\\\\\n",
       "\t4 & PidgeotMega Pidgeot & 579 &  80 &  80\\\\\n",
       "\t5 & Nidoqueen           & 505 &  92 &  87\\\\\n",
       "\t6 & Nidoking            & 505 & 102 &  77\\\\\n",
       "\\end{tabular}\n"
      ],
      "text/markdown": [
       "\n",
       "A data.frame: 6 × 4\n",
       "\n",
       "| <!--/--> | Name &lt;chr&gt; | Total &lt;int&gt; | Attack &lt;int&gt; | Defense &lt;int&gt; |\n",
       "|---|---|---|---|---|\n",
       "| 1 | Venusaur            | 525 |  82 |  83 |\n",
       "| 2 | Charizard           | 534 |  84 |  78 |\n",
       "| 3 | Blastoise           | 530 |  83 | 100 |\n",
       "| 4 | PidgeotMega Pidgeot | 579 |  80 |  80 |\n",
       "| 5 | Nidoqueen           | 505 |  92 |  87 |\n",
       "| 6 | Nidoking            | 505 | 102 |  77 |\n",
       "\n"
      ],
      "text/plain": [
       "  Name                Total Attack Defense\n",
       "1 Venusaur            525    82     83    \n",
       "2 Charizard           534    84     78    \n",
       "3 Blastoise           530    83    100    \n",
       "4 PidgeotMega Pidgeot 579    80     80    \n",
       "5 Nidoqueen           505    92     87    \n",
       "6 Nidoking            505   102     77    "
      ]
     },
     "metadata": {},
     "output_type": "display_data"
    }
   ],
   "source": [
    "head(filter(pokemon_sub, Total >= 500, Total <=600))"
   ]
  },
  {
   "cell_type": "code",
   "execution_count": 38,
   "metadata": {},
   "outputs": [
    {
     "data": {
      "text/html": [
       "<table class=\"dataframe\">\n",
       "<caption>A data.frame: 6 × 5</caption>\n",
       "<thead>\n",
       "\t<tr><th></th><th scope=col>Name</th><th scope=col>Total</th><th scope=col>Attack</th><th scope=col>Defense</th><th scope=col>Compare</th></tr>\n",
       "\t<tr><th></th><th scope=col>&lt;chr&gt;</th><th scope=col>&lt;int&gt;</th><th scope=col>&lt;int&gt;</th><th scope=col>&lt;int&gt;</th><th scope=col>&lt;dbl&gt;</th></tr>\n",
       "</thead>\n",
       "<tbody>\n",
       "\t<tr><th scope=row>1</th><td>Bulbasaur            </td><td>318</td><td> 49</td><td> 49</td><td>0</td></tr>\n",
       "\t<tr><th scope=row>2</th><td>Ivysaur              </td><td>405</td><td> 62</td><td> 63</td><td>0</td></tr>\n",
       "\t<tr><th scope=row>3</th><td>Venusaur             </td><td>525</td><td> 82</td><td> 83</td><td>0</td></tr>\n",
       "\t<tr><th scope=row>4</th><td>VenusaurMega Venusaur</td><td>625</td><td>100</td><td>123</td><td>0</td></tr>\n",
       "\t<tr><th scope=row>5</th><td>Charmander           </td><td>309</td><td> 52</td><td> 43</td><td>1</td></tr>\n",
       "\t<tr><th scope=row>6</th><td>Charmeleon           </td><td>405</td><td> 64</td><td> 58</td><td>1</td></tr>\n",
       "</tbody>\n",
       "</table>\n"
      ],
      "text/latex": [
       "A data.frame: 6 × 5\n",
       "\\begin{tabular}{r|lllll}\n",
       "  & Name & Total & Attack & Defense & Compare\\\\\n",
       "  & <chr> & <int> & <int> & <int> & <dbl>\\\\\n",
       "\\hline\n",
       "\t1 & Bulbasaur             & 318 &  49 &  49 & 0\\\\\n",
       "\t2 & Ivysaur               & 405 &  62 &  63 & 0\\\\\n",
       "\t3 & Venusaur              & 525 &  82 &  83 & 0\\\\\n",
       "\t4 & VenusaurMega Venusaur & 625 & 100 & 123 & 0\\\\\n",
       "\t5 & Charmander            & 309 &  52 &  43 & 1\\\\\n",
       "\t6 & Charmeleon            & 405 &  64 &  58 & 1\\\\\n",
       "\\end{tabular}\n"
      ],
      "text/markdown": [
       "\n",
       "A data.frame: 6 × 5\n",
       "\n",
       "| <!--/--> | Name &lt;chr&gt; | Total &lt;int&gt; | Attack &lt;int&gt; | Defense &lt;int&gt; | Compare &lt;dbl&gt; |\n",
       "|---|---|---|---|---|---|\n",
       "| 1 | Bulbasaur             | 318 |  49 |  49 | 0 |\n",
       "| 2 | Ivysaur               | 405 |  62 |  63 | 0 |\n",
       "| 3 | Venusaur              | 525 |  82 |  83 | 0 |\n",
       "| 4 | VenusaurMega Venusaur | 625 | 100 | 123 | 0 |\n",
       "| 5 | Charmander            | 309 |  52 |  43 | 1 |\n",
       "| 6 | Charmeleon            | 405 |  64 |  58 | 1 |\n",
       "\n"
      ],
      "text/plain": [
       "  Name                  Total Attack Defense Compare\n",
       "1 Bulbasaur             318    49     49     0      \n",
       "2 Ivysaur               405    62     63     0      \n",
       "3 Venusaur              525    82     83     0      \n",
       "4 VenusaurMega Venusaur 625   100    123     0      \n",
       "5 Charmander            309    52     43     1      \n",
       "6 Charmeleon            405    64     58     1      "
      ]
     },
     "metadata": {},
     "output_type": "display_data"
    }
   ],
   "source": [
    "pokemon_sub = mutate(pokemon_sub, Compare = ifelse(Attack > Defense, 1, 0))\n",
    "head(pokemon_sub)"
   ]
  },
  {
   "cell_type": "code",
   "execution_count": 39,
   "metadata": {},
   "outputs": [
    {
     "data": {
      "text/html": [
       "<table class=\"dataframe\">\n",
       "<caption>A data.frame: 6 × 5</caption>\n",
       "<thead>\n",
       "\t<tr><th></th><th scope=col>Name</th><th scope=col>Total</th><th scope=col>Attack</th><th scope=col>Defense</th><th scope=col>Compare</th></tr>\n",
       "\t<tr><th></th><th scope=col>&lt;chr&gt;</th><th scope=col>&lt;int&gt;</th><th scope=col>&lt;int&gt;</th><th scope=col>&lt;int&gt;</th><th scope=col>&lt;dbl&gt;</th></tr>\n",
       "</thead>\n",
       "<tbody>\n",
       "\t<tr><th scope=row>1</th><td>Sunkern  </td><td>180</td><td>30</td><td>30</td><td>0</td></tr>\n",
       "\t<tr><th scope=row>2</th><td>Azurill  </td><td>190</td><td>20</td><td>40</td><td>0</td></tr>\n",
       "\t<tr><th scope=row>3</th><td>Kricketot</td><td>194</td><td>25</td><td>41</td><td>0</td></tr>\n",
       "\t<tr><th scope=row>4</th><td>Caterpie </td><td>195</td><td>30</td><td>35</td><td>0</td></tr>\n",
       "\t<tr><th scope=row>5</th><td>Weedle   </td><td>195</td><td>35</td><td>30</td><td>1</td></tr>\n",
       "\t<tr><th scope=row>6</th><td>Wurmple  </td><td>195</td><td>45</td><td>35</td><td>1</td></tr>\n",
       "</tbody>\n",
       "</table>\n"
      ],
      "text/latex": [
       "A data.frame: 6 × 5\n",
       "\\begin{tabular}{r|lllll}\n",
       "  & Name & Total & Attack & Defense & Compare\\\\\n",
       "  & <chr> & <int> & <int> & <int> & <dbl>\\\\\n",
       "\\hline\n",
       "\t1 & Sunkern   & 180 & 30 & 30 & 0\\\\\n",
       "\t2 & Azurill   & 190 & 20 & 40 & 0\\\\\n",
       "\t3 & Kricketot & 194 & 25 & 41 & 0\\\\\n",
       "\t4 & Caterpie  & 195 & 30 & 35 & 0\\\\\n",
       "\t5 & Weedle    & 195 & 35 & 30 & 1\\\\\n",
       "\t6 & Wurmple   & 195 & 45 & 35 & 1\\\\\n",
       "\\end{tabular}\n"
      ],
      "text/markdown": [
       "\n",
       "A data.frame: 6 × 5\n",
       "\n",
       "| <!--/--> | Name &lt;chr&gt; | Total &lt;int&gt; | Attack &lt;int&gt; | Defense &lt;int&gt; | Compare &lt;dbl&gt; |\n",
       "|---|---|---|---|---|---|\n",
       "| 1 | Sunkern   | 180 | 30 | 30 | 0 |\n",
       "| 2 | Azurill   | 190 | 20 | 40 | 0 |\n",
       "| 3 | Kricketot | 194 | 25 | 41 | 0 |\n",
       "| 4 | Caterpie  | 195 | 30 | 35 | 0 |\n",
       "| 5 | Weedle    | 195 | 35 | 30 | 1 |\n",
       "| 6 | Wurmple   | 195 | 45 | 35 | 1 |\n",
       "\n"
      ],
      "text/plain": [
       "  Name      Total Attack Defense Compare\n",
       "1 Sunkern   180   30     30      0      \n",
       "2 Azurill   190   20     40      0      \n",
       "3 Kricketot 194   25     41      0      \n",
       "4 Caterpie  195   30     35      0      \n",
       "5 Weedle    195   35     30      1      \n",
       "6 Wurmple   195   45     35      1      "
      ]
     },
     "metadata": {},
     "output_type": "display_data"
    }
   ],
   "source": [
    "head(arrange(pokemon_sub, Total))"
   ]
  },
  {
   "cell_type": "code",
   "execution_count": 40,
   "metadata": {},
   "outputs": [
    {
     "data": {
      "text/html": [
       "<table class=\"dataframe\">\n",
       "<caption>A data.frame: 6 × 5</caption>\n",
       "<thead>\n",
       "\t<tr><th></th><th scope=col>Name</th><th scope=col>Total</th><th scope=col>Attack</th><th scope=col>Defense</th><th scope=col>Compare</th></tr>\n",
       "\t<tr><th></th><th scope=col>&lt;chr&gt;</th><th scope=col>&lt;int&gt;</th><th scope=col>&lt;int&gt;</th><th scope=col>&lt;int&gt;</th><th scope=col>&lt;dbl&gt;</th></tr>\n",
       "</thead>\n",
       "<tbody>\n",
       "\t<tr><th scope=row>1</th><td>MewtwoMega Mewtwo X  </td><td>780</td><td>190</td><td>100</td><td>1</td></tr>\n",
       "\t<tr><th scope=row>2</th><td>MewtwoMega Mewtwo Y  </td><td>780</td><td>150</td><td> 70</td><td>1</td></tr>\n",
       "\t<tr><th scope=row>3</th><td>RayquazaMega Rayquaza</td><td>780</td><td>180</td><td>100</td><td>1</td></tr>\n",
       "\t<tr><th scope=row>4</th><td>KyogrePrimal Kyogre  </td><td>770</td><td>150</td><td> 90</td><td>1</td></tr>\n",
       "\t<tr><th scope=row>5</th><td>GroudonPrimal Groudon</td><td>770</td><td>180</td><td>160</td><td>1</td></tr>\n",
       "\t<tr><th scope=row>6</th><td>Arceus               </td><td>720</td><td>120</td><td>120</td><td>0</td></tr>\n",
       "</tbody>\n",
       "</table>\n"
      ],
      "text/latex": [
       "A data.frame: 6 × 5\n",
       "\\begin{tabular}{r|lllll}\n",
       "  & Name & Total & Attack & Defense & Compare\\\\\n",
       "  & <chr> & <int> & <int> & <int> & <dbl>\\\\\n",
       "\\hline\n",
       "\t1 & MewtwoMega Mewtwo X   & 780 & 190 & 100 & 1\\\\\n",
       "\t2 & MewtwoMega Mewtwo Y   & 780 & 150 &  70 & 1\\\\\n",
       "\t3 & RayquazaMega Rayquaza & 780 & 180 & 100 & 1\\\\\n",
       "\t4 & KyogrePrimal Kyogre   & 770 & 150 &  90 & 1\\\\\n",
       "\t5 & GroudonPrimal Groudon & 770 & 180 & 160 & 1\\\\\n",
       "\t6 & Arceus                & 720 & 120 & 120 & 0\\\\\n",
       "\\end{tabular}\n"
      ],
      "text/markdown": [
       "\n",
       "A data.frame: 6 × 5\n",
       "\n",
       "| <!--/--> | Name &lt;chr&gt; | Total &lt;int&gt; | Attack &lt;int&gt; | Defense &lt;int&gt; | Compare &lt;dbl&gt; |\n",
       "|---|---|---|---|---|---|\n",
       "| 1 | MewtwoMega Mewtwo X   | 780 | 190 | 100 | 1 |\n",
       "| 2 | MewtwoMega Mewtwo Y   | 780 | 150 |  70 | 1 |\n",
       "| 3 | RayquazaMega Rayquaza | 780 | 180 | 100 | 1 |\n",
       "| 4 | KyogrePrimal Kyogre   | 770 | 150 |  90 | 1 |\n",
       "| 5 | GroudonPrimal Groudon | 770 | 180 | 160 | 1 |\n",
       "| 6 | Arceus                | 720 | 120 | 120 | 0 |\n",
       "\n"
      ],
      "text/plain": [
       "  Name                  Total Attack Defense Compare\n",
       "1 MewtwoMega Mewtwo X   780   190    100     1      \n",
       "2 MewtwoMega Mewtwo Y   780   150     70     1      \n",
       "3 RayquazaMega Rayquaza 780   180    100     1      \n",
       "4 KyogrePrimal Kyogre   770   150     90     1      \n",
       "5 GroudonPrimal Groudon 770   180    160     1      \n",
       "6 Arceus                720   120    120     0      "
      ]
     },
     "metadata": {},
     "output_type": "display_data"
    }
   ],
   "source": [
    "head(arrange(pokemon_sub, desc(Total)))"
   ]
  },
  {
   "cell_type": "code",
   "execution_count": 41,
   "metadata": {},
   "outputs": [],
   "source": [
    "group = group_by(pokemon, Type.1)\n",
    "summary_type1 = summarize(group,\n",
    "                         count = n(),\n",
    "                         mean.Attack = mean(Attack, na.rm = T),\n",
    "                         median.Attack = median(Attack, na.rm = T),\n",
    "                         mean.Defense = mean(Defense, na.rm = T),\n",
    "                         median.Defense = median(Defense, na.rm = T),\n",
    "                         )"
   ]
  },
  {
   "cell_type": "code",
   "execution_count": 44,
   "metadata": {},
   "outputs": [
    {
     "data": {
      "text/html": [
       "<table class=\"dataframe\">\n",
       "<caption>A tibble: 18 × 6</caption>\n",
       "<thead>\n",
       "\t<tr><th scope=col>Type.1</th><th scope=col>count</th><th scope=col>mean.Attack</th><th scope=col>median.Attack</th><th scope=col>mean.Defense</th><th scope=col>median.Defense</th></tr>\n",
       "\t<tr><th scope=col>&lt;chr&gt;</th><th scope=col>&lt;int&gt;</th><th scope=col>&lt;dbl&gt;</th><th scope=col>&lt;dbl&gt;</th><th scope=col>&lt;dbl&gt;</th><th scope=col>&lt;dbl&gt;</th></tr>\n",
       "</thead>\n",
       "<tbody>\n",
       "\t<tr><td>Dragon  </td><td> 32</td><td>112.12500</td><td>113.5</td><td> 86.37500</td><td> 90.0</td></tr>\n",
       "\t<tr><td>Fighting</td><td> 27</td><td> 96.77778</td><td>100.0</td><td> 65.92593</td><td> 70.0</td></tr>\n",
       "\t<tr><td>Ground  </td><td> 32</td><td> 95.75000</td><td> 85.0</td><td> 84.84375</td><td> 84.5</td></tr>\n",
       "\t<tr><td>Rock    </td><td> 44</td><td> 92.86364</td><td> 95.0</td><td>100.79545</td><td>100.0</td></tr>\n",
       "\t<tr><td>Steel   </td><td> 27</td><td> 92.70370</td><td> 89.0</td><td>126.37037</td><td>120.0</td></tr>\n",
       "\t<tr><td>Dark    </td><td> 31</td><td> 88.38710</td><td> 88.0</td><td> 70.22581</td><td> 70.0</td></tr>\n",
       "\t<tr><td>Fire    </td><td> 52</td><td> 84.76923</td><td> 84.5</td><td> 67.76923</td><td> 64.0</td></tr>\n",
       "\t<tr><td>Flying  </td><td>  4</td><td> 78.75000</td><td> 85.0</td><td> 66.25000</td><td> 75.0</td></tr>\n",
       "\t<tr><td>Poison  </td><td> 28</td><td> 74.67857</td><td> 74.0</td><td> 68.82143</td><td> 67.0</td></tr>\n",
       "\t<tr><td>Water   </td><td>112</td><td> 74.15179</td><td> 72.0</td><td> 72.94643</td><td> 70.0</td></tr>\n",
       "\t<tr><td>Ghost   </td><td> 32</td><td> 73.78125</td><td> 66.0</td><td> 81.18750</td><td> 72.5</td></tr>\n",
       "\t<tr><td>Normal  </td><td> 98</td><td> 73.46939</td><td> 70.5</td><td> 59.84694</td><td> 60.0</td></tr>\n",
       "\t<tr><td>Grass   </td><td> 70</td><td> 73.21429</td><td> 70.0</td><td> 70.80000</td><td> 66.0</td></tr>\n",
       "\t<tr><td>Ice     </td><td> 24</td><td> 72.75000</td><td> 67.0</td><td> 71.41667</td><td> 75.0</td></tr>\n",
       "\t<tr><td>Psychic </td><td> 57</td><td> 71.45614</td><td> 57.0</td><td> 67.68421</td><td> 65.0</td></tr>\n",
       "\t<tr><td>Bug     </td><td> 69</td><td> 70.97101</td><td> 65.0</td><td> 70.72464</td><td> 60.0</td></tr>\n",
       "\t<tr><td>Electric</td><td> 44</td><td> 69.09091</td><td> 65.0</td><td> 66.29545</td><td> 65.0</td></tr>\n",
       "\t<tr><td>Fairy   </td><td> 17</td><td> 61.52941</td><td> 52.0</td><td> 65.70588</td><td> 66.0</td></tr>\n",
       "</tbody>\n",
       "</table>\n"
      ],
      "text/latex": [
       "A tibble: 18 × 6\n",
       "\\begin{tabular}{llllll}\n",
       " Type.1 & count & mean.Attack & median.Attack & mean.Defense & median.Defense\\\\\n",
       " <chr> & <int> & <dbl> & <dbl> & <dbl> & <dbl>\\\\\n",
       "\\hline\n",
       "\t Dragon   &  32 & 112.12500 & 113.5 &  86.37500 &  90.0\\\\\n",
       "\t Fighting &  27 &  96.77778 & 100.0 &  65.92593 &  70.0\\\\\n",
       "\t Ground   &  32 &  95.75000 &  85.0 &  84.84375 &  84.5\\\\\n",
       "\t Rock     &  44 &  92.86364 &  95.0 & 100.79545 & 100.0\\\\\n",
       "\t Steel    &  27 &  92.70370 &  89.0 & 126.37037 & 120.0\\\\\n",
       "\t Dark     &  31 &  88.38710 &  88.0 &  70.22581 &  70.0\\\\\n",
       "\t Fire     &  52 &  84.76923 &  84.5 &  67.76923 &  64.0\\\\\n",
       "\t Flying   &   4 &  78.75000 &  85.0 &  66.25000 &  75.0\\\\\n",
       "\t Poison   &  28 &  74.67857 &  74.0 &  68.82143 &  67.0\\\\\n",
       "\t Water    & 112 &  74.15179 &  72.0 &  72.94643 &  70.0\\\\\n",
       "\t Ghost    &  32 &  73.78125 &  66.0 &  81.18750 &  72.5\\\\\n",
       "\t Normal   &  98 &  73.46939 &  70.5 &  59.84694 &  60.0\\\\\n",
       "\t Grass    &  70 &  73.21429 &  70.0 &  70.80000 &  66.0\\\\\n",
       "\t Ice      &  24 &  72.75000 &  67.0 &  71.41667 &  75.0\\\\\n",
       "\t Psychic  &  57 &  71.45614 &  57.0 &  67.68421 &  65.0\\\\\n",
       "\t Bug      &  69 &  70.97101 &  65.0 &  70.72464 &  60.0\\\\\n",
       "\t Electric &  44 &  69.09091 &  65.0 &  66.29545 &  65.0\\\\\n",
       "\t Fairy    &  17 &  61.52941 &  52.0 &  65.70588 &  66.0\\\\\n",
       "\\end{tabular}\n"
      ],
      "text/markdown": [
       "\n",
       "A tibble: 18 × 6\n",
       "\n",
       "| Type.1 &lt;chr&gt; | count &lt;int&gt; | mean.Attack &lt;dbl&gt; | median.Attack &lt;dbl&gt; | mean.Defense &lt;dbl&gt; | median.Defense &lt;dbl&gt; |\n",
       "|---|---|---|---|---|---|\n",
       "| Dragon   |  32 | 112.12500 | 113.5 |  86.37500 |  90.0 |\n",
       "| Fighting |  27 |  96.77778 | 100.0 |  65.92593 |  70.0 |\n",
       "| Ground   |  32 |  95.75000 |  85.0 |  84.84375 |  84.5 |\n",
       "| Rock     |  44 |  92.86364 |  95.0 | 100.79545 | 100.0 |\n",
       "| Steel    |  27 |  92.70370 |  89.0 | 126.37037 | 120.0 |\n",
       "| Dark     |  31 |  88.38710 |  88.0 |  70.22581 |  70.0 |\n",
       "| Fire     |  52 |  84.76923 |  84.5 |  67.76923 |  64.0 |\n",
       "| Flying   |   4 |  78.75000 |  85.0 |  66.25000 |  75.0 |\n",
       "| Poison   |  28 |  74.67857 |  74.0 |  68.82143 |  67.0 |\n",
       "| Water    | 112 |  74.15179 |  72.0 |  72.94643 |  70.0 |\n",
       "| Ghost    |  32 |  73.78125 |  66.0 |  81.18750 |  72.5 |\n",
       "| Normal   |  98 |  73.46939 |  70.5 |  59.84694 |  60.0 |\n",
       "| Grass    |  70 |  73.21429 |  70.0 |  70.80000 |  66.0 |\n",
       "| Ice      |  24 |  72.75000 |  67.0 |  71.41667 |  75.0 |\n",
       "| Psychic  |  57 |  71.45614 |  57.0 |  67.68421 |  65.0 |\n",
       "| Bug      |  69 |  70.97101 |  65.0 |  70.72464 |  60.0 |\n",
       "| Electric |  44 |  69.09091 |  65.0 |  66.29545 |  65.0 |\n",
       "| Fairy    |  17 |  61.52941 |  52.0 |  65.70588 |  66.0 |\n",
       "\n"
      ],
      "text/plain": [
       "   Type.1   count mean.Attack median.Attack mean.Defense median.Defense\n",
       "1  Dragon    32   112.12500   113.5          86.37500     90.0         \n",
       "2  Fighting  27    96.77778   100.0          65.92593     70.0         \n",
       "3  Ground    32    95.75000    85.0          84.84375     84.5         \n",
       "4  Rock      44    92.86364    95.0         100.79545    100.0         \n",
       "5  Steel     27    92.70370    89.0         126.37037    120.0         \n",
       "6  Dark      31    88.38710    88.0          70.22581     70.0         \n",
       "7  Fire      52    84.76923    84.5          67.76923     64.0         \n",
       "8  Flying     4    78.75000    85.0          66.25000     75.0         \n",
       "9  Poison    28    74.67857    74.0          68.82143     67.0         \n",
       "10 Water    112    74.15179    72.0          72.94643     70.0         \n",
       "11 Ghost     32    73.78125    66.0          81.18750     72.5         \n",
       "12 Normal    98    73.46939    70.5          59.84694     60.0         \n",
       "13 Grass     70    73.21429    70.0          70.80000     66.0         \n",
       "14 Ice       24    72.75000    67.0          71.41667     75.0         \n",
       "15 Psychic   57    71.45614    57.0          67.68421     65.0         \n",
       "16 Bug       69    70.97101    65.0          70.72464     60.0         \n",
       "17 Electric  44    69.09091    65.0          66.29545     65.0         \n",
       "18 Fairy     17    61.52941    52.0          65.70588     66.0         "
      ]
     },
     "metadata": {},
     "output_type": "display_data"
    }
   ],
   "source": [
    "arrange(summary_type1, desc(mean.Attack))"
   ]
  },
  {
   "cell_type": "code",
   "execution_count": 46,
   "metadata": {},
   "outputs": [
    {
     "data": {
      "text/html": [
       "<table class=\"dataframe\">\n",
       "<caption>A data.frame: 6 × 2</caption>\n",
       "<thead>\n",
       "\t<tr><th></th><th scope=col>Type.1</th><th scope=col>n</th></tr>\n",
       "\t<tr><th></th><th scope=col>&lt;chr&gt;</th><th scope=col>&lt;int&gt;</th></tr>\n",
       "</thead>\n",
       "<tbody>\n",
       "\t<tr><th scope=row>1</th><td>Bug     </td><td>69</td></tr>\n",
       "\t<tr><th scope=row>2</th><td>Dark    </td><td>31</td></tr>\n",
       "\t<tr><th scope=row>3</th><td>Dragon  </td><td>32</td></tr>\n",
       "\t<tr><th scope=row>4</th><td>Electric</td><td>44</td></tr>\n",
       "\t<tr><th scope=row>5</th><td>Fairy   </td><td>17</td></tr>\n",
       "\t<tr><th scope=row>6</th><td>Fighting</td><td>27</td></tr>\n",
       "</tbody>\n",
       "</table>\n"
      ],
      "text/latex": [
       "A data.frame: 6 × 2\n",
       "\\begin{tabular}{r|ll}\n",
       "  & Type.1 & n\\\\\n",
       "  & <chr> & <int>\\\\\n",
       "\\hline\n",
       "\t1 & Bug      & 69\\\\\n",
       "\t2 & Dark     & 31\\\\\n",
       "\t3 & Dragon   & 32\\\\\n",
       "\t4 & Electric & 44\\\\\n",
       "\t5 & Fairy    & 17\\\\\n",
       "\t6 & Fighting & 27\\\\\n",
       "\\end{tabular}\n"
      ],
      "text/markdown": [
       "\n",
       "A data.frame: 6 × 2\n",
       "\n",
       "| <!--/--> | Type.1 &lt;chr&gt; | n &lt;int&gt; |\n",
       "|---|---|---|\n",
       "| 1 | Bug      | 69 |\n",
       "| 2 | Dark     | 31 |\n",
       "| 3 | Dragon   | 32 |\n",
       "| 4 | Electric | 44 |\n",
       "| 5 | Fairy    | 17 |\n",
       "| 6 | Fighting | 27 |\n",
       "\n"
      ],
      "text/plain": [
       "  Type.1   n \n",
       "1 Bug      69\n",
       "2 Dark     31\n",
       "3 Dragon   32\n",
       "4 Electric 44\n",
       "5 Fairy    17\n",
       "6 Fighting 27"
      ]
     },
     "metadata": {},
     "output_type": "display_data"
    }
   ],
   "source": [
    "head(count(pokemon, Type.1))"
   ]
  },
  {
   "cell_type": "code",
   "execution_count": 52,
   "metadata": {},
   "outputs": [
    {
     "data": {
      "text/html": [
       "<table class=\"dataframe\">\n",
       "<caption>A data.frame: 10 × 13</caption>\n",
       "<thead>\n",
       "\t<tr><th scope=col>X.</th><th scope=col>Name</th><th scope=col>Type.1</th><th scope=col>Type.2</th><th scope=col>Total</th><th scope=col>HP</th><th scope=col>Attack</th><th scope=col>Defense</th><th scope=col>Sp..Atk</th><th scope=col>Sp..Def</th><th scope=col>Speed</th><th scope=col>Generation</th><th scope=col>Legendary</th></tr>\n",
       "\t<tr><th scope=col>&lt;int&gt;</th><th scope=col>&lt;chr&gt;</th><th scope=col>&lt;chr&gt;</th><th scope=col>&lt;chr&gt;</th><th scope=col>&lt;int&gt;</th><th scope=col>&lt;int&gt;</th><th scope=col>&lt;int&gt;</th><th scope=col>&lt;int&gt;</th><th scope=col>&lt;int&gt;</th><th scope=col>&lt;int&gt;</th><th scope=col>&lt;int&gt;</th><th scope=col>&lt;int&gt;</th><th scope=col>&lt;chr&gt;</th></tr>\n",
       "</thead>\n",
       "<tbody>\n",
       "\t<tr><td> 37</td><td>Vulpix                </td><td>Fire    </td><td>        </td><td>299</td><td> 38</td><td> 41</td><td>40</td><td> 50</td><td>65</td><td> 65</td><td>1</td><td>False</td></tr>\n",
       "\t<tr><td>358</td><td>Chimecho              </td><td>Psychic </td><td>        </td><td>425</td><td> 65</td><td> 50</td><td>70</td><td> 95</td><td>80</td><td> 65</td><td>3</td><td>False</td></tr>\n",
       "\t<tr><td>325</td><td>Spoink                </td><td>Psychic </td><td>        </td><td>330</td><td> 60</td><td> 25</td><td>35</td><td> 70</td><td>80</td><td> 60</td><td>3</td><td>False</td></tr>\n",
       "\t<tr><td>  4</td><td>Charmander            </td><td>Fire    </td><td>        </td><td>309</td><td> 39</td><td> 52</td><td>43</td><td> 60</td><td>50</td><td> 65</td><td>1</td><td>False</td></tr>\n",
       "\t<tr><td>158</td><td>Totodile              </td><td>Water   </td><td>        </td><td>314</td><td> 50</td><td> 65</td><td>64</td><td> 44</td><td>48</td><td> 43</td><td>2</td><td>False</td></tr>\n",
       "\t<tr><td>115</td><td>Kangaskhan            </td><td>Normal  </td><td>        </td><td>490</td><td>105</td><td> 95</td><td>80</td><td> 40</td><td>80</td><td> 90</td><td>1</td><td>False</td></tr>\n",
       "\t<tr><td>647</td><td>KeldeoResolute Forme  </td><td>Water   </td><td>Fighting</td><td>580</td><td> 91</td><td> 72</td><td>90</td><td>129</td><td>90</td><td>108</td><td>5</td><td>False</td></tr>\n",
       "\t<tr><td>108</td><td>Lickitung             </td><td>Normal  </td><td>        </td><td>385</td><td> 90</td><td> 55</td><td>75</td><td> 60</td><td>75</td><td> 30</td><td>1</td><td>False</td></tr>\n",
       "\t<tr><td>642</td><td>ThundurusTherian Forme</td><td>Electric</td><td>Flying  </td><td>580</td><td> 79</td><td>105</td><td>70</td><td>145</td><td>80</td><td>101</td><td>5</td><td>True </td></tr>\n",
       "\t<tr><td>603</td><td>Eelektrik             </td><td>Electric</td><td>        </td><td>405</td><td> 65</td><td> 85</td><td>70</td><td> 75</td><td>70</td><td> 40</td><td>5</td><td>False</td></tr>\n",
       "</tbody>\n",
       "</table>\n"
      ],
      "text/latex": [
       "A data.frame: 10 × 13\n",
       "\\begin{tabular}{lllllllllllll}\n",
       " X. & Name & Type.1 & Type.2 & Total & HP & Attack & Defense & Sp..Atk & Sp..Def & Speed & Generation & Legendary\\\\\n",
       " <int> & <chr> & <chr> & <chr> & <int> & <int> & <int> & <int> & <int> & <int> & <int> & <int> & <chr>\\\\\n",
       "\\hline\n",
       "\t  37 & Vulpix                 & Fire     &          & 299 &  38 &  41 & 40 &  50 & 65 &  65 & 1 & False\\\\\n",
       "\t 358 & Chimecho               & Psychic  &          & 425 &  65 &  50 & 70 &  95 & 80 &  65 & 3 & False\\\\\n",
       "\t 325 & Spoink                 & Psychic  &          & 330 &  60 &  25 & 35 &  70 & 80 &  60 & 3 & False\\\\\n",
       "\t   4 & Charmander             & Fire     &          & 309 &  39 &  52 & 43 &  60 & 50 &  65 & 1 & False\\\\\n",
       "\t 158 & Totodile               & Water    &          & 314 &  50 &  65 & 64 &  44 & 48 &  43 & 2 & False\\\\\n",
       "\t 115 & Kangaskhan             & Normal   &          & 490 & 105 &  95 & 80 &  40 & 80 &  90 & 1 & False\\\\\n",
       "\t 647 & KeldeoResolute Forme   & Water    & Fighting & 580 &  91 &  72 & 90 & 129 & 90 & 108 & 5 & False\\\\\n",
       "\t 108 & Lickitung              & Normal   &          & 385 &  90 &  55 & 75 &  60 & 75 &  30 & 1 & False\\\\\n",
       "\t 642 & ThundurusTherian Forme & Electric & Flying   & 580 &  79 & 105 & 70 & 145 & 80 & 101 & 5 & True \\\\\n",
       "\t 603 & Eelektrik              & Electric &          & 405 &  65 &  85 & 70 &  75 & 70 &  40 & 5 & False\\\\\n",
       "\\end{tabular}\n"
      ],
      "text/markdown": [
       "\n",
       "A data.frame: 10 × 13\n",
       "\n",
       "| X. &lt;int&gt; | Name &lt;chr&gt; | Type.1 &lt;chr&gt; | Type.2 &lt;chr&gt; | Total &lt;int&gt; | HP &lt;int&gt; | Attack &lt;int&gt; | Defense &lt;int&gt; | Sp..Atk &lt;int&gt; | Sp..Def &lt;int&gt; | Speed &lt;int&gt; | Generation &lt;int&gt; | Legendary &lt;chr&gt; |\n",
       "|---|---|---|---|---|---|---|---|---|---|---|---|---|\n",
       "|  37 | Vulpix                 | Fire     | <!----> | 299 |  38 |  41 | 40 |  50 | 65 |  65 | 1 | False |\n",
       "| 358 | Chimecho               | Psychic  | <!----> | 425 |  65 |  50 | 70 |  95 | 80 |  65 | 3 | False |\n",
       "| 325 | Spoink                 | Psychic  | <!----> | 330 |  60 |  25 | 35 |  70 | 80 |  60 | 3 | False |\n",
       "|   4 | Charmander             | Fire     | <!----> | 309 |  39 |  52 | 43 |  60 | 50 |  65 | 1 | False |\n",
       "| 158 | Totodile               | Water    | <!----> | 314 |  50 |  65 | 64 |  44 | 48 |  43 | 2 | False |\n",
       "| 115 | Kangaskhan             | Normal   | <!----> | 490 | 105 |  95 | 80 |  40 | 80 |  90 | 1 | False |\n",
       "| 647 | KeldeoResolute Forme   | Water    | Fighting | 580 |  91 |  72 | 90 | 129 | 90 | 108 | 5 | False |\n",
       "| 108 | Lickitung              | Normal   | <!----> | 385 |  90 |  55 | 75 |  60 | 75 |  30 | 1 | False |\n",
       "| 642 | ThundurusTherian Forme | Electric | Flying   | 580 |  79 | 105 | 70 | 145 | 80 | 101 | 5 | True  |\n",
       "| 603 | Eelektrik              | Electric | <!----> | 405 |  65 |  85 | 70 |  75 | 70 |  40 | 5 | False |\n",
       "\n"
      ],
      "text/plain": [
       "   X.  Name                   Type.1   Type.2   Total HP  Attack Defense\n",
       "1   37 Vulpix                 Fire              299    38  41    40     \n",
       "2  358 Chimecho               Psychic           425    65  50    70     \n",
       "3  325 Spoink                 Psychic           330    60  25    35     \n",
       "4    4 Charmander             Fire              309    39  52    43     \n",
       "5  158 Totodile               Water             314    50  65    64     \n",
       "6  115 Kangaskhan             Normal            490   105  95    80     \n",
       "7  647 KeldeoResolute Forme   Water    Fighting 580    91  72    90     \n",
       "8  108 Lickitung              Normal            385    90  55    75     \n",
       "9  642 ThundurusTherian Forme Electric Flying   580    79 105    70     \n",
       "10 603 Eelektrik              Electric          405    65  85    70     \n",
       "   Sp..Atk Sp..Def Speed Generation Legendary\n",
       "1   50     65       65   1          False    \n",
       "2   95     80       65   3          False    \n",
       "3   70     80       60   3          False    \n",
       "4   60     50       65   1          False    \n",
       "5   44     48       43   2          False    \n",
       "6   40     80       90   1          False    \n",
       "7  129     90      108   5          False    \n",
       "8   60     75       30   1          False    \n",
       "9  145     80      101   5          True     \n",
       "10  75     70       40   5          False    "
      ]
     },
     "metadata": {},
     "output_type": "display_data"
    }
   ],
   "source": [
    "sample_n(pokemon, 10)"
   ]
  },
  {
   "cell_type": "code",
   "execution_count": 57,
   "metadata": {},
   "outputs": [
    {
     "data": {
      "text/html": [
       "<table class=\"dataframe\">\n",
       "<caption>A data.frame: 4 × 13</caption>\n",
       "<thead>\n",
       "\t<tr><th scope=col>X.</th><th scope=col>Name</th><th scope=col>Type.1</th><th scope=col>Type.2</th><th scope=col>Total</th><th scope=col>HP</th><th scope=col>Attack</th><th scope=col>Defense</th><th scope=col>Sp..Atk</th><th scope=col>Sp..Def</th><th scope=col>Speed</th><th scope=col>Generation</th><th scope=col>Legendary</th></tr>\n",
       "\t<tr><th scope=col>&lt;int&gt;</th><th scope=col>&lt;chr&gt;</th><th scope=col>&lt;chr&gt;</th><th scope=col>&lt;chr&gt;</th><th scope=col>&lt;int&gt;</th><th scope=col>&lt;int&gt;</th><th scope=col>&lt;int&gt;</th><th scope=col>&lt;int&gt;</th><th scope=col>&lt;int&gt;</th><th scope=col>&lt;int&gt;</th><th scope=col>&lt;int&gt;</th><th scope=col>&lt;int&gt;</th><th scope=col>&lt;chr&gt;</th></tr>\n",
       "</thead>\n",
       "<tbody>\n",
       "\t<tr><td> 17</td><td>Pidgeotto            </td><td>Normal</td><td>Flying</td><td>349</td><td>63</td><td>60</td><td> 55</td><td> 50</td><td>50</td><td> 71</td><td>1</td><td>False</td></tr>\n",
       "\t<tr><td>711</td><td>GourgeistAverage Size</td><td>Ghost </td><td>Grass </td><td>494</td><td>65</td><td>90</td><td>122</td><td> 58</td><td>75</td><td> 84</td><td>6</td><td>False</td></tr>\n",
       "\t<tr><td>573</td><td>Cinccino             </td><td>Normal</td><td>      </td><td>470</td><td>75</td><td>95</td><td> 60</td><td> 65</td><td>60</td><td>115</td><td>5</td><td>False</td></tr>\n",
       "\t<tr><td>658</td><td>Greninja             </td><td>Water </td><td>Dark  </td><td>530</td><td>72</td><td>95</td><td> 67</td><td>103</td><td>71</td><td>122</td><td>6</td><td>False</td></tr>\n",
       "</tbody>\n",
       "</table>\n"
      ],
      "text/latex": [
       "A data.frame: 4 × 13\n",
       "\\begin{tabular}{lllllllllllll}\n",
       " X. & Name & Type.1 & Type.2 & Total & HP & Attack & Defense & Sp..Atk & Sp..Def & Speed & Generation & Legendary\\\\\n",
       " <int> & <chr> & <chr> & <chr> & <int> & <int> & <int> & <int> & <int> & <int> & <int> & <int> & <chr>\\\\\n",
       "\\hline\n",
       "\t  17 & Pidgeotto             & Normal & Flying & 349 & 63 & 60 &  55 &  50 & 50 &  71 & 1 & False\\\\\n",
       "\t 711 & GourgeistAverage Size & Ghost  & Grass  & 494 & 65 & 90 & 122 &  58 & 75 &  84 & 6 & False\\\\\n",
       "\t 573 & Cinccino              & Normal &        & 470 & 75 & 95 &  60 &  65 & 60 & 115 & 5 & False\\\\\n",
       "\t 658 & Greninja              & Water  & Dark   & 530 & 72 & 95 &  67 & 103 & 71 & 122 & 6 & False\\\\\n",
       "\\end{tabular}\n"
      ],
      "text/markdown": [
       "\n",
       "A data.frame: 4 × 13\n",
       "\n",
       "| X. &lt;int&gt; | Name &lt;chr&gt; | Type.1 &lt;chr&gt; | Type.2 &lt;chr&gt; | Total &lt;int&gt; | HP &lt;int&gt; | Attack &lt;int&gt; | Defense &lt;int&gt; | Sp..Atk &lt;int&gt; | Sp..Def &lt;int&gt; | Speed &lt;int&gt; | Generation &lt;int&gt; | Legendary &lt;chr&gt; |\n",
       "|---|---|---|---|---|---|---|---|---|---|---|---|---|\n",
       "|  17 | Pidgeotto             | Normal | Flying | 349 | 63 | 60 |  55 |  50 | 50 |  71 | 1 | False |\n",
       "| 711 | GourgeistAverage Size | Ghost  | Grass  | 494 | 65 | 90 | 122 |  58 | 75 |  84 | 6 | False |\n",
       "| 573 | Cinccino              | Normal | <!----> | 470 | 75 | 95 |  60 |  65 | 60 | 115 | 5 | False |\n",
       "| 658 | Greninja              | Water  | Dark   | 530 | 72 | 95 |  67 | 103 | 71 | 122 | 6 | False |\n",
       "\n"
      ],
      "text/plain": [
       "  X.  Name                  Type.1 Type.2 Total HP Attack Defense Sp..Atk\n",
       "1  17 Pidgeotto             Normal Flying 349   63 60      55      50    \n",
       "2 711 GourgeistAverage Size Ghost  Grass  494   65 90     122      58    \n",
       "3 573 Cinccino              Normal        470   75 95      60      65    \n",
       "4 658 Greninja              Water  Dark   530   72 95      67     103    \n",
       "  Sp..Def Speed Generation Legendary\n",
       "1 50       71   1          False    \n",
       "2 75       84   6          False    \n",
       "3 60      115   5          False    \n",
       "4 71      122   6          False    "
      ]
     },
     "metadata": {},
     "output_type": "display_data"
    }
   ],
   "source": [
    "sample_frac(pokemon, 0.005)"
   ]
  },
  {
   "cell_type": "code",
   "execution_count": 58,
   "metadata": {},
   "outputs": [
    {
     "data": {
      "text/html": [
       "<style>\n",
       ".list-inline {list-style: none; margin:0; padding: 0}\n",
       ".list-inline>li {display: inline-block}\n",
       ".list-inline>li:not(:last-child)::after {content: \"\\00b7\"; padding: 0 .5ex}\n",
       "</style>\n",
       "<ol class=list-inline><li>4</li><li>13</li></ol>\n"
      ],
      "text/latex": [
       "\\begin{enumerate*}\n",
       "\\item 4\n",
       "\\item 13\n",
       "\\end{enumerate*}\n"
      ],
      "text/markdown": [
       "1. 4\n",
       "2. 13\n",
       "\n",
       "\n"
      ],
      "text/plain": [
       "[1]  4 13"
      ]
     },
     "metadata": {},
     "output_type": "display_data"
    }
   ],
   "source": [
    "dim(sample_frac(pokemon, 0.005))"
   ]
  },
  {
   "cell_type": "code",
   "execution_count": 59,
   "metadata": {},
   "outputs": [
    {
     "data": {
      "text/html": [
       "<style>\n",
       ".list-inline {list-style: none; margin:0; padding: 0}\n",
       ".list-inline>li {display: inline-block}\n",
       ".list-inline>li:not(:last-child)::after {content: \"\\00b7\"; padding: 0 .5ex}\n",
       "</style>\n",
       "<ol class=list-inline><li>800</li><li>13</li></ol>\n"
      ],
      "text/latex": [
       "\\begin{enumerate*}\n",
       "\\item 800\n",
       "\\item 13\n",
       "\\end{enumerate*}\n"
      ],
      "text/markdown": [
       "1. 800\n",
       "2. 13\n",
       "\n",
       "\n"
      ],
      "text/plain": [
       "[1] 800  13"
      ]
     },
     "metadata": {},
     "output_type": "display_data"
    }
   ],
   "source": [
    "dim(pokemon)"
   ]
  },
  {
   "cell_type": "code",
   "execution_count": null,
   "metadata": {},
   "outputs": [],
   "source": []
  }
 ],
 "metadata": {
  "kernelspec": {
   "display_name": "R",
   "language": "R",
   "name": "ir"
  },
  "language_info": {
   "codemirror_mode": "r",
   "file_extension": ".r",
   "mimetype": "text/x-r-source",
   "name": "R",
   "pygments_lexer": "r",
   "version": "4.1.0"
  }
 },
 "nbformat": 4,
 "nbformat_minor": 4
}
